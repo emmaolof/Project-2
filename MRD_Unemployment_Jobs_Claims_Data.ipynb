{
 "cells": [
  {
   "cell_type": "markdown",
   "metadata": {},
   "source": [
    "***\n",
    "#### **Dependencies**"
   ]
  },
  {
   "cell_type": "code",
   "execution_count": 74,
   "metadata": {},
   "outputs": [],
   "source": [
    "import bls\n",
    "from blsconnect import RequestBLS, bls_search\n",
    "import pandas as pd\n",
    "from pandas import DataFrame, Series\n",
    "from bs4 import BeautifulSoup\n",
    "import requests\n",
    "import dateutil\n",
    "from datetime import datetime\n",
    "#import datetime\n",
    "import calendar\n",
    "dict((v,k) for k,v in enumerate(calendar.month_abbr)) #from dateutil.rrule import *\n",
    "#from dateutil.parser import *\n",
    "#from datetime import *\n",
    "import csv\n",
    "import numpy as np\n",
    "import matplotlib.pyplot as plt\n",
    "import matplotlib\n",
    "import json\n",
    "\n"
   ]
  },
  {
   "cell_type": "markdown",
   "metadata": {},
   "source": [
    "***\n",
    "#### **United States Weekly New Jobs Claims**\n",
    "***"
   ]
  },
  {
   "cell_type": "code",
   "execution_count": null,
   "metadata": {},
   "outputs": [],
   "source": [
    "US_weekly_new_jobs_claims = pd.read_csv(\"data/r539cy_BLS_Weekly_Jobs_Claims_US.csv\")\n",
    "US_weekly_new_jobs_claims.head(2)"
   ]
  },
  {
   "cell_type": "code",
   "execution_count": null,
   "metadata": {},
   "outputs": [],
   "source": [
    "#US_weekly_new_jobs_claims.to_json('json\\US_weekly_new_jobs_claims.json')"
   ]
  },
  {
   "cell_type": "code",
   "execution_count": null,
   "metadata": {},
   "outputs": [],
   "source": [
    "#from sqlalchemy import create_engine\n",
    "#db = create_engine('sqlite:///project2.sqlite')"
   ]
  },
  {
   "cell_type": "code",
   "execution_count": null,
   "metadata": {},
   "outputs": [],
   "source": [
    "#US_weekly_new_jobs_claims.to_sql('New_Jobs_Claims', con=db, if_exists='append')"
   ]
  },
  {
   "cell_type": "code",
   "execution_count": null,
   "metadata": {},
   "outputs": [],
   "source": [
    "#US_weekly_new_jobs_claims = pd.read_sql_query('SELECT * FROM New_Jobs_Claims LIMIT 3',db)\n",
    "#US_weekly_new_jobs_claims.head()"
   ]
  },
  {
   "cell_type": "markdown",
   "metadata": {},
   "source": [
    "***\n",
    "#### **Indiana Weekly New Jobs Claims**\n",
    "***"
   ]
  },
  {
   "cell_type": "code",
   "execution_count": null,
   "metadata": {},
   "outputs": [],
   "source": [
    "IN_weekly_new_jobs_claims = pd.read_csv(\"data/r539cy_BLS_Weekly_Jobs_Claims_Indiana.csv\")\n",
    "IN_weekly_new_jobs_claims.head(2)"
   ]
  },
  {
   "cell_type": "code",
   "execution_count": null,
   "metadata": {},
   "outputs": [],
   "source": [
    "#IN_weekly_new_jobs_claims.to_json('json\\IN_weekly_new_jobs_claims.json')"
   ]
  },
  {
   "cell_type": "code",
   "execution_count": null,
   "metadata": {},
   "outputs": [],
   "source": [
    "#IN_weekly_new_jobs_claims.to_sql('New_Jobs_Claims', con=db, if_exists='append')"
   ]
  },
  {
   "cell_type": "markdown",
   "metadata": {},
   "source": [
    "***\n",
    "#### **Marion County Weekly New Jobs Claims**\n",
    "***"
   ]
  },
  {
   "cell_type": "code",
   "execution_count": null,
   "metadata": {},
   "outputs": [],
   "source": [
    "MarionCo_weekly_new_jobs_claims = pd.read_csv(\"data/r539cy_BLS_Weekly_Jobs_Claims_IN_MarionCo.csv\")\n",
    "MarionCo_weekly_new_jobs_claims.head(2)"
   ]
  },
  {
   "cell_type": "code",
   "execution_count": null,
   "metadata": {},
   "outputs": [],
   "source": [
    "#MarionCo_weekly_new_jobs_claims.to_json('json\\MarionCo_weekly_new_jobs_claims.json')"
   ]
  },
  {
   "cell_type": "code",
   "execution_count": null,
   "metadata": {},
   "outputs": [],
   "source": [
    "#MarionCo_weekly_new_jobs_claims.to_sql('New_Jobs_Claims', con=db, if_exists='append')"
   ]
  },
  {
   "cell_type": "markdown",
   "metadata": {},
   "source": [
    "***\n",
    "#### **Monroe County Weekly New Jobs Claims**\n",
    "***"
   ]
  },
  {
   "cell_type": "code",
   "execution_count": null,
   "metadata": {},
   "outputs": [],
   "source": [
    "MonroeCo_weekly_new_jobs_claims = pd.read_csv(\"data/r539cy_BLS_Weekly_Jobs_Claims_IN_MonroeCo.csv\")\n",
    "MonroeCo_weekly_new_jobs_claims.head(2)"
   ]
  },
  {
   "cell_type": "code",
   "execution_count": null,
   "metadata": {},
   "outputs": [],
   "source": [
    "#MonroeCo_weekly_new_jobs_claims.to_json('json\\MonroeCo_weekly_new_jobs_claims.json')"
   ]
  },
  {
   "cell_type": "code",
   "execution_count": null,
   "metadata": {},
   "outputs": [],
   "source": [
    "#MonroeCo_weekly_new_jobs_claims.to_sql('New_Jobs_Claims', con=db, if_exists='append')"
   ]
  },
  {
   "cell_type": "markdown",
   "metadata": {},
   "source": [
    "***\n",
    "#### **St. Joseph County Weekly New Jobs Claims**\n",
    "***"
   ]
  },
  {
   "cell_type": "code",
   "execution_count": null,
   "metadata": {},
   "outputs": [],
   "source": [
    "StJosephCo_weekly_new_jobs_claims = pd.read_csv(\"data/r539cy_BLS_Weekly_Jobs_Claims_IN_StJosephCo.csv\")\n",
    "StJosephCo_weekly_new_jobs_claims.head(2)"
   ]
  },
  {
   "cell_type": "code",
   "execution_count": null,
   "metadata": {},
   "outputs": [],
   "source": [
    "#StJosephCo_weekly_new_jobs_claims.to_json('json\\StJosephCo_weekly_new_jobs_claims.json')"
   ]
  },
  {
   "cell_type": "code",
   "execution_count": null,
   "metadata": {},
   "outputs": [],
   "source": [
    "#StJosephCo_weekly_new_jobs_claims.to_sql('New_Jobs_Claims', con=db, if_exists='append')"
   ]
  },
  {
   "cell_type": "markdown",
   "metadata": {},
   "source": [
    "***\n",
    "#### **Henry County Weekly New Jobs Claims**\n",
    "***"
   ]
  },
  {
   "cell_type": "code",
   "execution_count": null,
   "metadata": {},
   "outputs": [],
   "source": [
    "HenryCo_weekly_new_jobs_claims = pd.read_csv(\"data/r539cy_BLS_Weekly_Jobs_Claims_IN_HenryCo.csv\")\n",
    "HenryCo_weekly_new_jobs_claims.head(2)"
   ]
  },
  {
   "cell_type": "code",
   "execution_count": null,
   "metadata": {},
   "outputs": [],
   "source": [
    "#HenryCo_weekly_new_jobs_claims.to_json('json\\HenryCo_weekly_new_jobs_claims.json')"
   ]
  },
  {
   "cell_type": "code",
   "execution_count": null,
   "metadata": {},
   "outputs": [],
   "source": [
    "#HenryCo_weekly_new_jobs_claims.to_sql('New_Jobs_Claims', con=db, if_exists='append')"
   ]
  }
 ],
 "metadata": {
  "kernelspec": {
   "display_name": "Python 3",
   "language": "python",
   "name": "python3"
  },
  "language_info": {
   "codemirror_mode": {
    "name": "ipython",
    "version": 3
   },
   "file_extension": ".py",
   "mimetype": "text/x-python",
   "name": "python",
   "nbconvert_exporter": "python",
   "pygments_lexer": "ipython3",
   "version": "3.7.4"
  }
 },
 "nbformat": 4,
 "nbformat_minor": 4
}
