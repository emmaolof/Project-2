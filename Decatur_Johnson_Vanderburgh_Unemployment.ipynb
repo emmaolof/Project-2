{
 "cells": [
  {
   "cell_type": "code",
   "execution_count": 1,
   "metadata": {},
   "outputs": [],
   "source": [
    "import bls\n",
    "from blsconnect import RequestBLS, bls_search\n",
    "import pandas as pd\n",
    "import json"
   ]
  },
  {
   "cell_type": "code",
   "execution_count": 2,
   "metadata": {},
   "outputs": [],
   "source": [
    "from config import BLS_API_KEY\n",
    "bls = RequestBLS(key = BLS_API_KEY)"
   ]
  },
  {
   "cell_type": "code",
   "execution_count": 3,
   "metadata": {},
   "outputs": [],
   "source": [
    "decatur_county = pd.DataFrame(bls.series(['LAUCN180310000000003','LAUCN180310000000004','LAUCN180310000000005','LAUCN180310000000006'], 2005, 2020))"
   ]
  },
  {
   "cell_type": "code",
   "execution_count": 4,
   "metadata": {},
   "outputs": [],
   "source": [
    "decatur_county.columns = ['Year','Period','periodName','Unemployment_Rate', 'Unemployed', 'Employed','Labor_Force']"
   ]
  },
  {
   "cell_type": "code",
   "execution_count": 5,
   "metadata": {},
   "outputs": [],
   "source": [
    "decatur_county['YearMonth'] = decatur_county[\"Year\"].astype(str) + \"-\" + decatur_county[\"periodName\"] \n",
    "decatur_county['County'] = 'Decatur'"
   ]
  },
  {
   "cell_type": "code",
   "execution_count": 6,
   "metadata": {},
   "outputs": [
    {
     "data": {
      "text/html": [
       "<div>\n",
       "<style scoped>\n",
       "    .dataframe tbody tr th:only-of-type {\n",
       "        vertical-align: middle;\n",
       "    }\n",
       "\n",
       "    .dataframe tbody tr th {\n",
       "        vertical-align: top;\n",
       "    }\n",
       "\n",
       "    .dataframe thead th {\n",
       "        text-align: right;\n",
       "    }\n",
       "</style>\n",
       "<table border=\"1\" class=\"dataframe\">\n",
       "  <thead>\n",
       "    <tr style=\"text-align: right;\">\n",
       "      <th></th>\n",
       "      <th>Year</th>\n",
       "      <th>Period</th>\n",
       "      <th>periodName</th>\n",
       "      <th>Unemployment_Rate</th>\n",
       "      <th>Unemployed</th>\n",
       "      <th>Employed</th>\n",
       "      <th>Labor_Force</th>\n",
       "      <th>YearMonth</th>\n",
       "      <th>County</th>\n",
       "    </tr>\n",
       "  </thead>\n",
       "  <tbody>\n",
       "    <tr>\n",
       "      <th>0</th>\n",
       "      <td>2005</td>\n",
       "      <td>M01</td>\n",
       "      <td>January</td>\n",
       "      <td>6.4</td>\n",
       "      <td>792</td>\n",
       "      <td>11674</td>\n",
       "      <td>12466</td>\n",
       "      <td>2005-January</td>\n",
       "      <td>Decatur</td>\n",
       "    </tr>\n",
       "    <tr>\n",
       "      <th>1</th>\n",
       "      <td>2005</td>\n",
       "      <td>M02</td>\n",
       "      <td>February</td>\n",
       "      <td>6.4</td>\n",
       "      <td>798</td>\n",
       "      <td>11741</td>\n",
       "      <td>12539</td>\n",
       "      <td>2005-February</td>\n",
       "      <td>Decatur</td>\n",
       "    </tr>\n",
       "    <tr>\n",
       "      <th>2</th>\n",
       "      <td>2005</td>\n",
       "      <td>M03</td>\n",
       "      <td>March</td>\n",
       "      <td>5.6</td>\n",
       "      <td>709</td>\n",
       "      <td>11898</td>\n",
       "      <td>12607</td>\n",
       "      <td>2005-March</td>\n",
       "      <td>Decatur</td>\n",
       "    </tr>\n",
       "    <tr>\n",
       "      <th>3</th>\n",
       "      <td>2005</td>\n",
       "      <td>M04</td>\n",
       "      <td>April</td>\n",
       "      <td>5.0</td>\n",
       "      <td>629</td>\n",
       "      <td>12036</td>\n",
       "      <td>12665</td>\n",
       "      <td>2005-April</td>\n",
       "      <td>Decatur</td>\n",
       "    </tr>\n",
       "    <tr>\n",
       "      <th>4</th>\n",
       "      <td>2005</td>\n",
       "      <td>M05</td>\n",
       "      <td>May</td>\n",
       "      <td>4.9</td>\n",
       "      <td>621</td>\n",
       "      <td>12075</td>\n",
       "      <td>12696</td>\n",
       "      <td>2005-May</td>\n",
       "      <td>Decatur</td>\n",
       "    </tr>\n",
       "  </tbody>\n",
       "</table>\n",
       "</div>"
      ],
      "text/plain": [
       "   Year Period periodName  Unemployment_Rate  Unemployed  Employed  \\\n",
       "0  2005    M01    January                6.4         792     11674   \n",
       "1  2005    M02   February                6.4         798     11741   \n",
       "2  2005    M03      March                5.6         709     11898   \n",
       "3  2005    M04      April                5.0         629     12036   \n",
       "4  2005    M05        May                4.9         621     12075   \n",
       "\n",
       "   Labor_Force      YearMonth   County  \n",
       "0        12466   2005-January  Decatur  \n",
       "1        12539  2005-February  Decatur  \n",
       "2        12607     2005-March  Decatur  \n",
       "3        12665     2005-April  Decatur  \n",
       "4        12696       2005-May  Decatur  "
      ]
     },
     "execution_count": 6,
     "metadata": {},
     "output_type": "execute_result"
    }
   ],
   "source": [
    "decatur_county.head()"
   ]
  },
  {
   "cell_type": "code",
   "execution_count": 40,
   "metadata": {},
   "outputs": [],
   "source": [
    "from sqlalchemy import create_engine\n",
    "db = create_engine('sqlite:///project2.sqlite')"
   ]
  },
  {
   "cell_type": "code",
   "execution_count": 41,
   "metadata": {},
   "outputs": [],
   "source": [
    "decatur_county.to_sql('CountyUnemployment', con=db, if_exists='append')"
   ]
  },
  {
   "cell_type": "code",
   "execution_count": 7,
   "metadata": {},
   "outputs": [],
   "source": [
    "decatur_county.to_json('static/data/Decatur_Co_unemployment_stats.json')"
   ]
  },
  {
   "cell_type": "code",
   "execution_count": 8,
   "metadata": {},
   "outputs": [],
   "source": [
    "johnson_county = pd.DataFrame(bls.series(['LAUCN180810000000003','LAUCN180810000000004','LAUCN180810000000005','LAUCN180810000000006'], 2005, 2020))"
   ]
  },
  {
   "cell_type": "code",
   "execution_count": 9,
   "metadata": {},
   "outputs": [],
   "source": [
    "johnson_county.columns = ['Year','Period','periodName','Unemployment_Rate', 'Unemployed', 'Employed','Labor_Force']"
   ]
  },
  {
   "cell_type": "code",
   "execution_count": 10,
   "metadata": {},
   "outputs": [],
   "source": [
    "johnson_county['YearMonth'] = johnson_county[\"Year\"].astype(str) + \"-\" + johnson_county[\"periodName\"] \n",
    "johnson_county['County'] = 'Johnson'"
   ]
  },
  {
   "cell_type": "code",
   "execution_count": 46,
   "metadata": {},
   "outputs": [],
   "source": [
    "johnson_county.to_sql('CountyUnemployment', con=db, if_exists='append')"
   ]
  },
  {
   "cell_type": "code",
   "execution_count": 11,
   "metadata": {},
   "outputs": [],
   "source": [
    "johnson_county.to_json('static/data/Johnson_Co_unemployment_stats.json')"
   ]
  },
  {
   "cell_type": "code",
   "execution_count": 12,
   "metadata": {},
   "outputs": [],
   "source": [
    "vanderburgh_county = pd.DataFrame(bls.series(['LAUCN181630000000003','LAUCN181630000000004','LAUCN181630000000005','LAUCN181630000000006'], 2005, 2020))"
   ]
  },
  {
   "cell_type": "code",
   "execution_count": 13,
   "metadata": {},
   "outputs": [],
   "source": [
    "vanderburgh_county.columns = ['Year','Period','periodName','Unemployment_Rate', 'Unemployed', 'Employed','Labor_Force']"
   ]
  },
  {
   "cell_type": "code",
   "execution_count": 14,
   "metadata": {},
   "outputs": [],
   "source": [
    "vanderburgh_county['YearMonth'] = vanderburgh_county[\"Year\"].astype(str) + \"-\" + vanderburgh_county[\"periodName\"] \n",
    "vanderburgh_county['County'] = 'Vanderburgh'"
   ]
  },
  {
   "cell_type": "code",
   "execution_count": 51,
   "metadata": {},
   "outputs": [],
   "source": [
    "vanderburgh_county.to_sql('CountyUnemployment', con=db, if_exists='append')"
   ]
  },
  {
   "cell_type": "code",
   "execution_count": 15,
   "metadata": {},
   "outputs": [],
   "source": [
    "vanderburgh_county.to_json('static/data/Vanderburgh_Co_unemployment_stats.json')"
   ]
  },
  {
   "cell_type": "code",
   "execution_count": null,
   "metadata": {},
   "outputs": [],
   "source": []
  }
 ],
 "metadata": {
  "kernelspec": {
   "display_name": "Python 3",
   "language": "python",
   "name": "python3"
  },
  "language_info": {
   "codemirror_mode": {
    "name": "ipython",
    "version": 3
   },
   "file_extension": ".py",
   "mimetype": "text/x-python",
   "name": "python",
   "nbconvert_exporter": "python",
   "pygments_lexer": "ipython3",
   "version": "3.7.6"
  }
 },
 "nbformat": 4,
 "nbformat_minor": 4
}
