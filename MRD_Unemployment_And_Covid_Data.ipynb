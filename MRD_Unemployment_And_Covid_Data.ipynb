{
 "cells": [
  {
   "cell_type": "markdown",
   "metadata": {},
   "source": [
    "* Indiana - LAUST180000000000003,LAUST180000000000004,LAUST180000000000005,LAUST180000000000006,LAUST180000000000007,LAUST180000000000008,LAUST180000000000009\n",
    "* Marion Co - LAUCN180970000000003, LAUCN180970000000004, LAUCN180970000000005, LAUCN180970000000006\n",
    "* Monroe Co - LAUCN181050000000003, LAUCN181050000000004, LAUCN181050000000005, LAUCN181050000000006\n",
    "* St. Joseph Co - LAUCN181410000000003, LAUCN181410000000004, LAUCN181410000000005, LAUCN181410000000006"
   ]
  },
  {
   "cell_type": "code",
   "execution_count": 7,
   "metadata": {},
   "outputs": [],
   "source": [
    "import bls\n",
    "import pandas as pd"
   ]
  },
  {
   "cell_type": "markdown",
   "metadata": {},
   "source": [
    "#### **United States Unemployment**"
   ]
  },
  {
   "cell_type": "code",
   "execution_count": 8,
   "metadata": {},
   "outputs": [],
   "source": [
    "US_monthly_unemployment_rate = pd.DataFrame(bls.get_series('LNS14000000', 2011, 2020))"
   ]
  },
  {
   "cell_type": "code",
   "execution_count": 9,
   "metadata": {},
   "outputs": [
    {
     "data": {
      "text/html": [
       "<div>\n",
       "<style scoped>\n",
       "    .dataframe tbody tr th:only-of-type {\n",
       "        vertical-align: middle;\n",
       "    }\n",
       "\n",
       "    .dataframe tbody tr th {\n",
       "        vertical-align: top;\n",
       "    }\n",
       "\n",
       "    .dataframe thead th {\n",
       "        text-align: right;\n",
       "    }\n",
       "</style>\n",
       "<table border=\"1\" class=\"dataframe\">\n",
       "  <thead>\n",
       "    <tr style=\"text-align: right;\">\n",
       "      <th></th>\n",
       "      <th>Unemployment Rate</th>\n",
       "    </tr>\n",
       "    <tr>\n",
       "      <th>Date</th>\n",
       "      <th></th>\n",
       "    </tr>\n",
       "  </thead>\n",
       "  <tbody>\n",
       "    <tr>\n",
       "      <td>2011-01</td>\n",
       "      <td>9.1</td>\n",
       "    </tr>\n",
       "    <tr>\n",
       "      <td>2011-02</td>\n",
       "      <td>9.0</td>\n",
       "    </tr>\n",
       "  </tbody>\n",
       "</table>\n",
       "</div>"
      ],
      "text/plain": [
       "         Unemployment Rate\n",
       "Date                      \n",
       "2011-01                9.1\n",
       "2011-02                9.0"
      ]
     },
     "execution_count": 9,
     "metadata": {},
     "output_type": "execute_result"
    }
   ],
   "source": [
    "US_monthly_unemployment_rate.index.names = ['Date']\n",
    "US_monthly_unemployment_rate.columns = ['Unemployment Rate']\n",
    "US_monthly_unemployment_rate.head(2)"
   ]
  },
  {
   "cell_type": "markdown",
   "metadata": {},
   "source": [
    "#### **Indiana Unemployment**"
   ]
  },
  {
   "cell_type": "code",
   "execution_count": 10,
   "metadata": {},
   "outputs": [],
   "source": [
    "Indiana_monthly_unemployment_stats = pd.DataFrame(bls.get_series(['LAUST180000000000003','LAUST180000000000004','LAUST180000000000005','LAUST180000000000006'\n",
    "                                                                  ,'LAUST180000000000007','LAUST180000000000008','LAUST180000000000009'], 2011, 2020))"
   ]
  },
  {
   "cell_type": "code",
   "execution_count": 11,
   "metadata": {},
   "outputs": [
    {
     "data": {
      "text/html": [
       "<div>\n",
       "<style scoped>\n",
       "    .dataframe tbody tr th:only-of-type {\n",
       "        vertical-align: middle;\n",
       "    }\n",
       "\n",
       "    .dataframe tbody tr th {\n",
       "        vertical-align: top;\n",
       "    }\n",
       "\n",
       "    .dataframe thead th {\n",
       "        text-align: right;\n",
       "    }\n",
       "</style>\n",
       "<table border=\"1\" class=\"dataframe\">\n",
       "  <thead>\n",
       "    <tr style=\"text-align: right;\">\n",
       "      <th></th>\n",
       "      <th>Unemployment Rate</th>\n",
       "      <th>Unemployed</th>\n",
       "      <th>Employed</th>\n",
       "      <th>Labr Force</th>\n",
       "      <th>Employement-Population Ratio</th>\n",
       "      <th>Labor Force Participation Rate</th>\n",
       "      <th>Civilian Noninstitutional Population</th>\n",
       "    </tr>\n",
       "    <tr>\n",
       "      <th>Date</th>\n",
       "      <th></th>\n",
       "      <th></th>\n",
       "      <th></th>\n",
       "      <th></th>\n",
       "      <th></th>\n",
       "      <th></th>\n",
       "      <th></th>\n",
       "    </tr>\n",
       "  </thead>\n",
       "  <tbody>\n",
       "    <tr>\n",
       "      <td>2011-01</td>\n",
       "      <td>10.0</td>\n",
       "      <td>312687.0</td>\n",
       "      <td>2827588.0</td>\n",
       "      <td>3140275.0</td>\n",
       "      <td>56.7</td>\n",
       "      <td>62.9</td>\n",
       "      <td>4988647.0</td>\n",
       "    </tr>\n",
       "    <tr>\n",
       "      <td>2011-02</td>\n",
       "      <td>9.6</td>\n",
       "      <td>301388.0</td>\n",
       "      <td>2832204.0</td>\n",
       "      <td>3133592.0</td>\n",
       "      <td>56.7</td>\n",
       "      <td>62.8</td>\n",
       "      <td>4990729.0</td>\n",
       "    </tr>\n",
       "  </tbody>\n",
       "</table>\n",
       "</div>"
      ],
      "text/plain": [
       "         Unemployment Rate  Unemployed   Employed  Labr Force  \\\n",
       "Date                                                            \n",
       "2011-01               10.0    312687.0  2827588.0   3140275.0   \n",
       "2011-02                9.6    301388.0  2832204.0   3133592.0   \n",
       "\n",
       "         Employement-Population Ratio  Labor Force Participation Rate  \\\n",
       "Date                                                                    \n",
       "2011-01                          56.7                            62.9   \n",
       "2011-02                          56.7                            62.8   \n",
       "\n",
       "         Civilian Noninstitutional Population  \n",
       "Date                                           \n",
       "2011-01                             4988647.0  \n",
       "2011-02                             4990729.0  "
      ]
     },
     "execution_count": 11,
     "metadata": {},
     "output_type": "execute_result"
    }
   ],
   "source": [
    "Indiana_monthly_unemployment_stats.index.names = ['Date']\n",
    "Indiana_monthly_unemployment_stats.columns = ['Unemployment Rate','Unemployed','Employed','Labr Force','Employement-Population Ratio','Labor Force Participation Rate','Civilian Noninstitutional Population']\n",
    "Indiana_monthly_unemployment_stats.head(2)"
   ]
  },
  {
   "cell_type": "markdown",
   "metadata": {},
   "source": [
    "#### **Monroe Co Unemployment**"
   ]
  },
  {
   "cell_type": "code",
   "execution_count": 12,
   "metadata": {},
   "outputs": [],
   "source": [
    "Monroe_Co_unemployment_stats = pd.DataFrame(bls.get_series(['LAUCN181050000000003', 'LAUCN181050000000004', 'LAUCN181050000000005', 'LAUCN181050000000006'], 2011, 2020))"
   ]
  },
  {
   "cell_type": "code",
   "execution_count": 13,
   "metadata": {},
   "outputs": [
    {
     "data": {
      "text/html": [
       "<div>\n",
       "<style scoped>\n",
       "    .dataframe tbody tr th:only-of-type {\n",
       "        vertical-align: middle;\n",
       "    }\n",
       "\n",
       "    .dataframe tbody tr th {\n",
       "        vertical-align: top;\n",
       "    }\n",
       "\n",
       "    .dataframe thead th {\n",
       "        text-align: right;\n",
       "    }\n",
       "</style>\n",
       "<table border=\"1\" class=\"dataframe\">\n",
       "  <thead>\n",
       "    <tr style=\"text-align: right;\">\n",
       "      <th></th>\n",
       "      <th>Unemployment Rate</th>\n",
       "      <th>Unemployed</th>\n",
       "      <th>Employed</th>\n",
       "      <th>Labor Force</th>\n",
       "    </tr>\n",
       "    <tr>\n",
       "      <th>Date</th>\n",
       "      <th></th>\n",
       "      <th></th>\n",
       "      <th></th>\n",
       "      <th></th>\n",
       "    </tr>\n",
       "  </thead>\n",
       "  <tbody>\n",
       "    <tr>\n",
       "      <td>2011-01</td>\n",
       "      <td>7.3</td>\n",
       "      <td>4911.0</td>\n",
       "      <td>62412.0</td>\n",
       "      <td>67323.0</td>\n",
       "    </tr>\n",
       "    <tr>\n",
       "      <td>2011-02</td>\n",
       "      <td>7.4</td>\n",
       "      <td>4960.0</td>\n",
       "      <td>62423.0</td>\n",
       "      <td>67383.0</td>\n",
       "    </tr>\n",
       "  </tbody>\n",
       "</table>\n",
       "</div>"
      ],
      "text/plain": [
       "         Unemployment Rate  Unemployed  Employed  Labor Force\n",
       "Date                                                         \n",
       "2011-01                7.3      4911.0   62412.0      67323.0\n",
       "2011-02                7.4      4960.0   62423.0      67383.0"
      ]
     },
     "execution_count": 13,
     "metadata": {},
     "output_type": "execute_result"
    }
   ],
   "source": [
    "Monroe_Co_unemployment_stats.index.names = ['Date']\n",
    "Monroe_Co_unemployment_stats.columns = ['Unemployment Rate', 'Unemployed', 'Employed','Labor Force']\n",
    "Monroe_Co_unemployment_stats.head(2)"
   ]
  },
  {
   "cell_type": "markdown",
   "metadata": {},
   "source": [
    "#### **Marion Co Unemployment**"
   ]
  },
  {
   "cell_type": "code",
   "execution_count": 14,
   "metadata": {},
   "outputs": [],
   "source": [
    "Marion_Co_unemployment_stats = pd.DataFrame(bls.get_series(['LAUCN180970000000003', 'LAUCN180970000000004', 'LAUCN180970000000005', 'LAUCN180970000000006'], 2011, 2020))"
   ]
  },
  {
   "cell_type": "code",
   "execution_count": 15,
   "metadata": {},
   "outputs": [
    {
     "data": {
      "text/html": [
       "<div>\n",
       "<style scoped>\n",
       "    .dataframe tbody tr th:only-of-type {\n",
       "        vertical-align: middle;\n",
       "    }\n",
       "\n",
       "    .dataframe tbody tr th {\n",
       "        vertical-align: top;\n",
       "    }\n",
       "\n",
       "    .dataframe thead th {\n",
       "        text-align: right;\n",
       "    }\n",
       "</style>\n",
       "<table border=\"1\" class=\"dataframe\">\n",
       "  <thead>\n",
       "    <tr style=\"text-align: right;\">\n",
       "      <th></th>\n",
       "      <th>Unemployment Rate</th>\n",
       "      <th>Unemployed</th>\n",
       "      <th>Employed</th>\n",
       "      <th>Labor Force</th>\n",
       "    </tr>\n",
       "    <tr>\n",
       "      <th>Date</th>\n",
       "      <th></th>\n",
       "      <th></th>\n",
       "      <th></th>\n",
       "      <th></th>\n",
       "    </tr>\n",
       "  </thead>\n",
       "  <tbody>\n",
       "    <tr>\n",
       "      <td>2011-01</td>\n",
       "      <td>10.4</td>\n",
       "      <td>46303.0</td>\n",
       "      <td>399851.0</td>\n",
       "      <td>446154.0</td>\n",
       "    </tr>\n",
       "    <tr>\n",
       "      <td>2011-02</td>\n",
       "      <td>10.2</td>\n",
       "      <td>45301.0</td>\n",
       "      <td>399023.0</td>\n",
       "      <td>444324.0</td>\n",
       "    </tr>\n",
       "  </tbody>\n",
       "</table>\n",
       "</div>"
      ],
      "text/plain": [
       "         Unemployment Rate  Unemployed  Employed  Labor Force\n",
       "Date                                                         \n",
       "2011-01               10.4     46303.0  399851.0     446154.0\n",
       "2011-02               10.2     45301.0  399023.0     444324.0"
      ]
     },
     "execution_count": 15,
     "metadata": {},
     "output_type": "execute_result"
    }
   ],
   "source": [
    "Marion_Co_unemployment_stats.index.names = ['Date']\n",
    "Marion_Co_unemployment_stats.columns = ['Unemployment Rate', 'Unemployed', 'Employed','Labor Force']\n",
    "Marion_Co_unemployment_stats.head(2)"
   ]
  },
  {
   "cell_type": "markdown",
   "metadata": {},
   "source": [
    "#### **St. Joseph Co Unemployment**"
   ]
  },
  {
   "cell_type": "code",
   "execution_count": 16,
   "metadata": {},
   "outputs": [],
   "source": [
    "StJospeh_Co_unemployment_stats = pd.DataFrame(bls.get_series(['LAUCN181410000000003', 'LAUCN181410000000004', 'LAUCN181410000000005', 'LAUCN181410000000006'], 2011, 2020))"
   ]
  },
  {
   "cell_type": "code",
   "execution_count": 17,
   "metadata": {},
   "outputs": [
    {
     "data": {
      "text/html": [
       "<div>\n",
       "<style scoped>\n",
       "    .dataframe tbody tr th:only-of-type {\n",
       "        vertical-align: middle;\n",
       "    }\n",
       "\n",
       "    .dataframe tbody tr th {\n",
       "        vertical-align: top;\n",
       "    }\n",
       "\n",
       "    .dataframe thead th {\n",
       "        text-align: right;\n",
       "    }\n",
       "</style>\n",
       "<table border=\"1\" class=\"dataframe\">\n",
       "  <thead>\n",
       "    <tr style=\"text-align: right;\">\n",
       "      <th></th>\n",
       "      <th>Unemployment Rate</th>\n",
       "      <th>Unemployed</th>\n",
       "      <th>Employed</th>\n",
       "      <th>Labor Force</th>\n",
       "    </tr>\n",
       "    <tr>\n",
       "      <th>Date</th>\n",
       "      <th></th>\n",
       "      <th></th>\n",
       "      <th></th>\n",
       "      <th></th>\n",
       "    </tr>\n",
       "  </thead>\n",
       "  <tbody>\n",
       "    <tr>\n",
       "      <td>2011-01</td>\n",
       "      <td>10.7</td>\n",
       "      <td>13786.0</td>\n",
       "      <td>115236.0</td>\n",
       "      <td>129022.0</td>\n",
       "    </tr>\n",
       "    <tr>\n",
       "      <td>2011-02</td>\n",
       "      <td>10.4</td>\n",
       "      <td>13450.0</td>\n",
       "      <td>116073.0</td>\n",
       "      <td>129523.0</td>\n",
       "    </tr>\n",
       "    <tr>\n",
       "      <td>2011-03</td>\n",
       "      <td>10.1</td>\n",
       "      <td>13178.0</td>\n",
       "      <td>116833.0</td>\n",
       "      <td>130011.0</td>\n",
       "    </tr>\n",
       "  </tbody>\n",
       "</table>\n",
       "</div>"
      ],
      "text/plain": [
       "         Unemployment Rate  Unemployed  Employed  Labor Force\n",
       "Date                                                         \n",
       "2011-01               10.7     13786.0  115236.0     129022.0\n",
       "2011-02               10.4     13450.0  116073.0     129523.0\n",
       "2011-03               10.1     13178.0  116833.0     130011.0"
      ]
     },
     "execution_count": 17,
     "metadata": {},
     "output_type": "execute_result"
    }
   ],
   "source": [
    "StJospeh_Co_unemployment_stats.index.names = ['Date']\n",
    "StJospeh_Co_unemployment_stats.columns = ['Unemployment Rate', 'Unemployed', 'Employed','Labor Force']\n",
    "StJospeh_Co_unemployment_stats.head(3)"
   ]
  },
  {
   "cell_type": "markdown",
   "metadata": {},
   "source": [
    "***\n",
    "#### **United States Weekly New Jobs Claims**\n",
    "***"
   ]
  },
  {
   "cell_type": "code",
   "execution_count": 25,
   "metadata": {},
   "outputs": [
    {
     "data": {
      "text/html": [
       "<div>\n",
       "<style scoped>\n",
       "    .dataframe tbody tr th:only-of-type {\n",
       "        vertical-align: middle;\n",
       "    }\n",
       "\n",
       "    .dataframe tbody tr th {\n",
       "        vertical-align: top;\n",
       "    }\n",
       "\n",
       "    .dataframe thead th {\n",
       "        text-align: right;\n",
       "    }\n",
       "</style>\n",
       "<table border=\"1\" class=\"dataframe\">\n",
       "  <thead>\n",
       "    <tr style=\"text-align: right;\">\n",
       "      <th></th>\n",
       "      <th>Date</th>\n",
       "      <th>Weekly Jobs Claims</th>\n",
       "    </tr>\n",
       "  </thead>\n",
       "  <tbody>\n",
       "    <tr>\n",
       "      <td>0</td>\n",
       "      <td>1/7/1967</td>\n",
       "      <td>208,000</td>\n",
       "    </tr>\n",
       "    <tr>\n",
       "      <td>1</td>\n",
       "      <td>1/14/1967</td>\n",
       "      <td>207,000</td>\n",
       "    </tr>\n",
       "  </tbody>\n",
       "</table>\n",
       "</div>"
      ],
      "text/plain": [
       "        Date Weekly Jobs Claims\n",
       "0   1/7/1967            208,000\n",
       "1  1/14/1967            207,000"
      ]
     },
     "execution_count": 25,
     "metadata": {},
     "output_type": "execute_result"
    }
   ],
   "source": [
    "US_weekly_new_jobs_claims = pd.read_csv(\"data/r539cy_BLS_Weekly_Jobs_Claims_US.csv\")\n",
    "US_weekly_new_jobs_claims.head(2)"
   ]
  },
  {
   "cell_type": "markdown",
   "metadata": {},
   "source": [
    "***\n",
    "#### **Indiana Weekly New Jobs Claims**\n",
    "***"
   ]
  },
  {
   "cell_type": "code",
   "execution_count": 24,
   "metadata": {},
   "outputs": [
    {
     "data": {
      "text/html": [
       "<div>\n",
       "<style scoped>\n",
       "    .dataframe tbody tr th:only-of-type {\n",
       "        vertical-align: middle;\n",
       "    }\n",
       "\n",
       "    .dataframe tbody tr th {\n",
       "        vertical-align: top;\n",
       "    }\n",
       "\n",
       "    .dataframe thead th {\n",
       "        text-align: right;\n",
       "    }\n",
       "</style>\n",
       "<table border=\"1\" class=\"dataframe\">\n",
       "  <thead>\n",
       "    <tr style=\"text-align: right;\">\n",
       "      <th></th>\n",
       "      <th>State</th>\n",
       "      <th>Filed week ended</th>\n",
       "      <th>Initial Claims</th>\n",
       "      <th>Reflecting Week Ended</th>\n",
       "      <th>Continued Claims</th>\n",
       "      <th>Covered Employment</th>\n",
       "      <th>Insured Unemployment Rate</th>\n",
       "    </tr>\n",
       "  </thead>\n",
       "  <tbody>\n",
       "    <tr>\n",
       "      <td>0</td>\n",
       "      <td>Indiana</td>\n",
       "      <td>1987-01-03</td>\n",
       "      <td>10,068</td>\n",
       "      <td>1986-12-27</td>\n",
       "      <td>47,604</td>\n",
       "      <td>2,065,922</td>\n",
       "      <td>2.30</td>\n",
       "    </tr>\n",
       "    <tr>\n",
       "      <td>1</td>\n",
       "      <td>Indiana</td>\n",
       "      <td>1987-01-10</td>\n",
       "      <td>16,812</td>\n",
       "      <td>1987-01-03</td>\n",
       "      <td>63,290</td>\n",
       "      <td>2,078,050</td>\n",
       "      <td>3.05</td>\n",
       "    </tr>\n",
       "  </tbody>\n",
       "</table>\n",
       "</div>"
      ],
      "text/plain": [
       "     State Filed week ended Initial Claims Reflecting Week Ended  \\\n",
       "0  Indiana       1987-01-03         10,068            1986-12-27   \n",
       "1  Indiana       1987-01-10         16,812            1987-01-03   \n",
       "\n",
       "  Continued Claims Covered Employment  Insured Unemployment Rate  \n",
       "0           47,604          2,065,922                       2.30  \n",
       "1           63,290          2,078,050                       3.05  "
      ]
     },
     "execution_count": 24,
     "metadata": {},
     "output_type": "execute_result"
    }
   ],
   "source": [
    "IN_weekly_new_jobs_claims = pd.read_csv(\"data/r539cy_BLS_Weekly_Jobs_Claims_Indiana.csv\")\n",
    "IN_weekly_new_jobs_claims.head(2)"
   ]
  },
  {
   "cell_type": "markdown",
   "metadata": {},
   "source": [
    "***\n",
    "#### **Marion County Weekly New Jobs Claims**\n",
    "***"
   ]
  },
  {
   "cell_type": "code",
   "execution_count": 19,
   "metadata": {},
   "outputs": [
    {
     "data": {
      "text/html": [
       "<div>\n",
       "<style scoped>\n",
       "    .dataframe tbody tr th:only-of-type {\n",
       "        vertical-align: middle;\n",
       "    }\n",
       "\n",
       "    .dataframe tbody tr th {\n",
       "        vertical-align: top;\n",
       "    }\n",
       "\n",
       "    .dataframe thead th {\n",
       "        text-align: right;\n",
       "    }\n",
       "</style>\n",
       "<table border=\"1\" class=\"dataframe\">\n",
       "  <thead>\n",
       "    <tr style=\"text-align: right;\">\n",
       "      <th></th>\n",
       "      <th>Geography</th>\n",
       "      <th>Date</th>\n",
       "      <th>Initial Claims</th>\n",
       "    </tr>\n",
       "  </thead>\n",
       "  <tbody>\n",
       "    <tr>\n",
       "      <td>0</td>\n",
       "      <td>Marion County, IN</td>\n",
       "      <td>3/7/2020</td>\n",
       "      <td>298</td>\n",
       "    </tr>\n",
       "    <tr>\n",
       "      <td>1</td>\n",
       "      <td>Marion County, IN</td>\n",
       "      <td>3/14/2020</td>\n",
       "      <td>425</td>\n",
       "    </tr>\n",
       "  </tbody>\n",
       "</table>\n",
       "</div>"
      ],
      "text/plain": [
       "           Geography       Date Initial Claims\n",
       "0  Marion County, IN   3/7/2020            298\n",
       "1  Marion County, IN  3/14/2020            425"
      ]
     },
     "execution_count": 19,
     "metadata": {},
     "output_type": "execute_result"
    }
   ],
   "source": [
    "MarionCo_weekly_new_jobs_claims = pd.read_csv(\"data/r539cy_BLS_Weekly_Jobs_Claims_IN_MarionCo.csv\")\n",
    "MarionCo_weekly_new_jobs_claims.head(2)"
   ]
  },
  {
   "cell_type": "code",
   "execution_count": null,
   "metadata": {},
   "outputs": [],
   "source": []
  },
  {
   "cell_type": "markdown",
   "metadata": {},
   "source": [
    "***\n",
    "#### **Monroe County Weekly New Jobs Claims**\n",
    "***"
   ]
  },
  {
   "cell_type": "code",
   "execution_count": 20,
   "metadata": {},
   "outputs": [
    {
     "data": {
      "text/html": [
       "<div>\n",
       "<style scoped>\n",
       "    .dataframe tbody tr th:only-of-type {\n",
       "        vertical-align: middle;\n",
       "    }\n",
       "\n",
       "    .dataframe tbody tr th {\n",
       "        vertical-align: top;\n",
       "    }\n",
       "\n",
       "    .dataframe thead th {\n",
       "        text-align: right;\n",
       "    }\n",
       "</style>\n",
       "<table border=\"1\" class=\"dataframe\">\n",
       "  <thead>\n",
       "    <tr style=\"text-align: right;\">\n",
       "      <th></th>\n",
       "      <th>Geography</th>\n",
       "      <th>Date</th>\n",
       "      <th>Initial Claims</th>\n",
       "    </tr>\n",
       "  </thead>\n",
       "  <tbody>\n",
       "    <tr>\n",
       "      <td>0</td>\n",
       "      <td>Monroe County, IN</td>\n",
       "      <td>2020-03-07</td>\n",
       "      <td>21</td>\n",
       "    </tr>\n",
       "    <tr>\n",
       "      <td>1</td>\n",
       "      <td>Monroe County, IN</td>\n",
       "      <td>2020-03-14</td>\n",
       "      <td>18</td>\n",
       "    </tr>\n",
       "  </tbody>\n",
       "</table>\n",
       "</div>"
      ],
      "text/plain": [
       "           Geography        Date Initial Claims\n",
       "0  Monroe County, IN  2020-03-07             21\n",
       "1  Monroe County, IN  2020-03-14             18"
      ]
     },
     "execution_count": 20,
     "metadata": {},
     "output_type": "execute_result"
    }
   ],
   "source": [
    "MonroeCo_weekly_new_jobs_claims = pd.read_csv(\"data/r539cy_BLS_Weekly_Jobs_Claims_IN_MonroeCo.csv\")\n",
    "MonroeCo_weekly_new_jobs_claims.head(2)"
   ]
  },
  {
   "cell_type": "code",
   "execution_count": null,
   "metadata": {},
   "outputs": [],
   "source": []
  },
  {
   "cell_type": "markdown",
   "metadata": {},
   "source": [
    "***\n",
    "#### **St. Joseph County Weekly New Jobs Claims**\n",
    "***"
   ]
  },
  {
   "cell_type": "code",
   "execution_count": 21,
   "metadata": {},
   "outputs": [
    {
     "data": {
      "text/html": [
       "<div>\n",
       "<style scoped>\n",
       "    .dataframe tbody tr th:only-of-type {\n",
       "        vertical-align: middle;\n",
       "    }\n",
       "\n",
       "    .dataframe tbody tr th {\n",
       "        vertical-align: top;\n",
       "    }\n",
       "\n",
       "    .dataframe thead th {\n",
       "        text-align: right;\n",
       "    }\n",
       "</style>\n",
       "<table border=\"1\" class=\"dataframe\">\n",
       "  <thead>\n",
       "    <tr style=\"text-align: right;\">\n",
       "      <th></th>\n",
       "      <th>Geography</th>\n",
       "      <th>Date</th>\n",
       "      <th>Initial Claims</th>\n",
       "    </tr>\n",
       "  </thead>\n",
       "  <tbody>\n",
       "    <tr>\n",
       "      <td>0</td>\n",
       "      <td>St. Joseph County, IN</td>\n",
       "      <td>2020-03-07</td>\n",
       "      <td>110</td>\n",
       "    </tr>\n",
       "    <tr>\n",
       "      <td>1</td>\n",
       "      <td>St. Joseph County, IN</td>\n",
       "      <td>2020-03-14</td>\n",
       "      <td>113</td>\n",
       "    </tr>\n",
       "  </tbody>\n",
       "</table>\n",
       "</div>"
      ],
      "text/plain": [
       "               Geography        Date Initial Claims\n",
       "0  St. Joseph County, IN  2020-03-07            110\n",
       "1  St. Joseph County, IN  2020-03-14            113"
      ]
     },
     "execution_count": 21,
     "metadata": {},
     "output_type": "execute_result"
    }
   ],
   "source": [
    "StJosephCo_weekly_new_jobs_claims = pd.read_csv(\"data/r539cy_BLS_Weekly_Jobs_Claims_IN_StJosephCo.csv\")\n",
    "StJosephCo_weekly_new_jobs_claims.head(2)"
   ]
  },
  {
   "cell_type": "code",
   "execution_count": null,
   "metadata": {},
   "outputs": [],
   "source": []
  },
  {
   "cell_type": "markdown",
   "metadata": {},
   "source": [
    "***\n",
    "#### **Henry County Weekly New Jobs Claims**\n",
    "***"
   ]
  },
  {
   "cell_type": "code",
   "execution_count": 22,
   "metadata": {},
   "outputs": [
    {
     "data": {
      "text/html": [
       "<div>\n",
       "<style scoped>\n",
       "    .dataframe tbody tr th:only-of-type {\n",
       "        vertical-align: middle;\n",
       "    }\n",
       "\n",
       "    .dataframe tbody tr th {\n",
       "        vertical-align: top;\n",
       "    }\n",
       "\n",
       "    .dataframe thead th {\n",
       "        text-align: right;\n",
       "    }\n",
       "</style>\n",
       "<table border=\"1\" class=\"dataframe\">\n",
       "  <thead>\n",
       "    <tr style=\"text-align: right;\">\n",
       "      <th></th>\n",
       "      <th>Geography</th>\n",
       "      <th>Date</th>\n",
       "      <th>Initial Claims</th>\n",
       "    </tr>\n",
       "  </thead>\n",
       "  <tbody>\n",
       "    <tr>\n",
       "      <td>0</td>\n",
       "      <td>Henry County, IN</td>\n",
       "      <td>3/7/2020</td>\n",
       "      <td>10</td>\n",
       "    </tr>\n",
       "    <tr>\n",
       "      <td>1</td>\n",
       "      <td>Henry County, IN</td>\n",
       "      <td>3/14/2020</td>\n",
       "      <td>14</td>\n",
       "    </tr>\n",
       "  </tbody>\n",
       "</table>\n",
       "</div>"
      ],
      "text/plain": [
       "          Geography       Date  Initial Claims\n",
       "0  Henry County, IN   3/7/2020              10\n",
       "1  Henry County, IN  3/14/2020              14"
      ]
     },
     "execution_count": 22,
     "metadata": {},
     "output_type": "execute_result"
    }
   ],
   "source": [
    "HenryCo_weekly_new_jobs_claims = pd.read_csv(\"data/r539cy_BLS_Weekly_Jobs_Claims_IN_HenryCo.csv\")\n",
    "HenryCo_weekly_new_jobs_claims.head(2)"
   ]
  },
  {
   "cell_type": "code",
   "execution_count": null,
   "metadata": {},
   "outputs": [],
   "source": []
  },
  {
   "cell_type": "code",
   "execution_count": null,
   "metadata": {},
   "outputs": [],
   "source": []
  },
  {
   "cell_type": "code",
   "execution_count": null,
   "metadata": {},
   "outputs": [],
   "source": []
  },
  {
   "cell_type": "code",
   "execution_count": null,
   "metadata": {},
   "outputs": [],
   "source": []
  }
 ],
 "metadata": {
  "kernelspec": {
   "display_name": "Python 3",
   "language": "python",
   "name": "python3"
  },
  "language_info": {
   "codemirror_mode": {
    "name": "ipython",
    "version": 3
   },
   "file_extension": ".py",
   "mimetype": "text/x-python",
   "name": "python",
   "nbconvert_exporter": "python",
   "pygments_lexer": "ipython3",
   "version": "3.7.4"
  }
 },
 "nbformat": 4,
 "nbformat_minor": 4
}
