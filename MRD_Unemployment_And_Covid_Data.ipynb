{
 "cells": [
  {
   "cell_type": "markdown",
   "metadata": {},
   "source": [
    "* Indiana - LAUST180000000000003,LAUST180000000000004,LAUST180000000000005,LAUST180000000000006,LAUST180000000000007,LAUST180000000000008,LAUST180000000000009\n",
    "* Marion Co - LAUCN180970000000003, LAUCN180970000000004, LAUCN180970000000005, LAUCN180970000000006\n",
    "* Monroe Co - LAUCN181050000000003, LAUCN181050000000004, LAUCN181050000000005, LAUCN181050000000006\n",
    "* St. Joseph Co - LAUCN181410000000003, LAUCN181410000000004, LAUCN181410000000005, LAUCN181410000000006"
   ]
  },
  {
   "cell_type": "code",
   "execution_count": 19,
   "metadata": {},
   "outputs": [],
   "source": [
    "import bls\n",
    "import pandas as pd"
   ]
  },
  {
   "cell_type": "markdown",
   "metadata": {},
   "source": [
    "#### **United States Unemployment**"
   ]
  },
  {
   "cell_type": "code",
   "execution_count": 32,
   "metadata": {},
   "outputs": [],
   "source": [
    "US_monthly_unemployment_rate = pd.DataFrame(bls.get_series('LNS14000000', 2011, 2020))"
   ]
  },
  {
   "cell_type": "code",
   "execution_count": 56,
   "metadata": {},
   "outputs": [
    {
     "data": {
      "text/html": [
       "<div>\n",
       "<style scoped>\n",
       "    .dataframe tbody tr th:only-of-type {\n",
       "        vertical-align: middle;\n",
       "    }\n",
       "\n",
       "    .dataframe tbody tr th {\n",
       "        vertical-align: top;\n",
       "    }\n",
       "\n",
       "    .dataframe thead th {\n",
       "        text-align: right;\n",
       "    }\n",
       "</style>\n",
       "<table border=\"1\" class=\"dataframe\">\n",
       "  <thead>\n",
       "    <tr style=\"text-align: right;\">\n",
       "      <th></th>\n",
       "      <th>Unemployment Rate</th>\n",
       "    </tr>\n",
       "    <tr>\n",
       "      <th>Date</th>\n",
       "      <th></th>\n",
       "    </tr>\n",
       "  </thead>\n",
       "  <tbody>\n",
       "    <tr>\n",
       "      <td>2011-01</td>\n",
       "      <td>9.1</td>\n",
       "    </tr>\n",
       "    <tr>\n",
       "      <td>2011-02</td>\n",
       "      <td>9.0</td>\n",
       "    </tr>\n",
       "  </tbody>\n",
       "</table>\n",
       "</div>"
      ],
      "text/plain": [
       "         Unemployment Rate\n",
       "Date                      \n",
       "2011-01                9.1\n",
       "2011-02                9.0"
      ]
     },
     "execution_count": 56,
     "metadata": {},
     "output_type": "execute_result"
    }
   ],
   "source": [
    "US_monthly_unemployment_rate.index.names = ['Date']\n",
    "US_monthly_unemployment_rate.columns = ['Unemployment Rate']\n",
    "US_monthly_unemployment_rate.head(2)"
   ]
  },
  {
   "cell_type": "markdown",
   "metadata": {},
   "source": [
    "#### **Indiana Unemployment**"
   ]
  },
  {
   "cell_type": "code",
   "execution_count": 62,
   "metadata": {},
   "outputs": [],
   "source": [
    "Indiana_monthly_unemployment_stats = pd.DataFrame(bls.get_series(['LAUST180000000000003','LAUST180000000000004','LAUST180000000000005','LAUST180000000000006'\n",
    "                                                                  ,'LAUST180000000000007','LAUST180000000000008','LAUST180000000000009'], 2011, 2020))"
   ]
  },
  {
   "cell_type": "code",
   "execution_count": 66,
   "metadata": {},
   "outputs": [
    {
     "data": {
      "text/html": [
       "<div>\n",
       "<style scoped>\n",
       "    .dataframe tbody tr th:only-of-type {\n",
       "        vertical-align: middle;\n",
       "    }\n",
       "\n",
       "    .dataframe tbody tr th {\n",
       "        vertical-align: top;\n",
       "    }\n",
       "\n",
       "    .dataframe thead th {\n",
       "        text-align: right;\n",
       "    }\n",
       "</style>\n",
       "<table border=\"1\" class=\"dataframe\">\n",
       "  <thead>\n",
       "    <tr style=\"text-align: right;\">\n",
       "      <th></th>\n",
       "      <th>Unemployment Rate</th>\n",
       "      <th>Unemployed</th>\n",
       "      <th>Employed</th>\n",
       "      <th>Labr Force</th>\n",
       "      <th>Employement-Population Ratio</th>\n",
       "      <th>Labor Force Participation Rate</th>\n",
       "      <th>Civilian Noninstitutional Population</th>\n",
       "    </tr>\n",
       "    <tr>\n",
       "      <th>Date</th>\n",
       "      <th></th>\n",
       "      <th></th>\n",
       "      <th></th>\n",
       "      <th></th>\n",
       "      <th></th>\n",
       "      <th></th>\n",
       "      <th></th>\n",
       "    </tr>\n",
       "  </thead>\n",
       "  <tbody>\n",
       "    <tr>\n",
       "      <td>2011-01</td>\n",
       "      <td>10.0</td>\n",
       "      <td>312687.0</td>\n",
       "      <td>2827588.0</td>\n",
       "      <td>3140275.0</td>\n",
       "      <td>56.7</td>\n",
       "      <td>62.9</td>\n",
       "      <td>4988647.0</td>\n",
       "    </tr>\n",
       "    <tr>\n",
       "      <td>2011-02</td>\n",
       "      <td>9.6</td>\n",
       "      <td>301388.0</td>\n",
       "      <td>2832204.0</td>\n",
       "      <td>3133592.0</td>\n",
       "      <td>56.7</td>\n",
       "      <td>62.8</td>\n",
       "      <td>4990729.0</td>\n",
       "    </tr>\n",
       "  </tbody>\n",
       "</table>\n",
       "</div>"
      ],
      "text/plain": [
       "         Unemployment Rate  Unemployed   Employed  Labr Force  \\\n",
       "Date                                                            \n",
       "2011-01               10.0    312687.0  2827588.0   3140275.0   \n",
       "2011-02                9.6    301388.0  2832204.0   3133592.0   \n",
       "\n",
       "         Employement-Population Ratio  Labor Force Participation Rate  \\\n",
       "Date                                                                    \n",
       "2011-01                          56.7                            62.9   \n",
       "2011-02                          56.7                            62.8   \n",
       "\n",
       "         Civilian Noninstitutional Population  \n",
       "Date                                           \n",
       "2011-01                             4988647.0  \n",
       "2011-02                             4990729.0  "
      ]
     },
     "execution_count": 66,
     "metadata": {},
     "output_type": "execute_result"
    }
   ],
   "source": [
    "Indiana_monthly_unemployment_stats.index.names = ['Date']\n",
    "Indiana_monthly_unemployment_stats.columns = ['Unemployment Rate','Unemployed','Employed','Labr Force','Employement-Population Ratio','Labor Force Participation Rate','Civilian Noninstitutional Population']\n",
    "Indiana_monthly_unemployment_stats.head(2)"
   ]
  },
  {
   "cell_type": "markdown",
   "metadata": {},
   "source": [
    "#### **Monroe Co Unemployment**"
   ]
  },
  {
   "cell_type": "code",
   "execution_count": 48,
   "metadata": {},
   "outputs": [],
   "source": [
    "Monroe_Co_unemployment_stats = pd.DataFrame(bls.get_series(['LAUCN181050000000003', 'LAUCN181050000000004', 'LAUCN181050000000005', 'LAUCN181050000000006'], 2011, 2020))"
   ]
  },
  {
   "cell_type": "code",
   "execution_count": 55,
   "metadata": {},
   "outputs": [
    {
     "data": {
      "text/html": [
       "<div>\n",
       "<style scoped>\n",
       "    .dataframe tbody tr th:only-of-type {\n",
       "        vertical-align: middle;\n",
       "    }\n",
       "\n",
       "    .dataframe tbody tr th {\n",
       "        vertical-align: top;\n",
       "    }\n",
       "\n",
       "    .dataframe thead th {\n",
       "        text-align: right;\n",
       "    }\n",
       "</style>\n",
       "<table border=\"1\" class=\"dataframe\">\n",
       "  <thead>\n",
       "    <tr style=\"text-align: right;\">\n",
       "      <th></th>\n",
       "      <th>Unemployment Rate</th>\n",
       "      <th>Unemployed</th>\n",
       "      <th>Employed</th>\n",
       "      <th>Labor Force</th>\n",
       "    </tr>\n",
       "    <tr>\n",
       "      <th>Date</th>\n",
       "      <th></th>\n",
       "      <th></th>\n",
       "      <th></th>\n",
       "      <th></th>\n",
       "    </tr>\n",
       "  </thead>\n",
       "  <tbody>\n",
       "    <tr>\n",
       "      <td>2011-01</td>\n",
       "      <td>7.3</td>\n",
       "      <td>4911.0</td>\n",
       "      <td>62412.0</td>\n",
       "      <td>67323.0</td>\n",
       "    </tr>\n",
       "    <tr>\n",
       "      <td>2011-02</td>\n",
       "      <td>7.4</td>\n",
       "      <td>4960.0</td>\n",
       "      <td>62423.0</td>\n",
       "      <td>67383.0</td>\n",
       "    </tr>\n",
       "  </tbody>\n",
       "</table>\n",
       "</div>"
      ],
      "text/plain": [
       "         Unemployment Rate  Unemployed  Employed  Labor Force\n",
       "Date                                                         \n",
       "2011-01                7.3      4911.0   62412.0      67323.0\n",
       "2011-02                7.4      4960.0   62423.0      67383.0"
      ]
     },
     "execution_count": 55,
     "metadata": {},
     "output_type": "execute_result"
    }
   ],
   "source": [
    "Monroe_Co_unemployment_stats.index.names = ['Date']\n",
    "Monroe_Co_unemployment_stats.columns = ['Unemployment Rate', 'Unemployed', 'Employed','Labor Force']\n",
    "Monroe_Co_unemployment_stats.head(2)"
   ]
  },
  {
   "cell_type": "markdown",
   "metadata": {},
   "source": [
    "#### **Marion Co Unemployment**"
   ]
  },
  {
   "cell_type": "code",
   "execution_count": 58,
   "metadata": {},
   "outputs": [],
   "source": [
    "Marion_Co_unemployment_stats = pd.DataFrame(bls.get_series(['LAUCN180970000000003', 'LAUCN180970000000004', 'LAUCN180970000000005', 'LAUCN180970000000006'], 2011, 2020))"
   ]
  },
  {
   "cell_type": "code",
   "execution_count": 59,
   "metadata": {},
   "outputs": [
    {
     "data": {
      "text/html": [
       "<div>\n",
       "<style scoped>\n",
       "    .dataframe tbody tr th:only-of-type {\n",
       "        vertical-align: middle;\n",
       "    }\n",
       "\n",
       "    .dataframe tbody tr th {\n",
       "        vertical-align: top;\n",
       "    }\n",
       "\n",
       "    .dataframe thead th {\n",
       "        text-align: right;\n",
       "    }\n",
       "</style>\n",
       "<table border=\"1\" class=\"dataframe\">\n",
       "  <thead>\n",
       "    <tr style=\"text-align: right;\">\n",
       "      <th></th>\n",
       "      <th>Unemployment Rate</th>\n",
       "      <th>Unemployed</th>\n",
       "      <th>Employed</th>\n",
       "      <th>Labor Force</th>\n",
       "    </tr>\n",
       "    <tr>\n",
       "      <th>Date</th>\n",
       "      <th></th>\n",
       "      <th></th>\n",
       "      <th></th>\n",
       "      <th></th>\n",
       "    </tr>\n",
       "  </thead>\n",
       "  <tbody>\n",
       "    <tr>\n",
       "      <td>2011-01</td>\n",
       "      <td>10.4</td>\n",
       "      <td>46303.0</td>\n",
       "      <td>399851.0</td>\n",
       "      <td>446154.0</td>\n",
       "    </tr>\n",
       "    <tr>\n",
       "      <td>2011-02</td>\n",
       "      <td>10.2</td>\n",
       "      <td>45301.0</td>\n",
       "      <td>399023.0</td>\n",
       "      <td>444324.0</td>\n",
       "    </tr>\n",
       "  </tbody>\n",
       "</table>\n",
       "</div>"
      ],
      "text/plain": [
       "         Unemployment Rate  Unemployed  Employed  Labor Force\n",
       "Date                                                         \n",
       "2011-01               10.4     46303.0  399851.0     446154.0\n",
       "2011-02               10.2     45301.0  399023.0     444324.0"
      ]
     },
     "execution_count": 59,
     "metadata": {},
     "output_type": "execute_result"
    }
   ],
   "source": [
    "Marion_Co_unemployment_stats.index.names = ['Date']\n",
    "Marion_Co_unemployment_stats.columns = ['Unemployment Rate', 'Unemployed', 'Employed','Labor Force']\n",
    "Marion_Co_unemployment_stats.head(2)"
   ]
  },
  {
   "cell_type": "markdown",
   "metadata": {},
   "source": [
    "#### **St. Joseph Co Unemployment**"
   ]
  },
  {
   "cell_type": "code",
   "execution_count": 60,
   "metadata": {},
   "outputs": [],
   "source": [
    "StJospeh_Co_unemployment_stats = pd.DataFrame(bls.get_series(['LAUCN181410000000003', 'LAUCN181410000000004', 'LAUCN181410000000005', 'LAUCN181410000000006'], 2011, 2020))"
   ]
  },
  {
   "cell_type": "code",
   "execution_count": 61,
   "metadata": {},
   "outputs": [
    {
     "data": {
      "text/html": [
       "<div>\n",
       "<style scoped>\n",
       "    .dataframe tbody tr th:only-of-type {\n",
       "        vertical-align: middle;\n",
       "    }\n",
       "\n",
       "    .dataframe tbody tr th {\n",
       "        vertical-align: top;\n",
       "    }\n",
       "\n",
       "    .dataframe thead th {\n",
       "        text-align: right;\n",
       "    }\n",
       "</style>\n",
       "<table border=\"1\" class=\"dataframe\">\n",
       "  <thead>\n",
       "    <tr style=\"text-align: right;\">\n",
       "      <th></th>\n",
       "      <th>Unemployment Rate</th>\n",
       "      <th>Unemployed</th>\n",
       "      <th>Employed</th>\n",
       "      <th>Labor Force</th>\n",
       "    </tr>\n",
       "    <tr>\n",
       "      <th>Date</th>\n",
       "      <th></th>\n",
       "      <th></th>\n",
       "      <th></th>\n",
       "      <th></th>\n",
       "    </tr>\n",
       "  </thead>\n",
       "  <tbody>\n",
       "    <tr>\n",
       "      <td>2011-01</td>\n",
       "      <td>10.7</td>\n",
       "      <td>13786.0</td>\n",
       "      <td>115236.0</td>\n",
       "      <td>129022.0</td>\n",
       "    </tr>\n",
       "    <tr>\n",
       "      <td>2011-02</td>\n",
       "      <td>10.4</td>\n",
       "      <td>13450.0</td>\n",
       "      <td>116073.0</td>\n",
       "      <td>129523.0</td>\n",
       "    </tr>\n",
       "  </tbody>\n",
       "</table>\n",
       "</div>"
      ],
      "text/plain": [
       "         Unemployment Rate  Unemployed  Employed  Labor Force\n",
       "Date                                                         \n",
       "2011-01               10.7     13786.0  115236.0     129022.0\n",
       "2011-02               10.4     13450.0  116073.0     129523.0"
      ]
     },
     "execution_count": 61,
     "metadata": {},
     "output_type": "execute_result"
    }
   ],
   "source": [
    "StJospeh_Co_unemployment_stats.index.names = ['Date']\n",
    "StJospeh_Co_unemployment_stats.columns = ['Unemployment Rate', 'Unemployed', 'Employed','Labor Force']\n",
    "StJospeh_Co_unemployment_stats.head(2)"
   ]
  },
  {
   "cell_type": "code",
   "execution_count": null,
   "metadata": {},
   "outputs": [],
   "source": []
  }
 ],
 "metadata": {
  "kernelspec": {
   "display_name": "Python 3",
   "language": "python",
   "name": "python3"
  },
  "language_info": {
   "codemirror_mode": {
    "name": "ipython",
    "version": 3
   },
   "file_extension": ".py",
   "mimetype": "text/x-python",
   "name": "python",
   "nbconvert_exporter": "python",
   "pygments_lexer": "ipython3",
   "version": "3.7.4"
  }
 },
 "nbformat": 4,
 "nbformat_minor": 4
}
