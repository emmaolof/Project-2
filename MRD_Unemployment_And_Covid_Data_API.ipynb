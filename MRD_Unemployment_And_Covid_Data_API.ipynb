{
 "cells": [
  {
   "cell_type": "markdown",
   "metadata": {},
   "source": [
    "* Indiana - LAUST180000000000003,LAUST180000000000004,LAUST180000000000005,LAUST180000000000006,LAUST180000000000007,LAUST180000000000008,LAUST180000000000009\n",
    "* Marion Co - LAUCN180970000000003, LAUCN180970000000004, LAUCN180970000000005, LAUCN180970000000006\n",
    "* Monroe Co - LAUCN181050000000003, LAUCN181050000000004, LAUCN181050000000005, LAUCN181050000000006\n",
    "* St. Joseph Co - LAUCN181410000000003, LAUCN181410000000004, LAUCN181410000000005, LAUCN181410000000006"
   ]
  },
  {
   "cell_type": "markdown",
   "metadata": {},
   "source": [
    "***\n",
    "#### **Dependencies**"
   ]
  },
  {
   "cell_type": "code",
   "execution_count": 25,
   "metadata": {},
   "outputs": [],
   "source": [
    "import bls\n",
    "from blsconnect import RequestBLS, bls_search\n",
    "import pandas as pd\n",
    "from pandas import DataFrame, Series\n",
    "from bs4 import BeautifulSoup\n",
    "import requests\n",
    "import dateutil\n",
    "from datetime import datetime\n",
    "#import datetime\n",
    "import calendar\n",
    "dict((v,k) for k,v in enumerate(calendar.month_abbr)) #from dateutil.rrule import *\n",
    "#from dateutil.parser import *\n",
    "#from datetime import *\n",
    "import csv\n",
    "import numpy as np\n",
    "import matplotlib.pyplot as plt\n",
    "import matplotlib\n",
    "import json\n",
    "\n"
   ]
  },
  {
   "cell_type": "markdown",
   "metadata": {},
   "source": [
    "***\n",
    "#### **U.S. BLS API KEY**"
   ]
  },
  {
   "cell_type": "code",
   "execution_count": 26,
   "metadata": {},
   "outputs": [],
   "source": [
    "from config import BLS_API_KEY\n",
    "bls = RequestBLS(key = BLS_API_KEY)"
   ]
  },
  {
   "cell_type": "markdown",
   "metadata": {},
   "source": [
    "***\n",
    "#### **United States Unemployment**"
   ]
  },
  {
   "cell_type": "code",
   "execution_count": 27,
   "metadata": {},
   "outputs": [],
   "source": [
    "US_monthly_unemployment_rate_A = pd.DataFrame(bls.series(['LNS14000000'], 1948, 2020))"
   ]
  },
  {
   "cell_type": "code",
   "execution_count": 28,
   "metadata": {},
   "outputs": [
    {
     "data": {
      "text/plain": [
       "Index(['year', 'period', 'periodName', 'LNS14000000'], dtype='object')"
      ]
     },
     "execution_count": 28,
     "metadata": {},
     "output_type": "execute_result"
    }
   ],
   "source": [
    "US_monthly_unemployment_rate_A.columns"
   ]
  },
  {
   "cell_type": "code",
   "execution_count": 29,
   "metadata": {},
   "outputs": [
    {
     "data": {
      "text/html": [
       "<div>\n",
       "<style scoped>\n",
       "    .dataframe tbody tr th:only-of-type {\n",
       "        vertical-align: middle;\n",
       "    }\n",
       "\n",
       "    .dataframe tbody tr th {\n",
       "        vertical-align: top;\n",
       "    }\n",
       "\n",
       "    .dataframe thead th {\n",
       "        text-align: right;\n",
       "    }\n",
       "</style>\n",
       "<table border=\"1\" class=\"dataframe\">\n",
       "  <thead>\n",
       "    <tr style=\"text-align: right;\">\n",
       "      <th></th>\n",
       "      <th>year</th>\n",
       "      <th>period</th>\n",
       "      <th>periodName</th>\n",
       "      <th>LNS14000000</th>\n",
       "    </tr>\n",
       "  </thead>\n",
       "  <tbody>\n",
       "    <tr>\n",
       "      <td>0</td>\n",
       "      <td>1948</td>\n",
       "      <td>M01</td>\n",
       "      <td>January</td>\n",
       "      <td>3.4</td>\n",
       "    </tr>\n",
       "    <tr>\n",
       "      <td>1</td>\n",
       "      <td>1948</td>\n",
       "      <td>M02</td>\n",
       "      <td>February</td>\n",
       "      <td>3.8</td>\n",
       "    </tr>\n",
       "  </tbody>\n",
       "</table>\n",
       "</div>"
      ],
      "text/plain": [
       "   year period periodName  LNS14000000\n",
       "0  1948    M01    January          3.4\n",
       "1  1948    M02   February          3.8"
      ]
     },
     "execution_count": 29,
     "metadata": {},
     "output_type": "execute_result"
    }
   ],
   "source": [
    "US_monthly_unemployment_rate_A.head(2)"
   ]
  },
  {
   "cell_type": "code",
   "execution_count": 30,
   "metadata": {},
   "outputs": [],
   "source": [
    "#US_monthly_unemployment_rate.to_csv(\"temporary\")"
   ]
  },
  {
   "cell_type": "code",
   "execution_count": 31,
   "metadata": {},
   "outputs": [],
   "source": [
    "#tempA = pd.read_csv(\"temporary\")"
   ]
  },
  {
   "cell_type": "code",
   "execution_count": 32,
   "metadata": {},
   "outputs": [
    {
     "data": {
      "text/html": [
       "<div>\n",
       "<style scoped>\n",
       "    .dataframe tbody tr th:only-of-type {\n",
       "        vertical-align: middle;\n",
       "    }\n",
       "\n",
       "    .dataframe tbody tr th {\n",
       "        vertical-align: top;\n",
       "    }\n",
       "\n",
       "    .dataframe thead th {\n",
       "        text-align: right;\n",
       "    }\n",
       "</style>\n",
       "<table border=\"1\" class=\"dataframe\">\n",
       "  <thead>\n",
       "    <tr style=\"text-align: right;\">\n",
       "      <th></th>\n",
       "      <th>year</th>\n",
       "      <th>period</th>\n",
       "      <th>periodName</th>\n",
       "      <th>LNS14000000</th>\n",
       "    </tr>\n",
       "  </thead>\n",
       "  <tbody>\n",
       "    <tr>\n",
       "      <td>0</td>\n",
       "      <td>1948</td>\n",
       "      <td>M01</td>\n",
       "      <td>January</td>\n",
       "      <td>3.4</td>\n",
       "    </tr>\n",
       "    <tr>\n",
       "      <td>1</td>\n",
       "      <td>1948</td>\n",
       "      <td>M02</td>\n",
       "      <td>February</td>\n",
       "      <td>3.8</td>\n",
       "    </tr>\n",
       "  </tbody>\n",
       "</table>\n",
       "</div>"
      ],
      "text/plain": [
       "   year period periodName  LNS14000000\n",
       "0  1948    M01    January          3.4\n",
       "1  1948    M02   February          3.8"
      ]
     },
     "execution_count": 32,
     "metadata": {},
     "output_type": "execute_result"
    }
   ],
   "source": [
    "US_monthly_unemployment_rate_A.head(2)"
   ]
  },
  {
   "cell_type": "code",
   "execution_count": 33,
   "metadata": {},
   "outputs": [
    {
     "data": {
      "text/plain": [
       "year             int64\n",
       "period          object\n",
       "periodName      object\n",
       "LNS14000000    float64\n",
       "dtype: object"
      ]
     },
     "execution_count": 33,
     "metadata": {},
     "output_type": "execute_result"
    }
   ],
   "source": [
    "US_monthly_unemployment_rate_A.dtypes"
   ]
  },
  {
   "cell_type": "code",
   "execution_count": 34,
   "metadata": {},
   "outputs": [
    {
     "data": {
      "text/plain": [
       "Index(['year', 'period', 'periodName', 'LNS14000000', 'temp_date', 'Month'], dtype='object')"
      ]
     },
     "execution_count": 34,
     "metadata": {},
     "output_type": "execute_result"
    }
   ],
   "source": [
    "US_monthly_unemployment_rate_A['temp_date'] = pd.to_datetime(US_monthly_unemployment_rate_A['periodName'], format='%B')\n",
    "US_monthly_unemployment_rate_A['Month'] = US_monthly_unemployment_rate_A['temp_date'].dt.strftime('%m')\n",
    "US_monthly_unemployment_rate_C = US_monthly_unemployment_rate_A\n",
    "US_monthly_unemployment_rate_C.columns"
   ]
  },
  {
   "cell_type": "code",
   "execution_count": 72,
   "metadata": {},
   "outputs": [
    {
     "data": {
      "text/plain": [
       "Year                   int64\n",
       "Unemployment Rate    float64\n",
       "Month                 object\n",
       "dtype: object"
      ]
     },
     "execution_count": 72,
     "metadata": {},
     "output_type": "execute_result"
    }
   ],
   "source": [
    "US_monthly_unemployment_rate_C.columns = ['Year','Period','periodName','Unemployment Rate','temp_date','Month']\n",
    "US_monthly_unemployment_rate_D = US_monthly_unemployment_rate_C.drop(['Period','periodName','temp_date'], axis=1)\n",
    "US_monthly_unemployment_rate_D.dtypes"
   ]
  },
  {
   "cell_type": "code",
   "execution_count": 73,
   "metadata": {},
   "outputs": [
    {
     "data": {
      "text/html": [
       "<div>\n",
       "<style scoped>\n",
       "    .dataframe tbody tr th:only-of-type {\n",
       "        vertical-align: middle;\n",
       "    }\n",
       "\n",
       "    .dataframe tbody tr th {\n",
       "        vertical-align: top;\n",
       "    }\n",
       "\n",
       "    .dataframe thead th {\n",
       "        text-align: right;\n",
       "    }\n",
       "</style>\n",
       "<table border=\"1\" class=\"dataframe\">\n",
       "  <thead>\n",
       "    <tr style=\"text-align: right;\">\n",
       "      <th></th>\n",
       "      <th>Year</th>\n",
       "      <th>Unemployment Rate</th>\n",
       "      <th>Month</th>\n",
       "      <th>Year-Month</th>\n",
       "    </tr>\n",
       "  </thead>\n",
       "  <tbody>\n",
       "    <tr>\n",
       "      <td>0</td>\n",
       "      <td>1948</td>\n",
       "      <td>3.4</td>\n",
       "      <td>01</td>\n",
       "      <td>1948-01</td>\n",
       "    </tr>\n",
       "    <tr>\n",
       "      <td>1</td>\n",
       "      <td>1948</td>\n",
       "      <td>3.8</td>\n",
       "      <td>02</td>\n",
       "      <td>1948-02</td>\n",
       "    </tr>\n",
       "  </tbody>\n",
       "</table>\n",
       "</div>"
      ],
      "text/plain": [
       "   Year  Unemployment Rate Month Year-Month\n",
       "0  1948                3.4    01    1948-01\n",
       "1  1948                3.8    02    1948-02"
      ]
     },
     "execution_count": 73,
     "metadata": {},
     "output_type": "execute_result"
    }
   ],
   "source": [
    "US_monthly_unemployment_rate_E = US_monthly_unemployment_rate_D\n",
    "US_monthly_unemployment_rate_E['Year-Month'] = US_monthly_unemployment_rate_E[\"Year\"].astype(str) + \"-\" + US_monthly_unemployment_rate_E[\"Month\"] \n",
    "US_monthly_unemployment_rate_E.head(2)"
   ]
  },
  {
   "cell_type": "code",
   "execution_count": 74,
   "metadata": {},
   "outputs": [
    {
     "data": {
      "text/plain": [
       "Year                   int64\n",
       "Unemployment Rate    float64\n",
       "Month                 object\n",
       "Year-Month            object\n",
       "dtype: object"
      ]
     },
     "execution_count": 74,
     "metadata": {},
     "output_type": "execute_result"
    }
   ],
   "source": [
    "US_monthly_unemployment_rate_E.dtypes"
   ]
  },
  {
   "cell_type": "code",
   "execution_count": 75,
   "metadata": {},
   "outputs": [],
   "source": [
    "US_monthly_unemployment_rate_D.to_json(r'json\\US_monthly_unemployment_rate.json')"
   ]
  },
  {
   "cell_type": "code",
   "execution_count": 38,
   "metadata": {},
   "outputs": [
    {
     "data": {
      "text/plain": [
       "\"\\nUS_monthly_unemployment_rate_A.index.names = ['Date']\\nUS_monthly_unemployment_rate_B = US_monthly_unemployment_rate_A.sort_values(by='Date', ascending=True)\\nUS_monthly_unemployment_rate_B.columns = ['Unemployment Rate']\\nUS_monthly_unemployment_rate = US_monthly_unemployment_rate_B\\nUS_monthly_unemployment_rate.head(2)\\n\""
      ]
     },
     "execution_count": 38,
     "metadata": {},
     "output_type": "execute_result"
    }
   ],
   "source": [
    "\"\"\"\n",
    "US_monthly_unemployment_rate_A.index.names = ['Date']\n",
    "US_monthly_unemployment_rate_B = US_monthly_unemployment_rate_A.sort_values(by='Date', ascending=True)\n",
    "US_monthly_unemployment_rate_B.columns = ['Unemployment Rate']\n",
    "US_monthly_unemployment_rate = US_monthly_unemployment_rate_B\n",
    "US_monthly_unemployment_rate.head(2)\n",
    "\"\"\""
   ]
  },
  {
   "cell_type": "markdown",
   "metadata": {},
   "source": [
    "#### **Indiana Unemployment**"
   ]
  },
  {
   "cell_type": "code",
   "execution_count": 39,
   "metadata": {},
   "outputs": [],
   "source": [
    "Indiana_monthly_unemployment_stats = pd.DataFrame(bls.series(['LAUST180000000000003','LAUST180000000000004','LAUST180000000000005','LAUST180000000000006'\n",
    "                                                              ,'LAUST180000000000007','LAUST180000000000008','LAUST180000000000009'], 1990, 2020))"
   ]
  },
  {
   "cell_type": "code",
   "execution_count": 40,
   "metadata": {},
   "outputs": [
    {
     "data": {
      "text/html": [
       "<div>\n",
       "<style scoped>\n",
       "    .dataframe tbody tr th:only-of-type {\n",
       "        vertical-align: middle;\n",
       "    }\n",
       "\n",
       "    .dataframe tbody tr th {\n",
       "        vertical-align: top;\n",
       "    }\n",
       "\n",
       "    .dataframe thead th {\n",
       "        text-align: right;\n",
       "    }\n",
       "</style>\n",
       "<table border=\"1\" class=\"dataframe\">\n",
       "  <thead>\n",
       "    <tr style=\"text-align: right;\">\n",
       "      <th></th>\n",
       "      <th>Year</th>\n",
       "      <th>Period</th>\n",
       "      <th>periodName</th>\n",
       "      <th>Unemployment Rate</th>\n",
       "      <th>Unemployed</th>\n",
       "      <th>Employed</th>\n",
       "      <th>Labr Force</th>\n",
       "      <th>Employement-Population Ratio</th>\n",
       "      <th>Labor Force Participation Rate</th>\n",
       "      <th>Civilian Noninstitutional Population</th>\n",
       "    </tr>\n",
       "  </thead>\n",
       "  <tbody>\n",
       "    <tr>\n",
       "      <td>0</td>\n",
       "      <td>1990</td>\n",
       "      <td>M01</td>\n",
       "      <td>January</td>\n",
       "      <td>5.8</td>\n",
       "      <td>163676</td>\n",
       "      <td>2655784</td>\n",
       "      <td>2819460</td>\n",
       "      <td>64.4</td>\n",
       "      <td>68.4</td>\n",
       "      <td>4124937</td>\n",
       "    </tr>\n",
       "    <tr>\n",
       "      <td>1</td>\n",
       "      <td>1990</td>\n",
       "      <td>M02</td>\n",
       "      <td>February</td>\n",
       "      <td>6.1</td>\n",
       "      <td>170367</td>\n",
       "      <td>2640518</td>\n",
       "      <td>2810885</td>\n",
       "      <td>63.8</td>\n",
       "      <td>67.9</td>\n",
       "      <td>4137185</td>\n",
       "    </tr>\n",
       "  </tbody>\n",
       "</table>\n",
       "</div>"
      ],
      "text/plain": [
       "   Year Period periodName  Unemployment Rate  Unemployed  Employed  \\\n",
       "0  1990    M01    January                5.8      163676   2655784   \n",
       "1  1990    M02   February                6.1      170367   2640518   \n",
       "\n",
       "   Labr Force  Employement-Population Ratio  Labor Force Participation Rate  \\\n",
       "0     2819460                          64.4                            68.4   \n",
       "1     2810885                          63.8                            67.9   \n",
       "\n",
       "   Civilian Noninstitutional Population  \n",
       "0                               4124937  \n",
       "1                               4137185  "
      ]
     },
     "execution_count": 40,
     "metadata": {},
     "output_type": "execute_result"
    }
   ],
   "source": [
    "#Indiana_monthly_unemployment_stats.index.names = ['Date']\n",
    "Indiana_monthly_unemployment_stats.columns = ['Year','Period','periodName','Unemployment Rate','Unemployed','Employed','Labr Force'\n",
    "                                              ,'Employement-Population Ratio','Labor Force Participation Rate','Civilian Noninstitutional Population']\n",
    "Indiana_monthly_unemployment_stats.to_json(r'json\\Indiana_monthly_unemployment_stats.json')\n",
    "Indiana_monthly_unemployment_stats.head(2)"
   ]
  },
  {
   "cell_type": "markdown",
   "metadata": {},
   "source": [
    "#### **Monroe Co Unemployment**"
   ]
  },
  {
   "cell_type": "code",
   "execution_count": 41,
   "metadata": {},
   "outputs": [],
   "source": [
    "Monroe_Co_unemployment_stats = pd.DataFrame(bls.series(['LAUCN181050000000003', 'LAUCN181050000000004', 'LAUCN181050000000005', 'LAUCN181050000000006'], 1990, 2020))"
   ]
  },
  {
   "cell_type": "code",
   "execution_count": 42,
   "metadata": {},
   "outputs": [
    {
     "data": {
      "text/html": [
       "<div>\n",
       "<style scoped>\n",
       "    .dataframe tbody tr th:only-of-type {\n",
       "        vertical-align: middle;\n",
       "    }\n",
       "\n",
       "    .dataframe tbody tr th {\n",
       "        vertical-align: top;\n",
       "    }\n",
       "\n",
       "    .dataframe thead th {\n",
       "        text-align: right;\n",
       "    }\n",
       "</style>\n",
       "<table border=\"1\" class=\"dataframe\">\n",
       "  <thead>\n",
       "    <tr style=\"text-align: right;\">\n",
       "      <th></th>\n",
       "      <th>Year</th>\n",
       "      <th>Period</th>\n",
       "      <th>periodName</th>\n",
       "      <th>Unemployment Rate</th>\n",
       "      <th>Unemployed</th>\n",
       "      <th>Employed</th>\n",
       "      <th>Labor Force</th>\n",
       "    </tr>\n",
       "  </thead>\n",
       "  <tbody>\n",
       "    <tr>\n",
       "      <td>0</td>\n",
       "      <td>1990</td>\n",
       "      <td>M01</td>\n",
       "      <td>January</td>\n",
       "      <td>3.0</td>\n",
       "      <td>1642</td>\n",
       "      <td>53672</td>\n",
       "      <td>55314</td>\n",
       "    </tr>\n",
       "    <tr>\n",
       "      <td>1</td>\n",
       "      <td>1990</td>\n",
       "      <td>M02</td>\n",
       "      <td>February</td>\n",
       "      <td>3.7</td>\n",
       "      <td>2053</td>\n",
       "      <td>53694</td>\n",
       "      <td>55747</td>\n",
       "    </tr>\n",
       "  </tbody>\n",
       "</table>\n",
       "</div>"
      ],
      "text/plain": [
       "   Year Period periodName  Unemployment Rate  Unemployed  Employed  \\\n",
       "0  1990    M01    January                3.0        1642     53672   \n",
       "1  1990    M02   February                3.7        2053     53694   \n",
       "\n",
       "   Labor Force  \n",
       "0        55314  \n",
       "1        55747  "
      ]
     },
     "execution_count": 42,
     "metadata": {},
     "output_type": "execute_result"
    }
   ],
   "source": [
    "#Monroe_Co_unemployment_stats.index.names = ['Date']\n",
    "Monroe_Co_unemployment_stats.columns = ['Year','Period','periodName','Unemployment Rate', 'Unemployed', 'Employed','Labor Force']\n",
    "Monroe_Co_unemployment_stats.to_json(r'json\\Monroe_Co_unemployment_stats.json')\n",
    "Monroe_Co_unemployment_stats.head(2)\n",
    "#Monroe_Co_unemployment_stats.columns"
   ]
  },
  {
   "cell_type": "markdown",
   "metadata": {},
   "source": [
    "#### **Marion Co Unemployment**"
   ]
  },
  {
   "cell_type": "code",
   "execution_count": 43,
   "metadata": {},
   "outputs": [],
   "source": [
    "Marion_Co_unemployment_stats = pd.DataFrame(bls.series(['LAUCN180970000000003', 'LAUCN180970000000004', 'LAUCN180970000000005', 'LAUCN180970000000006'], 1990, 2020))"
   ]
  },
  {
   "cell_type": "code",
   "execution_count": 44,
   "metadata": {},
   "outputs": [
    {
     "data": {
      "text/html": [
       "<div>\n",
       "<style scoped>\n",
       "    .dataframe tbody tr th:only-of-type {\n",
       "        vertical-align: middle;\n",
       "    }\n",
       "\n",
       "    .dataframe tbody tr th {\n",
       "        vertical-align: top;\n",
       "    }\n",
       "\n",
       "    .dataframe thead th {\n",
       "        text-align: right;\n",
       "    }\n",
       "</style>\n",
       "<table border=\"1\" class=\"dataframe\">\n",
       "  <thead>\n",
       "    <tr style=\"text-align: right;\">\n",
       "      <th></th>\n",
       "      <th>Year</th>\n",
       "      <th>Period</th>\n",
       "      <th>periodName</th>\n",
       "      <th>Unemployment Rate</th>\n",
       "      <th>Unemployed</th>\n",
       "      <th>Employed</th>\n",
       "      <th>Labor Force</th>\n",
       "    </tr>\n",
       "  </thead>\n",
       "  <tbody>\n",
       "    <tr>\n",
       "      <td>0</td>\n",
       "      <td>1990</td>\n",
       "      <td>M01</td>\n",
       "      <td>January</td>\n",
       "      <td>3.8</td>\n",
       "      <td>16223</td>\n",
       "      <td>406469</td>\n",
       "      <td>422692</td>\n",
       "    </tr>\n",
       "    <tr>\n",
       "      <td>1</td>\n",
       "      <td>1990</td>\n",
       "      <td>M02</td>\n",
       "      <td>February</td>\n",
       "      <td>4.0</td>\n",
       "      <td>16965</td>\n",
       "      <td>405270</td>\n",
       "      <td>422235</td>\n",
       "    </tr>\n",
       "  </tbody>\n",
       "</table>\n",
       "</div>"
      ],
      "text/plain": [
       "   Year Period periodName  Unemployment Rate  Unemployed  Employed  \\\n",
       "0  1990    M01    January                3.8       16223    406469   \n",
       "1  1990    M02   February                4.0       16965    405270   \n",
       "\n",
       "   Labor Force  \n",
       "0       422692  \n",
       "1       422235  "
      ]
     },
     "execution_count": 44,
     "metadata": {},
     "output_type": "execute_result"
    }
   ],
   "source": [
    "#Marion_Co_unemployment_stats.index.names = ['Date']\n",
    "Marion_Co_unemployment_stats.columns = ['Year','Period','periodName','Unemployment Rate', 'Unemployed', 'Employed','Labor Force']\n",
    "Marion_Co_unemployment_stats.to_json(r'json\\Marion_Co_unemployment_stats.json')\n",
    "Marion_Co_unemployment_stats.head(2)"
   ]
  },
  {
   "cell_type": "markdown",
   "metadata": {},
   "source": [
    "#### **St. Joseph Co Unemployment**"
   ]
  },
  {
   "cell_type": "code",
   "execution_count": 45,
   "metadata": {},
   "outputs": [],
   "source": [
    "StJospeh_Co_unemployment_stats = pd.DataFrame(bls.series(['LAUCN181410000000003', 'LAUCN181410000000004', 'LAUCN181410000000005', 'LAUCN181410000000006'], 1990, 2020))"
   ]
  },
  {
   "cell_type": "code",
   "execution_count": 46,
   "metadata": {},
   "outputs": [
    {
     "data": {
      "text/html": [
       "<div>\n",
       "<style scoped>\n",
       "    .dataframe tbody tr th:only-of-type {\n",
       "        vertical-align: middle;\n",
       "    }\n",
       "\n",
       "    .dataframe tbody tr th {\n",
       "        vertical-align: top;\n",
       "    }\n",
       "\n",
       "    .dataframe thead th {\n",
       "        text-align: right;\n",
       "    }\n",
       "</style>\n",
       "<table border=\"1\" class=\"dataframe\">\n",
       "  <thead>\n",
       "    <tr style=\"text-align: right;\">\n",
       "      <th></th>\n",
       "      <th>Year</th>\n",
       "      <th>Period</th>\n",
       "      <th>periodName</th>\n",
       "      <th>Unemployment Rate</th>\n",
       "      <th>Unemployed</th>\n",
       "      <th>Employed</th>\n",
       "      <th>Labor Force</th>\n",
       "    </tr>\n",
       "  </thead>\n",
       "  <tbody>\n",
       "    <tr>\n",
       "      <td>0</td>\n",
       "      <td>1990</td>\n",
       "      <td>M01</td>\n",
       "      <td>January</td>\n",
       "      <td>5.4</td>\n",
       "      <td>6791</td>\n",
       "      <td>119402</td>\n",
       "      <td>126193</td>\n",
       "    </tr>\n",
       "    <tr>\n",
       "      <td>1</td>\n",
       "      <td>1990</td>\n",
       "      <td>M02</td>\n",
       "      <td>February</td>\n",
       "      <td>6.7</td>\n",
       "      <td>8512</td>\n",
       "      <td>118213</td>\n",
       "      <td>126725</td>\n",
       "    </tr>\n",
       "  </tbody>\n",
       "</table>\n",
       "</div>"
      ],
      "text/plain": [
       "   Year Period periodName  Unemployment Rate  Unemployed  Employed  \\\n",
       "0  1990    M01    January                5.4        6791    119402   \n",
       "1  1990    M02   February                6.7        8512    118213   \n",
       "\n",
       "   Labor Force  \n",
       "0       126193  \n",
       "1       126725  "
      ]
     },
     "execution_count": 46,
     "metadata": {},
     "output_type": "execute_result"
    }
   ],
   "source": [
    "#StJospeh_Co_unemployment_stats.index.names = ['Date']\n",
    "StJospeh_Co_unemployment_stats.columns = ['Year','Period','periodName','Unemployment Rate', 'Unemployed', 'Employed','Labor Force']\n",
    "StJospeh_Co_unemployment_stats.to_json(r'json\\StJospeh_Co_unemployment_stats.json')\n",
    "StJospeh_Co_unemployment_stats.head(2)"
   ]
  },
  {
   "cell_type": "markdown",
   "metadata": {},
   "source": [
    "***\n",
    "#### **United States Weekly New Jobs Claims**\n",
    "***"
   ]
  },
  {
   "cell_type": "code",
   "execution_count": 47,
   "metadata": {},
   "outputs": [
    {
     "data": {
      "text/html": [
       "<div>\n",
       "<style scoped>\n",
       "    .dataframe tbody tr th:only-of-type {\n",
       "        vertical-align: middle;\n",
       "    }\n",
       "\n",
       "    .dataframe tbody tr th {\n",
       "        vertical-align: top;\n",
       "    }\n",
       "\n",
       "    .dataframe thead th {\n",
       "        text-align: right;\n",
       "    }\n",
       "</style>\n",
       "<table border=\"1\" class=\"dataframe\">\n",
       "  <thead>\n",
       "    <tr style=\"text-align: right;\">\n",
       "      <th></th>\n",
       "      <th>Date</th>\n",
       "      <th>Weekly Jobs Claims</th>\n",
       "    </tr>\n",
       "  </thead>\n",
       "  <tbody>\n",
       "    <tr>\n",
       "      <td>0</td>\n",
       "      <td>1967-01-07</td>\n",
       "      <td>208,000</td>\n",
       "    </tr>\n",
       "    <tr>\n",
       "      <td>1</td>\n",
       "      <td>1967-01-14</td>\n",
       "      <td>207,000</td>\n",
       "    </tr>\n",
       "  </tbody>\n",
       "</table>\n",
       "</div>"
      ],
      "text/plain": [
       "         Date Weekly Jobs Claims\n",
       "0  1967-01-07            208,000\n",
       "1  1967-01-14            207,000"
      ]
     },
     "execution_count": 47,
     "metadata": {},
     "output_type": "execute_result"
    }
   ],
   "source": [
    "US_weekly_new_jobs_claims = pd.read_csv(\"data/r539cy_BLS_Weekly_Jobs_Claims_US.csv\")\n",
    "US_weekly_new_jobs_claims.head(2)"
   ]
  },
  {
   "cell_type": "markdown",
   "metadata": {},
   "source": [
    "***\n",
    "#### **Indiana Weekly New Jobs Claims**\n",
    "***"
   ]
  },
  {
   "cell_type": "code",
   "execution_count": 48,
   "metadata": {},
   "outputs": [
    {
     "data": {
      "text/html": [
       "<div>\n",
       "<style scoped>\n",
       "    .dataframe tbody tr th:only-of-type {\n",
       "        vertical-align: middle;\n",
       "    }\n",
       "\n",
       "    .dataframe tbody tr th {\n",
       "        vertical-align: top;\n",
       "    }\n",
       "\n",
       "    .dataframe thead th {\n",
       "        text-align: right;\n",
       "    }\n",
       "</style>\n",
       "<table border=\"1\" class=\"dataframe\">\n",
       "  <thead>\n",
       "    <tr style=\"text-align: right;\">\n",
       "      <th></th>\n",
       "      <th>State</th>\n",
       "      <th>Filed week ended</th>\n",
       "      <th>Initial Claims</th>\n",
       "      <th>Reflecting Week Ended</th>\n",
       "      <th>Continued Claims</th>\n",
       "      <th>Covered Employment</th>\n",
       "      <th>Insured Unemployment Rate</th>\n",
       "    </tr>\n",
       "  </thead>\n",
       "  <tbody>\n",
       "    <tr>\n",
       "      <td>0</td>\n",
       "      <td>Indiana</td>\n",
       "      <td>1987-01-03</td>\n",
       "      <td>10,068</td>\n",
       "      <td>1986-12-27</td>\n",
       "      <td>47,604</td>\n",
       "      <td>2,065,922</td>\n",
       "      <td>2.30</td>\n",
       "    </tr>\n",
       "    <tr>\n",
       "      <td>1</td>\n",
       "      <td>Indiana</td>\n",
       "      <td>1987-01-10</td>\n",
       "      <td>16,812</td>\n",
       "      <td>1987-01-03</td>\n",
       "      <td>63,290</td>\n",
       "      <td>2,078,050</td>\n",
       "      <td>3.05</td>\n",
       "    </tr>\n",
       "  </tbody>\n",
       "</table>\n",
       "</div>"
      ],
      "text/plain": [
       "     State Filed week ended Initial Claims Reflecting Week Ended  \\\n",
       "0  Indiana       1987-01-03         10,068            1986-12-27   \n",
       "1  Indiana       1987-01-10         16,812            1987-01-03   \n",
       "\n",
       "  Continued Claims Covered Employment  Insured Unemployment Rate  \n",
       "0           47,604          2,065,922                       2.30  \n",
       "1           63,290          2,078,050                       3.05  "
      ]
     },
     "execution_count": 48,
     "metadata": {},
     "output_type": "execute_result"
    }
   ],
   "source": [
    "IN_weekly_new_jobs_claims = pd.read_csv(\"data/r539cy_BLS_Weekly_Jobs_Claims_Indiana.csv\")\n",
    "IN_weekly_new_jobs_claims.head(2)"
   ]
  },
  {
   "cell_type": "markdown",
   "metadata": {},
   "source": [
    "***\n",
    "#### **Marion County Weekly New Jobs Claims**\n",
    "***"
   ]
  },
  {
   "cell_type": "code",
   "execution_count": 49,
   "metadata": {},
   "outputs": [
    {
     "data": {
      "text/html": [
       "<div>\n",
       "<style scoped>\n",
       "    .dataframe tbody tr th:only-of-type {\n",
       "        vertical-align: middle;\n",
       "    }\n",
       "\n",
       "    .dataframe tbody tr th {\n",
       "        vertical-align: top;\n",
       "    }\n",
       "\n",
       "    .dataframe thead th {\n",
       "        text-align: right;\n",
       "    }\n",
       "</style>\n",
       "<table border=\"1\" class=\"dataframe\">\n",
       "  <thead>\n",
       "    <tr style=\"text-align: right;\">\n",
       "      <th></th>\n",
       "      <th>Geography</th>\n",
       "      <th>Date</th>\n",
       "      <th>Initial Claims</th>\n",
       "    </tr>\n",
       "  </thead>\n",
       "  <tbody>\n",
       "    <tr>\n",
       "      <td>0</td>\n",
       "      <td>Marion County, IN</td>\n",
       "      <td>2020-03-07</td>\n",
       "      <td>298</td>\n",
       "    </tr>\n",
       "    <tr>\n",
       "      <td>1</td>\n",
       "      <td>Marion County, IN</td>\n",
       "      <td>2020-03-14</td>\n",
       "      <td>425</td>\n",
       "    </tr>\n",
       "  </tbody>\n",
       "</table>\n",
       "</div>"
      ],
      "text/plain": [
       "           Geography        Date Initial Claims\n",
       "0  Marion County, IN  2020-03-07            298\n",
       "1  Marion County, IN  2020-03-14            425"
      ]
     },
     "execution_count": 49,
     "metadata": {},
     "output_type": "execute_result"
    }
   ],
   "source": [
    "MarionCo_weekly_new_jobs_claims = pd.read_csv(\"data/r539cy_BLS_Weekly_Jobs_Claims_IN_MarionCo.csv\")\n",
    "MarionCo_weekly_new_jobs_claims.head(2)"
   ]
  },
  {
   "cell_type": "markdown",
   "metadata": {},
   "source": [
    "***\n",
    "#### **Monroe County Weekly New Jobs Claims**\n",
    "***"
   ]
  },
  {
   "cell_type": "code",
   "execution_count": 50,
   "metadata": {},
   "outputs": [
    {
     "data": {
      "text/html": [
       "<div>\n",
       "<style scoped>\n",
       "    .dataframe tbody tr th:only-of-type {\n",
       "        vertical-align: middle;\n",
       "    }\n",
       "\n",
       "    .dataframe tbody tr th {\n",
       "        vertical-align: top;\n",
       "    }\n",
       "\n",
       "    .dataframe thead th {\n",
       "        text-align: right;\n",
       "    }\n",
       "</style>\n",
       "<table border=\"1\" class=\"dataframe\">\n",
       "  <thead>\n",
       "    <tr style=\"text-align: right;\">\n",
       "      <th></th>\n",
       "      <th>Geography</th>\n",
       "      <th>Date</th>\n",
       "      <th>Initial Claims</th>\n",
       "    </tr>\n",
       "  </thead>\n",
       "  <tbody>\n",
       "    <tr>\n",
       "      <td>0</td>\n",
       "      <td>Monroe County, IN</td>\n",
       "      <td>2020-03-07</td>\n",
       "      <td>21</td>\n",
       "    </tr>\n",
       "    <tr>\n",
       "      <td>1</td>\n",
       "      <td>Monroe County, IN</td>\n",
       "      <td>2020-03-14</td>\n",
       "      <td>18</td>\n",
       "    </tr>\n",
       "  </tbody>\n",
       "</table>\n",
       "</div>"
      ],
      "text/plain": [
       "           Geography        Date Initial Claims\n",
       "0  Monroe County, IN  2020-03-07             21\n",
       "1  Monroe County, IN  2020-03-14             18"
      ]
     },
     "execution_count": 50,
     "metadata": {},
     "output_type": "execute_result"
    }
   ],
   "source": [
    "MonroeCo_weekly_new_jobs_claims = pd.read_csv(\"data/r539cy_BLS_Weekly_Jobs_Claims_IN_MonroeCo.csv\")\n",
    "MonroeCo_weekly_new_jobs_claims.head(2)"
   ]
  },
  {
   "cell_type": "markdown",
   "metadata": {},
   "source": [
    "***\n",
    "#### **St. Joseph County Weekly New Jobs Claims**\n",
    "***"
   ]
  },
  {
   "cell_type": "code",
   "execution_count": 51,
   "metadata": {},
   "outputs": [
    {
     "data": {
      "text/html": [
       "<div>\n",
       "<style scoped>\n",
       "    .dataframe tbody tr th:only-of-type {\n",
       "        vertical-align: middle;\n",
       "    }\n",
       "\n",
       "    .dataframe tbody tr th {\n",
       "        vertical-align: top;\n",
       "    }\n",
       "\n",
       "    .dataframe thead th {\n",
       "        text-align: right;\n",
       "    }\n",
       "</style>\n",
       "<table border=\"1\" class=\"dataframe\">\n",
       "  <thead>\n",
       "    <tr style=\"text-align: right;\">\n",
       "      <th></th>\n",
       "      <th>Geography</th>\n",
       "      <th>Date</th>\n",
       "      <th>Initial Claims</th>\n",
       "    </tr>\n",
       "  </thead>\n",
       "  <tbody>\n",
       "    <tr>\n",
       "      <td>0</td>\n",
       "      <td>St. Joseph County, IN</td>\n",
       "      <td>2020-03-07</td>\n",
       "      <td>110</td>\n",
       "    </tr>\n",
       "    <tr>\n",
       "      <td>1</td>\n",
       "      <td>St. Joseph County, IN</td>\n",
       "      <td>2020-03-14</td>\n",
       "      <td>113</td>\n",
       "    </tr>\n",
       "  </tbody>\n",
       "</table>\n",
       "</div>"
      ],
      "text/plain": [
       "               Geography        Date Initial Claims\n",
       "0  St. Joseph County, IN  2020-03-07            110\n",
       "1  St. Joseph County, IN  2020-03-14            113"
      ]
     },
     "execution_count": 51,
     "metadata": {},
     "output_type": "execute_result"
    }
   ],
   "source": [
    "StJosephCo_weekly_new_jobs_claims = pd.read_csv(\"data/r539cy_BLS_Weekly_Jobs_Claims_IN_StJosephCo.csv\")\n",
    "StJosephCo_weekly_new_jobs_claims.head(2)"
   ]
  },
  {
   "cell_type": "markdown",
   "metadata": {},
   "source": [
    "***\n",
    "#### **Henry County Weekly New Jobs Claims**\n",
    "***"
   ]
  },
  {
   "cell_type": "code",
   "execution_count": 52,
   "metadata": {},
   "outputs": [
    {
     "data": {
      "text/html": [
       "<div>\n",
       "<style scoped>\n",
       "    .dataframe tbody tr th:only-of-type {\n",
       "        vertical-align: middle;\n",
       "    }\n",
       "\n",
       "    .dataframe tbody tr th {\n",
       "        vertical-align: top;\n",
       "    }\n",
       "\n",
       "    .dataframe thead th {\n",
       "        text-align: right;\n",
       "    }\n",
       "</style>\n",
       "<table border=\"1\" class=\"dataframe\">\n",
       "  <thead>\n",
       "    <tr style=\"text-align: right;\">\n",
       "      <th></th>\n",
       "      <th>Geography</th>\n",
       "      <th>Date</th>\n",
       "      <th>Initial Claims</th>\n",
       "    </tr>\n",
       "  </thead>\n",
       "  <tbody>\n",
       "    <tr>\n",
       "      <td>0</td>\n",
       "      <td>Henry County, IN</td>\n",
       "      <td>2020-03-07</td>\n",
       "      <td>10</td>\n",
       "    </tr>\n",
       "    <tr>\n",
       "      <td>1</td>\n",
       "      <td>Henry County, IN</td>\n",
       "      <td>2020-03-14</td>\n",
       "      <td>14</td>\n",
       "    </tr>\n",
       "  </tbody>\n",
       "</table>\n",
       "</div>"
      ],
      "text/plain": [
       "          Geography        Date  Initial Claims\n",
       "0  Henry County, IN  2020-03-07              10\n",
       "1  Henry County, IN  2020-03-14              14"
      ]
     },
     "execution_count": 52,
     "metadata": {},
     "output_type": "execute_result"
    }
   ],
   "source": [
    "HenryCo_weekly_new_jobs_claims = pd.read_csv(\"data/r539cy_BLS_Weekly_Jobs_Claims_IN_HenryCo.csv\")\n",
    "HenryCo_weekly_new_jobs_claims.head(2)"
   ]
  },
  {
   "cell_type": "markdown",
   "metadata": {},
   "source": [
    "***\n",
    "#### **Indiana COVID-19 Cases**\n",
    "***"
   ]
  },
  {
   "cell_type": "code",
   "execution_count": 53,
   "metadata": {},
   "outputs": [],
   "source": [
    "IN_COVID_19_Cases_A = pd.read_csv(\"data/Indiana_COVID-19_Cases_ by_Day-COVID_Cases_Total_by_Day.csv\")\n",
    "IN_COVID_19_Cases_A.columns = ['County','GeoID','2020-03-06','2020-03-07','2020-03-08','2020-03-09','2020-03-10','2020-03-11','2020-03-12','2020-03-13'\n",
    "                            ,'2020-03-14','2020-03-15','2020-03-16','2020-03-17','2020-03-18','2020-03-19','2020-03-20','2020-03-21','2020-03-22','2020-03-23'\n",
    "                            ,'2020-03-24','2020-03-25','2020-03-26','2020-03-27','2020-03-28','2020-03-29','2020-03-30','2020-03-31'\n",
    "                            ,'2020-04-01','2020-04-02','2020-04-03','2020-04-04']"
   ]
  },
  {
   "cell_type": "code",
   "execution_count": 54,
   "metadata": {},
   "outputs": [
    {
     "data": {
      "text/html": [
       "<div>\n",
       "<style scoped>\n",
       "    .dataframe tbody tr th:only-of-type {\n",
       "        vertical-align: middle;\n",
       "    }\n",
       "\n",
       "    .dataframe tbody tr th {\n",
       "        vertical-align: top;\n",
       "    }\n",
       "\n",
       "    .dataframe thead th {\n",
       "        text-align: right;\n",
       "    }\n",
       "</style>\n",
       "<table border=\"1\" class=\"dataframe\">\n",
       "  <thead>\n",
       "    <tr style=\"text-align: right;\">\n",
       "      <th></th>\n",
       "      <th>County</th>\n",
       "      <th>GeoID</th>\n",
       "      <th>2020-03-06</th>\n",
       "      <th>2020-03-07</th>\n",
       "      <th>2020-03-08</th>\n",
       "      <th>2020-03-09</th>\n",
       "      <th>2020-03-10</th>\n",
       "      <th>2020-03-11</th>\n",
       "      <th>2020-03-12</th>\n",
       "      <th>2020-03-13</th>\n",
       "      <th>...</th>\n",
       "      <th>2020-03-26</th>\n",
       "      <th>2020-03-27</th>\n",
       "      <th>2020-03-28</th>\n",
       "      <th>2020-03-29</th>\n",
       "      <th>2020-03-30</th>\n",
       "      <th>2020-03-31</th>\n",
       "      <th>2020-04-01</th>\n",
       "      <th>2020-04-02</th>\n",
       "      <th>2020-04-03</th>\n",
       "      <th>2020-04-04</th>\n",
       "    </tr>\n",
       "  </thead>\n",
       "  <tbody>\n",
       "    <tr>\n",
       "      <td>0</td>\n",
       "      <td>Adams County</td>\n",
       "      <td>18001</td>\n",
       "      <td>N/A</td>\n",
       "      <td>N/A</td>\n",
       "      <td>N/A</td>\n",
       "      <td>N/A</td>\n",
       "      <td>1</td>\n",
       "      <td>1</td>\n",
       "      <td>1</td>\n",
       "      <td>1</td>\n",
       "      <td>...</td>\n",
       "      <td>1</td>\n",
       "      <td>1</td>\n",
       "      <td>1</td>\n",
       "      <td>1</td>\n",
       "      <td>1</td>\n",
       "      <td>1</td>\n",
       "      <td>1</td>\n",
       "      <td>1</td>\n",
       "      <td>1</td>\n",
       "      <td>2</td>\n",
       "    </tr>\n",
       "    <tr>\n",
       "      <td>1</td>\n",
       "      <td>Allen County</td>\n",
       "      <td>18003</td>\n",
       "      <td>N/A</td>\n",
       "      <td>N/A</td>\n",
       "      <td>N/A</td>\n",
       "      <td>N/A</td>\n",
       "      <td>N/A</td>\n",
       "      <td>N/A</td>\n",
       "      <td>N/A</td>\n",
       "      <td>N/A</td>\n",
       "      <td>...</td>\n",
       "      <td>8</td>\n",
       "      <td>21</td>\n",
       "      <td>23</td>\n",
       "      <td>26</td>\n",
       "      <td>28</td>\n",
       "      <td>30</td>\n",
       "      <td>39</td>\n",
       "      <td>46</td>\n",
       "      <td>58</td>\n",
       "      <td>59</td>\n",
       "    </tr>\n",
       "  </tbody>\n",
       "</table>\n",
       "<p>2 rows × 32 columns</p>\n",
       "</div>"
      ],
      "text/plain": [
       "         County  GeoID 2020-03-06 2020-03-07 2020-03-08 2020-03-09 2020-03-10  \\\n",
       "0  Adams County  18001        N/A        N/A        N/A        N/A          1   \n",
       "1  Allen County  18003        N/A        N/A        N/A        N/A        N/A   \n",
       "\n",
       "  2020-03-11 2020-03-12 2020-03-13  ... 2020-03-26 2020-03-27 2020-03-28  \\\n",
       "0          1          1          1  ...          1          1          1   \n",
       "1        N/A        N/A        N/A  ...          8         21         23   \n",
       "\n",
       "  2020-03-29 2020-03-30 2020-03-31 2020-04-01 2020-04-02 2020-04-03 2020-04-04  \n",
       "0          1          1          1          1          1          1          2  \n",
       "1         26         28         30         39         46         58         59  \n",
       "\n",
       "[2 rows x 32 columns]"
      ]
     },
     "execution_count": 54,
     "metadata": {},
     "output_type": "execute_result"
    }
   ],
   "source": [
    "IN_COVID_19_Cases = IN_COVID_19_Cases_A.replace(np.nan, \"N/A\")\n",
    "IN_COVID_19_Cases.head(2)"
   ]
  },
  {
   "cell_type": "markdown",
   "metadata": {},
   "source": [
    "***\n",
    "### **PLOTS**\n",
    "***"
   ]
  },
  {
   "cell_type": "code",
   "execution_count": null,
   "metadata": {},
   "outputs": [],
   "source": []
  }
 ],
 "metadata": {
  "kernelspec": {
   "display_name": "Python 3",
   "language": "python",
   "name": "python3"
  },
  "language_info": {
   "codemirror_mode": {
    "name": "ipython",
    "version": 3
   },
   "file_extension": ".py",
   "mimetype": "text/x-python",
   "name": "python",
   "nbconvert_exporter": "python",
   "pygments_lexer": "ipython3",
   "version": "3.7.4"
  }
 },
 "nbformat": 4,
 "nbformat_minor": 4
}
