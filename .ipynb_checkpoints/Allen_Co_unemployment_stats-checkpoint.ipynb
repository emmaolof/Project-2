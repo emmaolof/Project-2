{
 "cells": [
  {
   "cell_type": "code",
   "execution_count": 30,
   "metadata": {},
   "outputs": [],
   "source": [
    "import bls\n",
    "from blsconnect import RequestBLS, bls_search\n",
    "import pandas as pd\n",
    "from pandas import DataFrame, Series\n",
    "from bs4 import BeautifulSoup\n",
    "import requests\n",
    "import dateutil\n",
    "from datetime import datetime\n",
    "#import datetime\n",
    "import calendar\n",
    "dict((v,k) for k,v in enumerate(calendar.month_abbr)) #from dateutil.rrule import *\n",
    "#from dateutil.parser import *\n",
    "#from datetime import *\n",
    "import csv\n",
    "import numpy as np\n",
    "import matplotlib.pyplot as plt\n",
    "import matplotlib\n",
    "import json"
   ]
  },
  {
   "cell_type": "code",
   "execution_count": 31,
   "metadata": {},
   "outputs": [],
   "source": [
    "from config import BLS_API_KEY\n",
    "bls = RequestBLS(key = BLS_API_KEY)"
   ]
  },
  {
   "cell_type": "code",
   "execution_count": 32,
   "metadata": {},
   "outputs": [],
   "source": [
    "Allen_Co_unemployment_stats = pd.DataFrame(bls.series(['LAUCN180030000000003','LAUCN180030000000004','LAUCN180030000000005','LAUCN180030000000006'], 2005, 2020))"
   ]
  },
  {
   "cell_type": "code",
   "execution_count": 33,
   "metadata": {},
   "outputs": [],
   "source": [
    "Allen_Co_unemployment_stats.columns = ['Year','Period','periodName','Unemployment_Rate', 'Unemployed', 'Employed','Labor_Force']"
   ]
  },
  {
   "cell_type": "code",
   "execution_count": 34,
   "metadata": {},
   "outputs": [],
   "source": [
    "Allen_Co_unemployment_stats['Year-Month'] = Allen_Co_unemployment_stats[\"Year\"].astype(str) + \"-\" + Allen_Co_unemployment_stats[\"periodName\"] "
   ]
  },
  {
   "cell_type": "code",
   "execution_count": 35,
   "metadata": {},
   "outputs": [],
   "source": [
    "Allen_Co_unemployment_stats['County'] = 'Allen'"
   ]
  },
  {
   "cell_type": "code",
   "execution_count": 22,
   "metadata": {},
   "outputs": [
    {
     "data": {
      "text/html": [
       "<div>\n",
       "<style scoped>\n",
       "    .dataframe tbody tr th:only-of-type {\n",
       "        vertical-align: middle;\n",
       "    }\n",
       "\n",
       "    .dataframe tbody tr th {\n",
       "        vertical-align: top;\n",
       "    }\n",
       "\n",
       "    .dataframe thead th {\n",
       "        text-align: right;\n",
       "    }\n",
       "</style>\n",
       "<table border=\"1\" class=\"dataframe\">\n",
       "  <thead>\n",
       "    <tr style=\"text-align: right;\">\n",
       "      <th></th>\n",
       "      <th>Year</th>\n",
       "      <th>Period</th>\n",
       "      <th>periodName</th>\n",
       "      <th>Unemployment_Rate</th>\n",
       "      <th>Unemployed</th>\n",
       "      <th>Employed</th>\n",
       "      <th>Labor_Force</th>\n",
       "      <th>Year-Month</th>\n",
       "      <th>County</th>\n",
       "    </tr>\n",
       "  </thead>\n",
       "  <tbody>\n",
       "    <tr>\n",
       "      <th>0</th>\n",
       "      <td>2005</td>\n",
       "      <td>M01</td>\n",
       "      <td>January</td>\n",
       "      <td>5.9</td>\n",
       "      <td>10348</td>\n",
       "      <td>165267</td>\n",
       "      <td>175615</td>\n",
       "      <td>2005-January</td>\n",
       "      <td>Allen</td>\n",
       "    </tr>\n",
       "    <tr>\n",
       "      <th>1</th>\n",
       "      <td>2005</td>\n",
       "      <td>M02</td>\n",
       "      <td>February</td>\n",
       "      <td>6.3</td>\n",
       "      <td>11144</td>\n",
       "      <td>164633</td>\n",
       "      <td>175777</td>\n",
       "      <td>2005-February</td>\n",
       "      <td>Allen</td>\n",
       "    </tr>\n",
       "  </tbody>\n",
       "</table>\n",
       "</div>"
      ],
      "text/plain": [
       "   Year Period periodName  Unemployment_Rate  Unemployed  Employed  \\\n",
       "0  2005    M01    January                5.9       10348    165267   \n",
       "1  2005    M02   February                6.3       11144    164633   \n",
       "\n",
       "   Labor_Force     Year-Month County  \n",
       "0       175615   2005-January  Allen  \n",
       "1       175777  2005-February  Allen  "
      ]
     },
     "execution_count": 22,
     "metadata": {},
     "output_type": "execute_result"
    }
   ],
   "source": [
    "Allen_Co_unemployment_stats.head(2)"
   ]
  },
  {
   "cell_type": "code",
   "execution_count": 39,
   "metadata": {},
   "outputs": [],
   "source": [
    "Allen_Co_unemployment_stats.to_json('json\\Allen_Co_unemployment_stats.json')"
   ]
  },
  {
   "cell_type": "code",
   "execution_count": null,
   "metadata": {},
   "outputs": [],
   "source": []
  },
  {
   "cell_type": "code",
   "execution_count": 36,
   "metadata": {},
   "outputs": [],
   "source": [
    "from sqlalchemy import create_engine\n",
    "db = create_engine('sqlite:///project2.sqlite')"
   ]
  },
  {
   "cell_type": "code",
   "execution_count": null,
   "metadata": {},
   "outputs": [],
   "source": []
  },
  {
   "cell_type": "code",
   "execution_count": 37,
   "metadata": {},
   "outputs": [],
   "source": [
    "Allen_Co_unemployment_stats.to_sql('CountyUnemployment', con=db, if_exists='append')"
   ]
  },
  {
   "cell_type": "code",
   "execution_count": 40,
   "metadata": {},
   "outputs": [
    {
     "data": {
      "text/html": [
       "<div>\n",
       "<style scoped>\n",
       "    .dataframe tbody tr th:only-of-type {\n",
       "        vertical-align: middle;\n",
       "    }\n",
       "\n",
       "    .dataframe tbody tr th {\n",
       "        vertical-align: top;\n",
       "    }\n",
       "\n",
       "    .dataframe thead th {\n",
       "        text-align: right;\n",
       "    }\n",
       "</style>\n",
       "<table border=\"1\" class=\"dataframe\">\n",
       "  <thead>\n",
       "    <tr style=\"text-align: right;\">\n",
       "      <th></th>\n",
       "      <th>index</th>\n",
       "      <th>Year</th>\n",
       "      <th>Period</th>\n",
       "      <th>periodName</th>\n",
       "      <th>Unemployment_Rate</th>\n",
       "      <th>Unemployed</th>\n",
       "      <th>Employed</th>\n",
       "      <th>Labor_Force</th>\n",
       "      <th>Year-Month</th>\n",
       "      <th>County</th>\n",
       "    </tr>\n",
       "  </thead>\n",
       "  <tbody>\n",
       "    <tr>\n",
       "      <th>0</th>\n",
       "      <td>0</td>\n",
       "      <td>2005</td>\n",
       "      <td>M01</td>\n",
       "      <td>January</td>\n",
       "      <td>5.9</td>\n",
       "      <td>10348</td>\n",
       "      <td>165267</td>\n",
       "      <td>175615</td>\n",
       "      <td>2005-January</td>\n",
       "      <td>Allen</td>\n",
       "    </tr>\n",
       "    <tr>\n",
       "      <th>1</th>\n",
       "      <td>1</td>\n",
       "      <td>2005</td>\n",
       "      <td>M02</td>\n",
       "      <td>February</td>\n",
       "      <td>6.3</td>\n",
       "      <td>11144</td>\n",
       "      <td>164633</td>\n",
       "      <td>175777</td>\n",
       "      <td>2005-February</td>\n",
       "      <td>Allen</td>\n",
       "    </tr>\n",
       "    <tr>\n",
       "      <th>2</th>\n",
       "      <td>2</td>\n",
       "      <td>2005</td>\n",
       "      <td>M03</td>\n",
       "      <td>March</td>\n",
       "      <td>5.8</td>\n",
       "      <td>10245</td>\n",
       "      <td>165455</td>\n",
       "      <td>175700</td>\n",
       "      <td>2005-March</td>\n",
       "      <td>Allen</td>\n",
       "    </tr>\n",
       "  </tbody>\n",
       "</table>\n",
       "</div>"
      ],
      "text/plain": [
       "   index  Year Period periodName  Unemployment_Rate  Unemployed  Employed  \\\n",
       "0      0  2005    M01    January                5.9       10348    165267   \n",
       "1      1  2005    M02   February                6.3       11144    164633   \n",
       "2      2  2005    M03      March                5.8       10245    165455   \n",
       "\n",
       "   Labor_Force     Year-Month County  \n",
       "0       175615   2005-January  Allen  \n",
       "1       175777  2005-February  Allen  \n",
       "2       175700     2005-March  Allen  "
      ]
     },
     "execution_count": 40,
     "metadata": {},
     "output_type": "execute_result"
    }
   ],
   "source": [
    "Allen_Co_unemployment_stats = pd.read_sql_query('SELECT * FROM CountyUnemployment LIMIT 3',db)\n",
    "Allen_Co_unemployment_stats.head()"
   ]
  },
  {
   "cell_type": "code",
   "execution_count": null,
   "metadata": {},
   "outputs": [],
   "source": []
  }
 ],
 "metadata": {
  "kernelspec": {
   "display_name": "Python 3.7.6 64-bit ('Emmanuel': virtualenv)",
   "language": "python",
   "name": "python37664bitemmanuelvirtualenv2ccb626d4d184f9e92a8b2f7b4e6511b"
  },
  "language_info": {
   "codemirror_mode": {
    "name": "ipython",
    "version": 3
   },
   "file_extension": ".py",
   "mimetype": "text/x-python",
   "name": "python",
   "nbconvert_exporter": "python",
   "pygments_lexer": "ipython3",
   "version": "3.7.6"
  }
 },
 "nbformat": 4,
 "nbformat_minor": 4
}
