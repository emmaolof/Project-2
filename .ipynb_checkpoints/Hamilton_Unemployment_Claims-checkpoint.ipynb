{
 "cells": [
  {
   "cell_type": "code",
   "execution_count": 1,
   "metadata": {},
   "outputs": [],
   "source": [
    "import pandas as pd\n",
    "import csv"
   ]
  },
  {
   "cell_type": "code",
   "execution_count": 17,
   "metadata": {},
   "outputs": [],
   "source": [
    "Allen_weekly_claims = pd.read_csv(\"Data Sources/r539cy_BLS_Weekly_Jobs_Claims_IN_Allen_Co.csv\")"
   ]
  },
  {
   "cell_type": "code",
   "execution_count": 18,
   "metadata": {},
   "outputs": [
    {
     "output_type": "execute_result",
     "data": {
      "text/plain": "           Geography        Date Initial Claims\n0   Allen County, IN  2020-01-04            198\n1   Allen County, IN  2020-01-11            245\n2   Allen County, IN  2020-01-18            251\n3   Allen County, IN  2020-01-25            164\n4   Allen County, IN  2020-02-01            137\n5   Allen County, IN  2020-02-08            156\n6   Allen County, IN  2020-02-15            196\n7   Allen County, IN  2020-02-22            424\n8   Allen County, IN  2020-02-29            157\n9   Allen County, IN  2020-03-07            108\n10  Allen County, IN  2020-03-14            115\n11  Allen County, IN  2020-03-21          3,561\n12  Allen County, IN  2020-03-28          9,950\n13  Allen County, IN  2020-04-04          6,848",
      "text/html": "<div>\n<style scoped>\n    .dataframe tbody tr th:only-of-type {\n        vertical-align: middle;\n    }\n\n    .dataframe tbody tr th {\n        vertical-align: top;\n    }\n\n    .dataframe thead th {\n        text-align: right;\n    }\n</style>\n<table border=\"1\" class=\"dataframe\">\n  <thead>\n    <tr style=\"text-align: right;\">\n      <th></th>\n      <th>Geography</th>\n      <th>Date</th>\n      <th>Initial Claims</th>\n    </tr>\n  </thead>\n  <tbody>\n    <tr>\n      <th>0</th>\n      <td>Allen County, IN</td>\n      <td>2020-01-04</td>\n      <td>198</td>\n    </tr>\n    <tr>\n      <th>1</th>\n      <td>Allen County, IN</td>\n      <td>2020-01-11</td>\n      <td>245</td>\n    </tr>\n    <tr>\n      <th>2</th>\n      <td>Allen County, IN</td>\n      <td>2020-01-18</td>\n      <td>251</td>\n    </tr>\n    <tr>\n      <th>3</th>\n      <td>Allen County, IN</td>\n      <td>2020-01-25</td>\n      <td>164</td>\n    </tr>\n    <tr>\n      <th>4</th>\n      <td>Allen County, IN</td>\n      <td>2020-02-01</td>\n      <td>137</td>\n    </tr>\n    <tr>\n      <th>5</th>\n      <td>Allen County, IN</td>\n      <td>2020-02-08</td>\n      <td>156</td>\n    </tr>\n    <tr>\n      <th>6</th>\n      <td>Allen County, IN</td>\n      <td>2020-02-15</td>\n      <td>196</td>\n    </tr>\n    <tr>\n      <th>7</th>\n      <td>Allen County, IN</td>\n      <td>2020-02-22</td>\n      <td>424</td>\n    </tr>\n    <tr>\n      <th>8</th>\n      <td>Allen County, IN</td>\n      <td>2020-02-29</td>\n      <td>157</td>\n    </tr>\n    <tr>\n      <th>9</th>\n      <td>Allen County, IN</td>\n      <td>2020-03-07</td>\n      <td>108</td>\n    </tr>\n    <tr>\n      <th>10</th>\n      <td>Allen County, IN</td>\n      <td>2020-03-14</td>\n      <td>115</td>\n    </tr>\n    <tr>\n      <th>11</th>\n      <td>Allen County, IN</td>\n      <td>2020-03-21</td>\n      <td>3,561</td>\n    </tr>\n    <tr>\n      <th>12</th>\n      <td>Allen County, IN</td>\n      <td>2020-03-28</td>\n      <td>9,950</td>\n    </tr>\n    <tr>\n      <th>13</th>\n      <td>Allen County, IN</td>\n      <td>2020-04-04</td>\n      <td>6,848</td>\n    </tr>\n  </tbody>\n</table>\n</div>"
     },
     "metadata": {},
     "execution_count": 18
    }
   ],
   "source": [
    "Allen_weekly_claims.head(14)"
   ]
  },
  {
   "cell_type": "code",
   "execution_count": 21,
   "metadata": {},
   "outputs": [],
   "source": [
    "Allen_weekly_claims.columns = ['County','Date', 'InitialClaims']"
   ]
  },
  {
   "cell_type": "code",
   "execution_count": 23,
   "metadata": {},
   "outputs": [],
   "source": [
    "def allfridays(year):\n",
    "    return pd.date_range(start=str(year), end=str(year+1), \n",
    "                         freq='W-FRI').strftime('%Y%m%d').tolist()"
   ]
  },
  {
   "cell_type": "code",
   "execution_count": 24,
   "metadata": {},
   "outputs": [],
   "source": [
    "Allen_weekly_claims['Date'] = allfridays(2020)[:14]"
   ]
  },
  {
   "cell_type": "code",
   "execution_count": 31,
   "metadata": {},
   "outputs": [],
   "source": [
    "Allen_weekly_claims['InitialClaims'] = Allen_weekly_claims['InitialClaims']\n",
    "Allen_weekly_claims['InitialClaims'] =  Allen_weekly_claims['InitialClaims'].astype(int)"
   ]
  },
  {
   "cell_type": "code",
   "execution_count": 32,
   "metadata": {},
   "outputs": [
    {
     "output_type": "execute_result",
     "data": {
      "text/plain": "             County      Date  InitialClaims\n0  Allen County, IN  20200103            198\n1  Allen County, IN  20200110            245\n2  Allen County, IN  20200117            251\n3  Allen County, IN  20200124            164\n4  Allen County, IN  20200131            137",
      "text/html": "<div>\n<style scoped>\n    .dataframe tbody tr th:only-of-type {\n        vertical-align: middle;\n    }\n\n    .dataframe tbody tr th {\n        vertical-align: top;\n    }\n\n    .dataframe thead th {\n        text-align: right;\n    }\n</style>\n<table border=\"1\" class=\"dataframe\">\n  <thead>\n    <tr style=\"text-align: right;\">\n      <th></th>\n      <th>County</th>\n      <th>Date</th>\n      <th>InitialClaims</th>\n    </tr>\n  </thead>\n  <tbody>\n    <tr>\n      <th>0</th>\n      <td>Allen County, IN</td>\n      <td>20200103</td>\n      <td>198</td>\n    </tr>\n    <tr>\n      <th>1</th>\n      <td>Allen County, IN</td>\n      <td>20200110</td>\n      <td>245</td>\n    </tr>\n    <tr>\n      <th>2</th>\n      <td>Allen County, IN</td>\n      <td>20200117</td>\n      <td>251</td>\n    </tr>\n    <tr>\n      <th>3</th>\n      <td>Allen County, IN</td>\n      <td>20200124</td>\n      <td>164</td>\n    </tr>\n    <tr>\n      <th>4</th>\n      <td>Allen County, IN</td>\n      <td>20200131</td>\n      <td>137</td>\n    </tr>\n  </tbody>\n</table>\n</div>"
     },
     "metadata": {},
     "execution_count": 32
    }
   ],
   "source": [
    "Allen_weekly_claims.head()"
   ]
  },
  {
   "cell_type": "code",
   "execution_count": 35,
   "metadata": {},
   "outputs": [],
   "source": [
    "Allen_Covid = pd.read_pickle('Allen_covid.pkl')"
   ]
  },
  {
   "cell_type": "code",
   "execution_count": 36,
   "metadata": {},
   "outputs": [
    {
     "output_type": "execute_result",
     "data": {
      "text/plain": "         County GEOGID      Date  Count\n0  Allen County  18003  20200306      0\n1  Allen County  18003  20200307      0\n2  Allen County  18003  20200308      0\n3  Allen County  18003  20200309      0\n4  Allen County  18003  20200310      0",
      "text/html": "<div>\n<style scoped>\n    .dataframe tbody tr th:only-of-type {\n        vertical-align: middle;\n    }\n\n    .dataframe tbody tr th {\n        vertical-align: top;\n    }\n\n    .dataframe thead th {\n        text-align: right;\n    }\n</style>\n<table border=\"1\" class=\"dataframe\">\n  <thead>\n    <tr style=\"text-align: right;\">\n      <th></th>\n      <th>County</th>\n      <th>GEOGID</th>\n      <th>Date</th>\n      <th>Count</th>\n    </tr>\n  </thead>\n  <tbody>\n    <tr>\n      <th>0</th>\n      <td>Allen County</td>\n      <td>18003</td>\n      <td>20200306</td>\n      <td>0</td>\n    </tr>\n    <tr>\n      <th>1</th>\n      <td>Allen County</td>\n      <td>18003</td>\n      <td>20200307</td>\n      <td>0</td>\n    </tr>\n    <tr>\n      <th>2</th>\n      <td>Allen County</td>\n      <td>18003</td>\n      <td>20200308</td>\n      <td>0</td>\n    </tr>\n    <tr>\n      <th>3</th>\n      <td>Allen County</td>\n      <td>18003</td>\n      <td>20200309</td>\n      <td>0</td>\n    </tr>\n    <tr>\n      <th>4</th>\n      <td>Allen County</td>\n      <td>18003</td>\n      <td>20200310</td>\n      <td>0</td>\n    </tr>\n  </tbody>\n</table>\n</div>"
     },
     "metadata": {},
     "execution_count": 36
    }
   ],
   "source": [
    "Allen_Covid.head()"
   ]
  },
  {
   "cell_type": "code",
   "execution_count": 37,
   "metadata": {},
   "outputs": [],
   "source": [
    "Allen_Covid_Weekly_Claims = pd.merge(Allen_weekly_claims[['County', 'Date', 'InitialClaims']], \n",
    "                                           Allen_Covid[['Count', 'Date']], how='outer', on='Date', sort=True)"
   ]
  },
  {
   "cell_type": "code",
   "execution_count": 38,
   "metadata": {},
   "outputs": [],
   "source": [
    "Allen_Covid_Weekly_Claims['County'] = 'Allen County, IN'\n",
    "Allen_Covid_Weekly_Claims.fillna(0, inplace=True)"
   ]
  },
  {
   "cell_type": "code",
   "execution_count": 39,
   "metadata": {},
   "outputs": [
    {
     "output_type": "execute_result",
     "data": {
      "text/plain": "County            object\nDate              object\nInitialClaims    float64\nCount            float64\ndtype: object"
     },
     "metadata": {},
     "execution_count": 39
    }
   ],
   "source": [
    "Allen_Covid_Weekly_Claims.dtypes"
   ]
  },
  {
   "cell_type": "code",
   "execution_count": 40,
   "metadata": {},
   "outputs": [
    {
     "output_type": "execute_result",
     "data": {
      "text/plain": "             County      Date  InitialClaims  Count\n0  Allen County, IN  20200103          198.0    0.0\n1  Allen County, IN  20200110          245.0    0.0\n2  Allen County, IN  20200117          251.0    0.0\n3  Allen County, IN  20200124          164.0    0.0\n4  Allen County, IN  20200131          137.0    0.0",
      "text/html": "<div>\n<style scoped>\n    .dataframe tbody tr th:only-of-type {\n        vertical-align: middle;\n    }\n\n    .dataframe tbody tr th {\n        vertical-align: top;\n    }\n\n    .dataframe thead th {\n        text-align: right;\n    }\n</style>\n<table border=\"1\" class=\"dataframe\">\n  <thead>\n    <tr style=\"text-align: right;\">\n      <th></th>\n      <th>County</th>\n      <th>Date</th>\n      <th>InitialClaims</th>\n      <th>Count</th>\n    </tr>\n  </thead>\n  <tbody>\n    <tr>\n      <th>0</th>\n      <td>Allen County, IN</td>\n      <td>20200103</td>\n      <td>198.0</td>\n      <td>0.0</td>\n    </tr>\n    <tr>\n      <th>1</th>\n      <td>Allen County, IN</td>\n      <td>20200110</td>\n      <td>245.0</td>\n      <td>0.0</td>\n    </tr>\n    <tr>\n      <th>2</th>\n      <td>Allen County, IN</td>\n      <td>20200117</td>\n      <td>251.0</td>\n      <td>0.0</td>\n    </tr>\n    <tr>\n      <th>3</th>\n      <td>Allen County, IN</td>\n      <td>20200124</td>\n      <td>164.0</td>\n      <td>0.0</td>\n    </tr>\n    <tr>\n      <th>4</th>\n      <td>Allen County, IN</td>\n      <td>20200131</td>\n      <td>137.0</td>\n      <td>0.0</td>\n    </tr>\n  </tbody>\n</table>\n</div>"
     },
     "metadata": {},
     "execution_count": 40
    }
   ],
   "source": [
    "Allen_Covid_Weekly_Claims.head()"
   ]
  },
  {
   "cell_type": "code",
   "execution_count": 41,
   "metadata": {},
   "outputs": [],
   "source": [
    "Allen_Covid_Weekly_Claims.to_json('static/data/Allen_covid_weekly_claims.json')"
   ]
  },
  {
   "cell_type": "code",
   "execution_count": null,
   "metadata": {},
   "outputs": [],
   "source": []
  }
 ],
 "metadata": {
  "kernelspec": {
   "display_name": "Python 3",
   "language": "python",
   "name": "python3"
  },
  "language_info": {
   "codemirror_mode": {
    "name": "ipython",
    "version": 3
   },
   "file_extension": ".py",
   "mimetype": "text/x-python",
   "name": "python",
   "nbconvert_exporter": "python",
   "pygments_lexer": "ipython3",
   "version": "3.7.6-final"
  }
 },
 "nbformat": 4,
 "nbformat_minor": 4
}