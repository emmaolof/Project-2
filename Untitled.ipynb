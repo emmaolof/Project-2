{
 "cells": [
  {
   "cell_type": "code",
   "execution_count": 2,
   "metadata": {},
   "outputs": [
    {
     "name": "stdout",
     "output_type": "stream",
     "text": [
      "Requirement already satisfied: bls in c:\\users\\emmanuel\\anaconda3\\lib\\site-packages (0.3.0)\n",
      "Requirement already satisfied: requests in c:\\users\\emmanuel\\anaconda3\\lib\\site-packages (from bls) (2.22.0)\n",
      "Requirement already satisfied: pandas in c:\\users\\emmanuel\\anaconda3\\lib\\site-packages (from bls) (0.25.3)\n",
      "Requirement already satisfied: chardet<3.1.0,>=3.0.2 in c:\\users\\emmanuel\\anaconda3\\lib\\site-packages (from requests->bls) (3.0.4)\n",
      "Requirement already satisfied: certifi>=2017.4.17 in c:\\users\\emmanuel\\anaconda3\\lib\\site-packages (from requests->bls) (2019.11.28)\n",
      "Requirement already satisfied: idna<2.9,>=2.5 in c:\\users\\emmanuel\\anaconda3\\lib\\site-packages (from requests->bls) (2.8)\n",
      "Requirement already satisfied: urllib3!=1.25.0,!=1.25.1,<1.26,>=1.21.1 in c:\\users\\emmanuel\\anaconda3\\lib\\site-packages (from requests->bls) (1.25.7)\n",
      "Requirement already satisfied: python-dateutil>=2.6.1 in c:\\users\\emmanuel\\anaconda3\\lib\\site-packages (from pandas->bls) (2.8.1)\n",
      "Requirement already satisfied: pytz>=2017.2 in c:\\users\\emmanuel\\anaconda3\\lib\\site-packages (from pandas->bls) (2019.3)\n",
      "Requirement already satisfied: numpy>=1.13.3 in c:\\users\\emmanuel\\anaconda3\\lib\\site-packages (from pandas->bls) (1.17.4)\n",
      "Requirement already satisfied: six>=1.5 in c:\\users\\emmanuel\\anaconda3\\lib\\site-packages (from python-dateutil>=2.6.1->pandas->bls) (1.13.0)\n",
      "Note: you may need to restart the kernel to use updated packages.\n"
     ]
    }
   ],
   "source": [
    "pip install bls"
   ]
  },
  {
   "cell_type": "code",
   "execution_count": null,
   "metadata": {},
   "outputs": [],
   "source": []
  },
  {
   "cell_type": "code",
   "execution_count": null,
   "metadata": {},
   "outputs": [],
   "source": []
  }
 ],
 "metadata": {
  "kernelspec": {
   "display_name": "Python 3.7.6 64-bit ('Emmanuel': virtualenv)",
   "language": "python",
   "name": "python37664bitemmanuelvirtualenv2ccb626d4d184f9e92a8b2f7b4e6511b"
  },
  "language_info": {
   "codemirror_mode": {
    "name": "ipython",
    "version": 3
   },
   "file_extension": ".py",
   "mimetype": "text/x-python",
   "name": "python",
   "nbconvert_exporter": "python",
   "pygments_lexer": "ipython3",
   "version": "3.7.6"
  }
 },
 "nbformat": 4,
 "nbformat_minor": 4
}
