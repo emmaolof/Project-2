{
 "cells": [
  {
   "cell_type": "code",
   "execution_count": 1,
   "metadata": {},
   "outputs": [
    {
     "name": "stdout",
     "output_type": "stream",
     "text": [
      "Collecting gspread\n",
      "  Downloading https://files.pythonhosted.org/packages/04/ce/c18b9b8fc4fe0dd7c4f48454c7ba6ba0747d9e9bc81e13e148efedd832ec/gspread-3.4.2-py3-none-any.whl\n",
      "Requirement already satisfied: requests>=2.2.1 in /opt/anaconda3/lib/python3.7/site-packages (from gspread) (2.22.0)\n",
      "Requirement already satisfied: google-auth in /opt/anaconda3/lib/python3.7/site-packages (from gspread) (1.12.0)\n",
      "Requirement already satisfied: certifi>=2017.4.17 in /opt/anaconda3/lib/python3.7/site-packages (from requests>=2.2.1->gspread) (2019.11.28)\n",
      "Requirement already satisfied: idna<2.9,>=2.5 in /opt/anaconda3/lib/python3.7/site-packages (from requests>=2.2.1->gspread) (2.8)\n",
      "Requirement already satisfied: chardet<3.1.0,>=3.0.2 in /opt/anaconda3/lib/python3.7/site-packages (from requests>=2.2.1->gspread) (3.0.4)\n",
      "Requirement already satisfied: urllib3!=1.25.0,!=1.25.1,<1.26,>=1.21.1 in /opt/anaconda3/lib/python3.7/site-packages (from requests>=2.2.1->gspread) (1.25.7)\n",
      "Requirement already satisfied: pyasn1-modules>=0.2.1 in /opt/anaconda3/lib/python3.7/site-packages (from google-auth->gspread) (0.2.7)\n",
      "Requirement already satisfied: six>=1.9.0 in /opt/anaconda3/lib/python3.7/site-packages (from google-auth->gspread) (1.13.0)\n",
      "Requirement already satisfied: rsa<4.1,>=3.1.4 in /opt/anaconda3/lib/python3.7/site-packages (from google-auth->gspread) (4.0)\n",
      "Requirement already satisfied: cachetools<5.0,>=2.0.0 in /opt/anaconda3/lib/python3.7/site-packages (from google-auth->gspread) (3.1.1)\n",
      "Requirement already satisfied: setuptools>=40.3.0 in /opt/anaconda3/lib/python3.7/site-packages (from google-auth->gspread) (44.0.0.post20200106)\n",
      "Requirement already satisfied: pyasn1<0.5.0,>=0.4.6 in /opt/anaconda3/lib/python3.7/site-packages (from pyasn1-modules>=0.2.1->google-auth->gspread) (0.4.8)\n",
      "Installing collected packages: gspread\n",
      "Successfully installed gspread-3.4.2\n",
      "Note: you may need to restart the kernel to use updated packages.\n"
     ]
    }
   ],
   "source": [
    "pip install gspread"
   ]
  },
  {
   "cell_type": "code",
   "execution_count": 2,
   "metadata": {},
   "outputs": [
    {
     "name": "stdout",
     "output_type": "stream",
     "text": [
      "Collecting oauth2client\n",
      "\u001b[?25l  Downloading https://files.pythonhosted.org/packages/95/a9/4f25a14d23f0786b64875b91784607c2277eff25d48f915e39ff0cff505a/oauth2client-4.1.3-py2.py3-none-any.whl (98kB)\n",
      "\u001b[K     |████████████████████████████████| 102kB 3.1MB/s ta 0:00:011\n",
      "\u001b[?25hRequirement already satisfied: pyasn1-modules>=0.0.5 in /opt/anaconda3/lib/python3.7/site-packages (from oauth2client) (0.2.7)\n",
      "Collecting httplib2>=0.9.1\n",
      "\u001b[?25l  Downloading https://files.pythonhosted.org/packages/dd/a6/e3d8ae2c5b3a89de9a6b5e1e9396ce41432e08feafe25c37c4dc6b49d79d/httplib2-0.17.2-py3-none-any.whl (95kB)\n",
      "\u001b[K     |████████████████████████████████| 102kB 16.9MB/s ta 0:00:01\n",
      "\u001b[?25hRequirement already satisfied: six>=1.6.1 in /opt/anaconda3/lib/python3.7/site-packages (from oauth2client) (1.13.0)\n",
      "Requirement already satisfied: pyasn1>=0.1.7 in /opt/anaconda3/lib/python3.7/site-packages (from oauth2client) (0.4.8)\n",
      "Requirement already satisfied: rsa>=3.1.4 in /opt/anaconda3/lib/python3.7/site-packages (from oauth2client) (4.0)\n",
      "Installing collected packages: httplib2, oauth2client\n",
      "Successfully installed httplib2-0.17.2 oauth2client-4.1.3\n",
      "Note: you may need to restart the kernel to use updated packages.\n"
     ]
    }
   ],
   "source": [
    "pip install oauth2client"
   ]
  },
  {
   "cell_type": "code",
   "execution_count": 23,
   "metadata": {},
   "outputs": [],
   "source": [
    "from oauth2client.service_account import ServiceAccountCredentials\n",
    "import gspread\n",
    "import pandas as pd"
   ]
  },
  {
   "cell_type": "code",
   "execution_count": 24,
   "metadata": {},
   "outputs": [],
   "source": [
    "scope = [\n",
    "    'https://www.googleapis.com/auth/spreadsheets',\n",
    "]"
   ]
  },
  {
   "cell_type": "code",
   "execution_count": 25,
   "metadata": {},
   "outputs": [],
   "source": [
    "GOOGLE_KEY_FILE = 'gsheets_key.json'"
   ]
  },
  {
   "cell_type": "code",
   "execution_count": 26,
   "metadata": {},
   "outputs": [],
   "source": [
    "credentials = ServiceAccountCredentials.from_json_keyfile_name(GOOGLE_KEY_FILE, scope)\n",
    "gc = gspread.authorize(credentials)"
   ]
  },
  {
   "cell_type": "code",
   "execution_count": 27,
   "metadata": {},
   "outputs": [],
   "source": [
    "wokbook_key = '1mGcKJNUJJvVbN4ycStlQM6PIyWe7ZX1TSSu0OEjH6eY'\n",
    "workbook = gc.open_by_key(wokbook_key)"
   ]
  },
  {
   "cell_type": "code",
   "execution_count": 28,
   "metadata": {},
   "outputs": [],
   "source": [
    "sheet = workbook.get_worksheet(2)\n",
    "values = sheet.get_all_values()"
   ]
  },
  {
   "cell_type": "code",
   "execution_count": 29,
   "metadata": {},
   "outputs": [],
   "source": [
    "covid_data = pd.DataFrame(values[1:],columns=values[0])"
   ]
  },
  {
   "cell_type": "code",
   "execution_count": 30,
   "metadata": {},
   "outputs": [
    {
     "data": {
      "text/html": [
       "<div>\n",
       "<style scoped>\n",
       "    .dataframe tbody tr th:only-of-type {\n",
       "        vertical-align: middle;\n",
       "    }\n",
       "\n",
       "    .dataframe tbody tr th {\n",
       "        vertical-align: top;\n",
       "    }\n",
       "\n",
       "    .dataframe thead th {\n",
       "        text-align: right;\n",
       "    }\n",
       "</style>\n",
       "<table border=\"1\" class=\"dataframe\">\n",
       "  <thead>\n",
       "    <tr style=\"text-align: right;\">\n",
       "      <th></th>\n",
       "      <th>County</th>\n",
       "      <th>GEOGID</th>\n",
       "      <th>d_20200306</th>\n",
       "      <th>d_20200307</th>\n",
       "      <th>d_20200308</th>\n",
       "      <th>d_20200309</th>\n",
       "      <th>d_20200310</th>\n",
       "      <th>d_20200311</th>\n",
       "      <th>d_20200312</th>\n",
       "      <th>d_20200313</th>\n",
       "      <th>...</th>\n",
       "      <th>D_20200407</th>\n",
       "      <th>D_20200408</th>\n",
       "      <th>D_20200409</th>\n",
       "      <th>D_20200410</th>\n",
       "      <th>D_20200411</th>\n",
       "      <th>D_20200412</th>\n",
       "      <th>D_20200413</th>\n",
       "      <th>D_20200414</th>\n",
       "      <th>D_20200415</th>\n",
       "      <th>D_20200416</th>\n",
       "    </tr>\n",
       "  </thead>\n",
       "  <tbody>\n",
       "    <tr>\n",
       "      <th>0</th>\n",
       "      <td>Adams County</td>\n",
       "      <td>18001</td>\n",
       "      <td></td>\n",
       "      <td></td>\n",
       "      <td></td>\n",
       "      <td></td>\n",
       "      <td>1</td>\n",
       "      <td>1</td>\n",
       "      <td>1</td>\n",
       "      <td>1</td>\n",
       "      <td>...</td>\n",
       "      <td>2</td>\n",
       "      <td>2</td>\n",
       "      <td>2</td>\n",
       "      <td>4</td>\n",
       "      <td>4</td>\n",
       "      <td>5</td>\n",
       "      <td>5</td>\n",
       "      <td>6</td>\n",
       "      <td>6</td>\n",
       "      <td>6</td>\n",
       "    </tr>\n",
       "    <tr>\n",
       "      <th>1</th>\n",
       "      <td>Allen County</td>\n",
       "      <td>18003</td>\n",
       "      <td></td>\n",
       "      <td></td>\n",
       "      <td></td>\n",
       "      <td></td>\n",
       "      <td></td>\n",
       "      <td></td>\n",
       "      <td></td>\n",
       "      <td></td>\n",
       "      <td>...</td>\n",
       "      <td>87</td>\n",
       "      <td>95</td>\n",
       "      <td>105</td>\n",
       "      <td>119</td>\n",
       "      <td>136</td>\n",
       "      <td>147</td>\n",
       "      <td>156</td>\n",
       "      <td>167</td>\n",
       "      <td>180</td>\n",
       "      <td>224</td>\n",
       "    </tr>\n",
       "    <tr>\n",
       "      <th>2</th>\n",
       "      <td>Bartholomew County</td>\n",
       "      <td>18005</td>\n",
       "      <td></td>\n",
       "      <td></td>\n",
       "      <td></td>\n",
       "      <td></td>\n",
       "      <td></td>\n",
       "      <td></td>\n",
       "      <td></td>\n",
       "      <td></td>\n",
       "      <td>...</td>\n",
       "      <td>55</td>\n",
       "      <td>66</td>\n",
       "      <td>83</td>\n",
       "      <td>83</td>\n",
       "      <td>108</td>\n",
       "      <td>110</td>\n",
       "      <td>110</td>\n",
       "      <td>110</td>\n",
       "      <td>113</td>\n",
       "      <td>116</td>\n",
       "    </tr>\n",
       "    <tr>\n",
       "      <th>3</th>\n",
       "      <td>Benton County</td>\n",
       "      <td>18007</td>\n",
       "      <td></td>\n",
       "      <td></td>\n",
       "      <td></td>\n",
       "      <td></td>\n",
       "      <td></td>\n",
       "      <td></td>\n",
       "      <td></td>\n",
       "      <td></td>\n",
       "      <td>...</td>\n",
       "      <td>0</td>\n",
       "      <td>0</td>\n",
       "      <td>0</td>\n",
       "      <td>0</td>\n",
       "      <td>0</td>\n",
       "      <td>2</td>\n",
       "      <td>2</td>\n",
       "      <td>2</td>\n",
       "      <td>3</td>\n",
       "      <td>4</td>\n",
       "    </tr>\n",
       "    <tr>\n",
       "      <th>4</th>\n",
       "      <td>Blackford County</td>\n",
       "      <td>18009</td>\n",
       "      <td></td>\n",
       "      <td></td>\n",
       "      <td></td>\n",
       "      <td></td>\n",
       "      <td></td>\n",
       "      <td></td>\n",
       "      <td></td>\n",
       "      <td></td>\n",
       "      <td>...</td>\n",
       "      <td>4</td>\n",
       "      <td>4</td>\n",
       "      <td>4</td>\n",
       "      <td>4</td>\n",
       "      <td>5</td>\n",
       "      <td>5</td>\n",
       "      <td>5</td>\n",
       "      <td>6</td>\n",
       "      <td>6</td>\n",
       "      <td>6</td>\n",
       "    </tr>\n",
       "  </tbody>\n",
       "</table>\n",
       "<p>5 rows × 44 columns</p>\n",
       "</div>"
      ],
      "text/plain": [
       "               County GEOGID d_20200306 d_20200307 d_20200308 d_20200309  \\\n",
       "0        Adams County  18001                                               \n",
       "1        Allen County  18003                                               \n",
       "2  Bartholomew County  18005                                               \n",
       "3       Benton County  18007                                               \n",
       "4    Blackford County  18009                                               \n",
       "\n",
       "  d_20200310 d_20200311 d_20200312 d_20200313  ... D_20200407 D_20200408  \\\n",
       "0          1          1          1          1  ...          2          2   \n",
       "1                                              ...         87         95   \n",
       "2                                              ...         55         66   \n",
       "3                                              ...          0          0   \n",
       "4                                              ...          4          4   \n",
       "\n",
       "  D_20200409 D_20200410 D_20200411 D_20200412 D_20200413 D_20200414  \\\n",
       "0          2          4          4          5          5          6   \n",
       "1        105        119        136        147        156        167   \n",
       "2         83         83        108        110        110        110   \n",
       "3          0          0          0          2          2          2   \n",
       "4          4          4          5          5          5          6   \n",
       "\n",
       "  D_20200415 D_20200416  \n",
       "0          6          6  \n",
       "1        180        224  \n",
       "2        113        116  \n",
       "3          3          4  \n",
       "4          6          6  \n",
       "\n",
       "[5 rows x 44 columns]"
      ]
     },
     "execution_count": 30,
     "metadata": {},
     "output_type": "execute_result"
    }
   ],
   "source": [
    "covid_data.head()"
   ]
  },
  {
   "cell_type": "code",
   "execution_count": 31,
   "metadata": {},
   "outputs": [],
   "source": [
    "decatur_johnson_vanderburgh_covid = covid_data.loc[covid_data['County'].isin(['Decatur County', 'Johnson County', 'Vanderburgh County'])]\n",
    "boone_lake_warrick_covid = covid_data.loc[covid_data['County'].isin(['Boone County', 'Lake County', 'Warrick County'])]"
   ]
  },
  {
   "cell_type": "code",
   "execution_count": 19,
   "metadata": {},
   "outputs": [
    {
     "data": {
      "text/html": [
       "<div>\n",
       "<style scoped>\n",
       "    .dataframe tbody tr th:only-of-type {\n",
       "        vertical-align: middle;\n",
       "    }\n",
       "\n",
       "    .dataframe tbody tr th {\n",
       "        vertical-align: top;\n",
       "    }\n",
       "\n",
       "    .dataframe thead th {\n",
       "        text-align: right;\n",
       "    }\n",
       "</style>\n",
       "<table border=\"1\" class=\"dataframe\">\n",
       "  <thead>\n",
       "    <tr style=\"text-align: right;\">\n",
       "      <th></th>\n",
       "      <th>County</th>\n",
       "      <th>GEOGID</th>\n",
       "      <th>d_20200306</th>\n",
       "      <th>d_20200307</th>\n",
       "      <th>d_20200308</th>\n",
       "      <th>d_20200309</th>\n",
       "      <th>d_20200310</th>\n",
       "      <th>d_20200311</th>\n",
       "      <th>d_20200312</th>\n",
       "      <th>d_20200313</th>\n",
       "      <th>...</th>\n",
       "      <th>D_20200407</th>\n",
       "      <th>D_20200408</th>\n",
       "      <th>D_20200409</th>\n",
       "      <th>D_20200410</th>\n",
       "      <th>D_20200411</th>\n",
       "      <th>D_20200412</th>\n",
       "      <th>D_20200413</th>\n",
       "      <th>D_20200414</th>\n",
       "      <th>D_20200415</th>\n",
       "      <th>D_20200416</th>\n",
       "    </tr>\n",
       "  </thead>\n",
       "  <tbody>\n",
       "    <tr>\n",
       "      <th>5</th>\n",
       "      <td>Boone County</td>\n",
       "      <td>18011</td>\n",
       "      <td></td>\n",
       "      <td></td>\n",
       "      <td></td>\n",
       "      <td></td>\n",
       "      <td>1</td>\n",
       "      <td>1</td>\n",
       "      <td>1</td>\n",
       "      <td>1</td>\n",
       "      <td>...</td>\n",
       "      <td>74</td>\n",
       "      <td>76</td>\n",
       "      <td>84</td>\n",
       "      <td>90</td>\n",
       "      <td>103</td>\n",
       "      <td>109</td>\n",
       "      <td>109</td>\n",
       "      <td>125</td>\n",
       "      <td>129</td>\n",
       "      <td>136</td>\n",
       "    </tr>\n",
       "    <tr>\n",
       "      <th>44</th>\n",
       "      <td>Lake County</td>\n",
       "      <td>18089</td>\n",
       "      <td></td>\n",
       "      <td></td>\n",
       "      <td></td>\n",
       "      <td></td>\n",
       "      <td></td>\n",
       "      <td></td>\n",
       "      <td></td>\n",
       "      <td></td>\n",
       "      <td>...</td>\n",
       "      <td>418</td>\n",
       "      <td>461</td>\n",
       "      <td>525</td>\n",
       "      <td>576</td>\n",
       "      <td>676</td>\n",
       "      <td>744</td>\n",
       "      <td>796</td>\n",
       "      <td>819</td>\n",
       "      <td>876</td>\n",
       "      <td>978</td>\n",
       "    </tr>\n",
       "    <tr>\n",
       "      <th>86</th>\n",
       "      <td>Warrick County</td>\n",
       "      <td>18173</td>\n",
       "      <td></td>\n",
       "      <td></td>\n",
       "      <td></td>\n",
       "      <td></td>\n",
       "      <td></td>\n",
       "      <td></td>\n",
       "      <td></td>\n",
       "      <td></td>\n",
       "      <td>...</td>\n",
       "      <td>23</td>\n",
       "      <td>26</td>\n",
       "      <td>30</td>\n",
       "      <td>33</td>\n",
       "      <td>34</td>\n",
       "      <td>36</td>\n",
       "      <td>38</td>\n",
       "      <td>39</td>\n",
       "      <td>41</td>\n",
       "      <td>51</td>\n",
       "    </tr>\n",
       "  </tbody>\n",
       "</table>\n",
       "<p>3 rows × 44 columns</p>\n",
       "</div>"
      ],
      "text/plain": [
       "            County GEOGID d_20200306 d_20200307 d_20200308 d_20200309  \\\n",
       "5     Boone County  18011                                               \n",
       "44     Lake County  18089                                               \n",
       "86  Warrick County  18173                                               \n",
       "\n",
       "   d_20200310 d_20200311 d_20200312 d_20200313  ... D_20200407 D_20200408  \\\n",
       "5           1          1          1          1  ...         74         76   \n",
       "44                                              ...        418        461   \n",
       "86                                              ...         23         26   \n",
       "\n",
       "   D_20200409 D_20200410 D_20200411 D_20200412 D_20200413 D_20200414  \\\n",
       "5          84         90        103        109        109        125   \n",
       "44        525        576        676        744        796        819   \n",
       "86         30         33         34         36         38         39   \n",
       "\n",
       "   D_20200415 D_20200416  \n",
       "5         129        136  \n",
       "44        876        978  \n",
       "86         41         51  \n",
       "\n",
       "[3 rows x 44 columns]"
      ]
     },
     "execution_count": 19,
     "metadata": {},
     "output_type": "execute_result"
    }
   ],
   "source": [
    "boone_lake_warrick_covid.head()"
   ]
  },
  {
   "cell_type": "code",
   "execution_count": 32,
   "metadata": {},
   "outputs": [
    {
     "data": {
      "text/plain": [
       "Index(['County', 'GEOGID', 'd_20200306', 'd_20200307', 'd_20200308',\n",
       "       'd_20200309', 'd_20200310', 'd_20200311', 'd_20200312', 'd_20200313',\n",
       "       'd_20200314', 'd_20200315', 'd_20200316', 'd_20200317', 'd_20200318',\n",
       "       'd_20200319', 'd_20200320', 'd_20200321', 'd_20200322', 'D_20200323',\n",
       "       'D_20200324', 'D_20200325', 'D_20200326', 'D_20200327', 'D_20200328',\n",
       "       'D_20200329', 'D_20200330', 'D_20200331', 'D_20200401', 'D_20200402',\n",
       "       'D_20200403', 'D_20200404', 'D_20200405', 'D_20200406', 'D_20200407',\n",
       "       'D_20200408', 'D_20200409', 'D_20200410', 'D_20200411', 'D_20200412',\n",
       "       'D_20200413', 'D_20200414', 'D_20200415', 'D_20200416'],\n",
       "      dtype='object')"
      ]
     },
     "execution_count": 32,
     "metadata": {},
     "output_type": "execute_result"
    }
   ],
   "source": [
    "decatur_johnson_vanderburgh_covid.columns"
   ]
  },
  {
   "cell_type": "code",
   "execution_count": 33,
   "metadata": {},
   "outputs": [],
   "source": [
    "djv_melt = decatur_johnson_vanderburgh_covid.melt(id_vars=['County', 'GEOGID'], var_name='Date', value_name=\"Count\")\n",
    "blw_melt = boone_lake_warrick_covid.melt(id_vars=['County', 'GEOGID'], var_name='Date', value_name=\"Count\")"
   ]
  },
  {
   "cell_type": "code",
   "execution_count": 34,
   "metadata": {},
   "outputs": [],
   "source": [
    "djv_melt['Date'] = djv_melt['Date'].map(lambda x: x.lstrip('dD_'))\n",
    "blw_melt['Date'] = blw_melt['Date'].map(lambda x: x.lstrip('dD_'))"
   ]
  },
  {
   "cell_type": "code",
   "execution_count": 35,
   "metadata": {},
   "outputs": [
    {
     "data": {
      "text/html": [
       "<div>\n",
       "<style scoped>\n",
       "    .dataframe tbody tr th:only-of-type {\n",
       "        vertical-align: middle;\n",
       "    }\n",
       "\n",
       "    .dataframe tbody tr th {\n",
       "        vertical-align: top;\n",
       "    }\n",
       "\n",
       "    .dataframe thead th {\n",
       "        text-align: right;\n",
       "    }\n",
       "</style>\n",
       "<table border=\"1\" class=\"dataframe\">\n",
       "  <thead>\n",
       "    <tr style=\"text-align: right;\">\n",
       "      <th></th>\n",
       "      <th>County</th>\n",
       "      <th>GEOGID</th>\n",
       "      <th>Date</th>\n",
       "      <th>Count</th>\n",
       "    </tr>\n",
       "  </thead>\n",
       "  <tbody>\n",
       "    <tr>\n",
       "      <th>0</th>\n",
       "      <td>Boone County</td>\n",
       "      <td>18011</td>\n",
       "      <td>20200306</td>\n",
       "      <td></td>\n",
       "    </tr>\n",
       "    <tr>\n",
       "      <th>1</th>\n",
       "      <td>Lake County</td>\n",
       "      <td>18089</td>\n",
       "      <td>20200306</td>\n",
       "      <td></td>\n",
       "    </tr>\n",
       "    <tr>\n",
       "      <th>2</th>\n",
       "      <td>Warrick County</td>\n",
       "      <td>18173</td>\n",
       "      <td>20200306</td>\n",
       "      <td></td>\n",
       "    </tr>\n",
       "    <tr>\n",
       "      <th>3</th>\n",
       "      <td>Boone County</td>\n",
       "      <td>18011</td>\n",
       "      <td>20200307</td>\n",
       "      <td></td>\n",
       "    </tr>\n",
       "    <tr>\n",
       "      <th>4</th>\n",
       "      <td>Lake County</td>\n",
       "      <td>18089</td>\n",
       "      <td>20200307</td>\n",
       "      <td></td>\n",
       "    </tr>\n",
       "  </tbody>\n",
       "</table>\n",
       "</div>"
      ],
      "text/plain": [
       "           County GEOGID      Date Count\n",
       "0    Boone County  18011  20200306      \n",
       "1     Lake County  18089  20200306      \n",
       "2  Warrick County  18173  20200306      \n",
       "3    Boone County  18011  20200307      \n",
       "4     Lake County  18089  20200307      "
      ]
     },
     "execution_count": 35,
     "metadata": {},
     "output_type": "execute_result"
    }
   ],
   "source": [
    "blw_melt.head()"
   ]
  },
  {
   "cell_type": "code",
   "execution_count": 36,
   "metadata": {},
   "outputs": [],
   "source": [
    "import numpy as np\n",
    "vanderburgh_covid = djv_melt.loc[djv_melt['County'].isin(['Vanderburgh County'])]\n",
    "vanderburgh_covid = vanderburgh_covid.reset_index(drop=True) \n",
    "vanderburgh_covid.replace('', np.nan, inplace=True)\n",
    "vanderburgh_covid.fillna(0, inplace=True)\n",
    "vanderburgh_covid['Count'] = vanderburgh_covid['Count'].astype(int)"
   ]
  },
  {
   "cell_type": "code",
   "execution_count": 37,
   "metadata": {},
   "outputs": [],
   "source": [
    "import pickle\n",
    "vanderburgh_covid.to_pickle(\"vanderburgh_covid.pkl\")"
   ]
  },
  {
   "cell_type": "code",
   "execution_count": 17,
   "metadata": {},
   "outputs": [],
   "source": [
    "vanderburgh_covid.to_json('static/data/vanderburgh_covid.json')"
   ]
  },
  {
   "cell_type": "code",
   "execution_count": 38,
   "metadata": {},
   "outputs": [],
   "source": [
    "decatur_covid = djv_melt.loc[djv_melt['County'].isin(['Decatur County'])]\n",
    "decatur_covid = decatur_covid.reset_index(drop=True) \n",
    "decatur_covid.replace('', np.nan, inplace=True)\n",
    "decatur_covid.fillna(0, inplace=True)\n",
    "decatur_covid['Count'] = decatur_covid['Count'].astype(int)"
   ]
  },
  {
   "cell_type": "code",
   "execution_count": 39,
   "metadata": {},
   "outputs": [],
   "source": [
    "decatur_covid.to_pickle(\"decatur_covid.pkl\")"
   ]
  },
  {
   "cell_type": "code",
   "execution_count": 20,
   "metadata": {},
   "outputs": [],
   "source": [
    "decatur_covid.to_json('static/data/decatur_covid.json')"
   ]
  },
  {
   "cell_type": "code",
   "execution_count": 40,
   "metadata": {},
   "outputs": [],
   "source": [
    "johnson_covid = djv_melt.loc[djv_melt['County'].isin(['Johnson County'])]\n",
    "johnson_covid = johnson_covid.reset_index(drop=True) \n",
    "johnson_covid.replace('', np.nan, inplace=True)\n",
    "johnson_covid.fillna(0, inplace=True)\n",
    "johnson_covid['Count'] = johnson_covid['Count'].astype(int)"
   ]
  },
  {
   "cell_type": "code",
   "execution_count": 41,
   "metadata": {},
   "outputs": [],
   "source": [
    "johnson_covid.to_pickle(\"johnson_covid.pkl\")"
   ]
  },
  {
   "cell_type": "code",
   "execution_count": 23,
   "metadata": {},
   "outputs": [],
   "source": [
    "johnson_covid.to_json('static/data/johnson_covid.json')"
   ]
  },
  {
   "cell_type": "code",
   "execution_count": 42,
   "metadata": {},
   "outputs": [],
   "source": [
    "Lake_covid = blw_melt.loc[blw_melt['County'].isin(['Lake County'])]\n",
    "Lake_covid = Lake_covid.reset_index(drop=True) \n",
    "Lake_covid.replace('', np.nan, inplace=True)\n",
    "Lake_covid.fillna(0, inplace=True)\n",
    "Lake_covid['Count'] = Lake_covid['Count'].astype(int)"
   ]
  },
  {
   "cell_type": "code",
   "execution_count": 43,
   "metadata": {},
   "outputs": [],
   "source": [
    "Lake_covid.to_pickle(\"Lake_covid.pkl\")"
   ]
  },
  {
   "cell_type": "code",
   "execution_count": 44,
   "metadata": {},
   "outputs": [],
   "source": [
    "Boone_covid = blw_melt.loc[blw_melt['County'].isin(['Boone County'])]\n",
    "Boone_covid = Boone_covid.reset_index(drop=True) \n",
    "Boone_covid.replace('', np.nan, inplace=True)\n",
    "Boone_covid.fillna(0, inplace=True)\n",
    "Boone_covid['Count'] = Boone_covid['Count'].astype(int)"
   ]
  },
  {
   "cell_type": "code",
   "execution_count": 45,
   "metadata": {},
   "outputs": [],
   "source": [
    "Boone_covid.to_pickle(\"Boone_covid.pkl\")"
   ]
  },
  {
   "cell_type": "code",
   "execution_count": 46,
   "metadata": {},
   "outputs": [],
   "source": [
    "Warrick_covid = blw_melt.loc[blw_melt['County'].isin(['Warrick County'])]\n",
    "Warrick_covid = Warrick_covid.reset_index(drop=True) \n",
    "Warrick_covid.replace('', np.nan, inplace=True)\n",
    "Warrick_covid.fillna(0, inplace=True)\n",
    "Warrick_covid['Count'] = Warrick_covid['Count'].astype(int)"
   ]
  },
  {
   "cell_type": "code",
   "execution_count": 47,
   "metadata": {},
   "outputs": [],
   "source": [
    "Warrick_covid.to_pickle(\"Warrick_covid.pkl\")"
   ]
  },
  {
   "cell_type": "code",
   "execution_count": null,
   "metadata": {},
   "outputs": [],
   "source": []
  }
 ],
 "metadata": {
  "kernelspec": {
   "display_name": "Python 3",
   "language": "python",
   "name": "python3"
  },
  "language_info": {
   "codemirror_mode": {
    "name": "ipython",
    "version": 3
   },
   "file_extension": ".py",
   "mimetype": "text/x-python",
   "name": "python",
   "nbconvert_exporter": "python",
   "pygments_lexer": "ipython3",
   "version": "3.7.6"
  }
 },
 "nbformat": 4,
 "nbformat_minor": 4
}
