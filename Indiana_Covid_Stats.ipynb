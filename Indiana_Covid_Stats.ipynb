{
 "cells": [
  {
   "cell_type": "code",
   "execution_count": 1,
   "metadata": {},
   "outputs": [],
   "source": [
    "import bls\n",
    "from blsconnect import RequestBLS, bls_search\n",
    "import pandas as pd\n",
    "from pandas import DataFrame, Series\n",
    "from bs4 import BeautifulSoup\n",
    "import requests\n",
    "import dateutil\n",
    "from datetime import datetime\n",
    "#import datetime\n",
    "import calendar\n",
    "dict((v,k) for k,v in enumerate(calendar.month_abbr)) #from dateutil.rrule import *\n",
    "#from dateutil.parser import *\n",
    "#from datetime import *\n",
    "import csv\n",
    "import numpy as np\n",
    "import matplotlib.pyplot as plt\n",
    "import matplotlib\n",
    "import json"
   ]
  },
  {
   "cell_type": "code",
   "execution_count": 2,
   "metadata": {},
   "outputs": [],
   "source": [
    "from config import BLS_API_KEY\n",
    "bls = RequestBLS(key = BLS_API_KEY)"
   ]
  },
  {
   "cell_type": "code",
   "execution_count": 3,
   "metadata": {},
   "outputs": [],
   "source": [
    "IN_COVID_19_Cases_A = pd.read_csv(\"data/Indiana_COVID-19_Cases_ by_Day-COVID_Cases_Total_by_Day.csv\")\n",
    "IN_COVID_19_Cases_A.columns = ['County','GeoID','2020-03-06','2020-03-07','2020-03-08','2020-03-09','2020-03-10','2020-03-11','2020-03-12','2020-03-13'\n",
    "                            ,'2020-03-14','2020-03-15','2020-03-16','2020-03-17','2020-03-18','2020-03-19','2020-03-20','2020-03-21','2020-03-22','2020-03-23'\n",
    "                            ,'2020-03-24','2020-03-25','2020-03-26','2020-03-27','2020-03-28','2020-03-29','2020-03-30','2020-03-31'\n",
    "                            ,'2020-04-01','2020-04-02','2020-04-03','2020-04-04']"
   ]
  },
  {
   "cell_type": "code",
   "execution_count": 4,
   "metadata": {},
   "outputs": [
    {
     "data": {
      "text/html": [
       "<div>\n",
       "<style scoped>\n",
       "    .dataframe tbody tr th:only-of-type {\n",
       "        vertical-align: middle;\n",
       "    }\n",
       "\n",
       "    .dataframe tbody tr th {\n",
       "        vertical-align: top;\n",
       "    }\n",
       "\n",
       "    .dataframe thead th {\n",
       "        text-align: right;\n",
       "    }\n",
       "</style>\n",
       "<table border=\"1\" class=\"dataframe\">\n",
       "  <thead>\n",
       "    <tr style=\"text-align: right;\">\n",
       "      <th></th>\n",
       "      <th>County</th>\n",
       "      <th>GeoID</th>\n",
       "      <th>2020-03-06</th>\n",
       "      <th>2020-03-07</th>\n",
       "      <th>2020-03-08</th>\n",
       "      <th>2020-03-09</th>\n",
       "      <th>2020-03-10</th>\n",
       "      <th>2020-03-11</th>\n",
       "      <th>2020-03-12</th>\n",
       "      <th>2020-03-13</th>\n",
       "      <th>...</th>\n",
       "      <th>2020-03-26</th>\n",
       "      <th>2020-03-27</th>\n",
       "      <th>2020-03-28</th>\n",
       "      <th>2020-03-29</th>\n",
       "      <th>2020-03-30</th>\n",
       "      <th>2020-03-31</th>\n",
       "      <th>2020-04-01</th>\n",
       "      <th>2020-04-02</th>\n",
       "      <th>2020-04-03</th>\n",
       "      <th>2020-04-04</th>\n",
       "    </tr>\n",
       "  </thead>\n",
       "  <tbody>\n",
       "    <tr>\n",
       "      <td>0</td>\n",
       "      <td>Adams County</td>\n",
       "      <td>18001</td>\n",
       "      <td>N/A</td>\n",
       "      <td>N/A</td>\n",
       "      <td>N/A</td>\n",
       "      <td>N/A</td>\n",
       "      <td>1</td>\n",
       "      <td>1</td>\n",
       "      <td>1</td>\n",
       "      <td>1</td>\n",
       "      <td>...</td>\n",
       "      <td>1</td>\n",
       "      <td>1</td>\n",
       "      <td>1</td>\n",
       "      <td>1</td>\n",
       "      <td>1</td>\n",
       "      <td>1</td>\n",
       "      <td>1</td>\n",
       "      <td>1</td>\n",
       "      <td>1</td>\n",
       "      <td>2</td>\n",
       "    </tr>\n",
       "    <tr>\n",
       "      <td>1</td>\n",
       "      <td>Allen County</td>\n",
       "      <td>18003</td>\n",
       "      <td>N/A</td>\n",
       "      <td>N/A</td>\n",
       "      <td>N/A</td>\n",
       "      <td>N/A</td>\n",
       "      <td>N/A</td>\n",
       "      <td>N/A</td>\n",
       "      <td>N/A</td>\n",
       "      <td>N/A</td>\n",
       "      <td>...</td>\n",
       "      <td>8</td>\n",
       "      <td>21</td>\n",
       "      <td>23</td>\n",
       "      <td>26</td>\n",
       "      <td>28</td>\n",
       "      <td>30</td>\n",
       "      <td>39</td>\n",
       "      <td>46</td>\n",
       "      <td>58</td>\n",
       "      <td>59</td>\n",
       "    </tr>\n",
       "  </tbody>\n",
       "</table>\n",
       "<p>2 rows × 32 columns</p>\n",
       "</div>"
      ],
      "text/plain": [
       "         County  GeoID 2020-03-06 2020-03-07 2020-03-08 2020-03-09 2020-03-10  \\\n",
       "0  Adams County  18001        N/A        N/A        N/A        N/A          1   \n",
       "1  Allen County  18003        N/A        N/A        N/A        N/A        N/A   \n",
       "\n",
       "  2020-03-11 2020-03-12 2020-03-13  ... 2020-03-26 2020-03-27 2020-03-28  \\\n",
       "0          1          1          1  ...          1          1          1   \n",
       "1        N/A        N/A        N/A  ...          8         21         23   \n",
       "\n",
       "  2020-03-29 2020-03-30 2020-03-31 2020-04-01 2020-04-02 2020-04-03 2020-04-04  \n",
       "0          1          1          1          1          1          1          2  \n",
       "1         26         28         30         39         46         58         59  \n",
       "\n",
       "[2 rows x 32 columns]"
      ]
     },
     "execution_count": 4,
     "metadata": {},
     "output_type": "execute_result"
    }
   ],
   "source": [
    "IN_COVID_19_Cases = IN_COVID_19_Cases_A.replace(np.nan, \"N/A\")\n",
    "IN_COVID_19_Cases.head(2)"
   ]
  },
  {
   "cell_type": "code",
   "execution_count": null,
   "metadata": {},
   "outputs": [],
   "source": [
    "#IN_COVID_19_Cases.to_json('json\\IN_Covid_19_Cases_stats.json')"
   ]
  },
  {
   "cell_type": "code",
   "execution_count": null,
   "metadata": {},
   "outputs": [],
   "source": [
    "#from sqlalchemy import create_engine\n",
    "#db = create_engine('sqlite:///project2.sqlite')"
   ]
  },
  {
   "cell_type": "code",
   "execution_count": null,
   "metadata": {},
   "outputs": [],
   "source": [
    "#IN_COVID_19_Cases.to_sql('IN_Covid_19_Cases', con=db, if_exists='append')"
   ]
  },
  {
   "cell_type": "code",
   "execution_count": null,
   "metadata": {},
   "outputs": [],
   "source": [
    "#IN_COVID_19_Cases = pd.read_sql_query('SELECT * FROM IN_Covid_19_Cases LIMIT 3',db)\n",
    "#IN_COVID_19_Cases.head()"
   ]
  },
  {
   "cell_type": "code",
   "execution_count": null,
   "metadata": {},
   "outputs": [],
   "source": []
  }
 ],
 "metadata": {
  "kernelspec": {
   "display_name": "Python 3",
   "language": "python",
   "name": "python3"
  },
  "language_info": {
   "codemirror_mode": {
    "name": "ipython",
    "version": 3
   },
   "file_extension": ".py",
   "mimetype": "text/x-python",
   "name": "python",
   "nbconvert_exporter": "python",
   "pygments_lexer": "ipython3",
   "version": "3.7.4"
  }
 },
 "nbformat": 4,
 "nbformat_minor": 4
}
