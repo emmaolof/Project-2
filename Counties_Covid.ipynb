{
 "cells": [
  {
   "cell_type": "code",
   "execution_count": 3,
   "metadata": {},
   "outputs": [
    {
     "output_type": "stream",
     "name": "stdout",
     "text": "Requirement already satisfied: gspread in c:\\users\\emmanuel\\anaconda3\\lib\\site-packages (3.4.2)\nRequirement already satisfied: google-auth in c:\\users\\emmanuel\\anaconda3\\lib\\site-packages (from gspread) (1.14.0)\nRequirement already satisfied: requests>=2.2.1 in c:\\users\\emmanuel\\anaconda3\\lib\\site-packages (from gspread) (2.22.0)\nRequirement already satisfied: cachetools<5.0,>=2.0.0 in c:\\users\\emmanuel\\anaconda3\\lib\\site-packages (from google-auth->gspread) (4.1.0)\nRequirement already satisfied: pyasn1-modules>=0.2.1 in c:\\users\\emmanuel\\anaconda3\\lib\\site-packages (from google-auth->gspread) (0.2.8)\nRequirement already satisfied: setuptools>=40.3.0 in c:\\users\\emmanuel\\anaconda3\\lib\\site-packages (from google-auth->gspread) (44.0.0.post20200106)\nRequirement already satisfied: rsa<4.1,>=3.1.4 in c:\\users\\emmanuel\\anaconda3\\lib\\site-packages (from google-auth->gspread) (4.0)\nRequirement already satisfied: six>=1.9.0 in c:\\users\\emmanuel\\anaconda3\\lib\\site-packages (from google-auth->gspread) (1.13.0)\nRequirement already satisfied: urllib3!=1.25.0,!=1.25.1,<1.26,>=1.21.1 in c:\\users\\emmanuel\\anaconda3\\lib\\site-packages (from requests>=2.2.1->gspread) (1.25.7)\nRequirement already satisfied: certifi>=2017.4.17 in c:\\users\\emmanuel\\anaconda3\\lib\\site-packages (from requests>=2.2.1->gspread) (2019.11.28)\nRequirement already satisfied: idna<2.9,>=2.5 in c:\\users\\emmanuel\\anaconda3\\lib\\site-packages (from requests>=2.2.1->gspread) (2.8)\nRequirement already satisfied: chardet<3.1.0,>=3.0.2 in c:\\users\\emmanuel\\anaconda3\\lib\\site-packages (from requests>=2.2.1->gspread) (3.0.4)\nRequirement already satisfied: pyasn1<0.5.0,>=0.4.6 in c:\\users\\emmanuel\\anaconda3\\lib\\site-packages (from pyasn1-modules>=0.2.1->google-auth->gspread) (0.4.8)\nNote: you may need to restart the kernel to use updated packages.\n"
    }
   ],
   "source": [
    "pip install gspread"
   ]
  },
  {
   "cell_type": "code",
   "execution_count": 256,
   "metadata": {},
   "outputs": [
    {
     "output_type": "stream",
     "name": "stdout",
     "text": "Requirement already satisfied: oauth2client in c:\\users\\emmanuel\\anaconda3\\lib\\site-packages (4.1.3)\nRequirement already satisfied: six>=1.6.1 in c:\\users\\emmanuel\\anaconda3\\lib\\site-packages (from oauth2client) (1.13.0)\nRequirement already satisfied: rsa>=3.1.4 in c:\\users\\emmanuel\\anaconda3\\lib\\site-packages (from oauth2client) (4.0)\nRequirement already satisfied: pyasn1-modules>=0.0.5 in c:\\users\\emmanuel\\anaconda3\\lib\\site-packages (from oauth2client) (0.2.8)\nRequirement already satisfied: httplib2>=0.9.1 in c:\\users\\emmanuel\\anaconda3\\lib\\site-packages (from oauth2client) (0.17.2)\nRequirement already satisfied: pyasn1>=0.1.7 in c:\\users\\emmanuel\\anaconda3\\lib\\site-packages (from oauth2client) (0.4.8)\nNote: you may need to restart the kernel to use updated packages.\n"
    }
   ],
   "source": [
    "pip install oauth2client"
   ]
  },
  {
   "cell_type": "code",
   "execution_count": 4,
   "metadata": {},
   "outputs": [],
   "source": [
    "from oauth2client.service_account import ServiceAccountCredentials\n",
    "import gspread\n",
    "import pandas as pd"
   ]
  },
  {
   "cell_type": "code",
   "execution_count": 5,
   "metadata": {},
   "outputs": [],
   "source": [
    "scope = [\n",
    "    'https://www.googleapis.com/auth/spreadsheets',\n",
    "]"
   ]
  },
  {
   "cell_type": "code",
   "execution_count": 6,
   "metadata": {},
   "outputs": [],
   "source": [
    "GOOGLE_KEY_FILE = 'gsheets_key.json'"
   ]
  },
  {
   "cell_type": "code",
   "execution_count": 7,
   "metadata": {},
   "outputs": [],
   "source": [
    "credentials = ServiceAccountCredentials.from_json_keyfile_name(GOOGLE_KEY_FILE, scope)\n",
    "gc = gspread.authorize(credentials)"
   ]
  },
  {
   "cell_type": "code",
   "execution_count": 8,
   "metadata": {},
   "outputs": [],
   "source": [
    "wokbook_key = '1mGcKJNUJJvVbN4ycStlQM6PIyWe7ZX1TSSu0OEjH6eY'\n",
    "workbook = gc.open_by_key(wokbook_key)"
   ]
  },
  {
   "cell_type": "code",
   "execution_count": 9,
   "metadata": {},
   "outputs": [],
   "source": [
    "sheet = workbook.get_worksheet(2)\n",
    "values = sheet.get_all_values()"
   ]
  },
  {
   "cell_type": "code",
   "execution_count": 10,
   "metadata": {},
   "outputs": [],
   "source": [
    "covid_data = pd.DataFrame(values[1:],columns=values[0])"
   ]
  },
  {
   "cell_type": "code",
   "execution_count": 304,
   "metadata": {},
   "outputs": [
    {
     "output_type": "execute_result",
     "data": {
      "text/plain": "               County GEOGID d_20200306 d_20200307 d_20200308 d_20200309  \\\n0        Adams County  18001                                               \n1        Allen County  18003                                               \n2  Bartholomew County  18005                                               \n3       Benton County  18007                                               \n4    Blackford County  18009                                               \n\n  d_20200310 d_20200311 d_20200312 d_20200313  ... D_20200407 D_20200408  \\\n0          1          1          1          1  ...          2          2   \n1                                              ...         87         95   \n2                                              ...         55         66   \n3                                              ...          0          0   \n4                                              ...          4          4   \n\n  D_20200409 D_20200410 D_20200411 D_20200412 D_20200413 D_20200414  \\\n0          2          4          4          5          5          6   \n1        105        119        136        147        156        167   \n2         83         83        108        110        110        110   \n3          0          0          0          2          2          2   \n4          4          4          5          5          5          6   \n\n  D_20200415 D_20200416  \n0          6          6  \n1        180        224  \n2        113        116  \n3          3          4  \n4          6          6  \n\n[5 rows x 44 columns]",
      "text/html": "<div>\n<style scoped>\n    .dataframe tbody tr th:only-of-type {\n        vertical-align: middle;\n    }\n\n    .dataframe tbody tr th {\n        vertical-align: top;\n    }\n\n    .dataframe thead th {\n        text-align: right;\n    }\n</style>\n<table border=\"1\" class=\"dataframe\">\n  <thead>\n    <tr style=\"text-align: right;\">\n      <th></th>\n      <th>County</th>\n      <th>GEOGID</th>\n      <th>d_20200306</th>\n      <th>d_20200307</th>\n      <th>d_20200308</th>\n      <th>d_20200309</th>\n      <th>d_20200310</th>\n      <th>d_20200311</th>\n      <th>d_20200312</th>\n      <th>d_20200313</th>\n      <th>...</th>\n      <th>D_20200407</th>\n      <th>D_20200408</th>\n      <th>D_20200409</th>\n      <th>D_20200410</th>\n      <th>D_20200411</th>\n      <th>D_20200412</th>\n      <th>D_20200413</th>\n      <th>D_20200414</th>\n      <th>D_20200415</th>\n      <th>D_20200416</th>\n    </tr>\n  </thead>\n  <tbody>\n    <tr>\n      <th>0</th>\n      <td>Adams County</td>\n      <td>18001</td>\n      <td></td>\n      <td></td>\n      <td></td>\n      <td></td>\n      <td>1</td>\n      <td>1</td>\n      <td>1</td>\n      <td>1</td>\n      <td>...</td>\n      <td>2</td>\n      <td>2</td>\n      <td>2</td>\n      <td>4</td>\n      <td>4</td>\n      <td>5</td>\n      <td>5</td>\n      <td>6</td>\n      <td>6</td>\n      <td>6</td>\n    </tr>\n    <tr>\n      <th>1</th>\n      <td>Allen County</td>\n      <td>18003</td>\n      <td></td>\n      <td></td>\n      <td></td>\n      <td></td>\n      <td></td>\n      <td></td>\n      <td></td>\n      <td></td>\n      <td>...</td>\n      <td>87</td>\n      <td>95</td>\n      <td>105</td>\n      <td>119</td>\n      <td>136</td>\n      <td>147</td>\n      <td>156</td>\n      <td>167</td>\n      <td>180</td>\n      <td>224</td>\n    </tr>\n    <tr>\n      <th>2</th>\n      <td>Bartholomew County</td>\n      <td>18005</td>\n      <td></td>\n      <td></td>\n      <td></td>\n      <td></td>\n      <td></td>\n      <td></td>\n      <td></td>\n      <td></td>\n      <td>...</td>\n      <td>55</td>\n      <td>66</td>\n      <td>83</td>\n      <td>83</td>\n      <td>108</td>\n      <td>110</td>\n      <td>110</td>\n      <td>110</td>\n      <td>113</td>\n      <td>116</td>\n    </tr>\n    <tr>\n      <th>3</th>\n      <td>Benton County</td>\n      <td>18007</td>\n      <td></td>\n      <td></td>\n      <td></td>\n      <td></td>\n      <td></td>\n      <td></td>\n      <td></td>\n      <td></td>\n      <td>...</td>\n      <td>0</td>\n      <td>0</td>\n      <td>0</td>\n      <td>0</td>\n      <td>0</td>\n      <td>2</td>\n      <td>2</td>\n      <td>2</td>\n      <td>3</td>\n      <td>4</td>\n    </tr>\n    <tr>\n      <th>4</th>\n      <td>Blackford County</td>\n      <td>18009</td>\n      <td></td>\n      <td></td>\n      <td></td>\n      <td></td>\n      <td></td>\n      <td></td>\n      <td></td>\n      <td></td>\n      <td>...</td>\n      <td>4</td>\n      <td>4</td>\n      <td>4</td>\n      <td>4</td>\n      <td>5</td>\n      <td>5</td>\n      <td>5</td>\n      <td>6</td>\n      <td>6</td>\n      <td>6</td>\n    </tr>\n  </tbody>\n</table>\n<p>5 rows × 44 columns</p>\n</div>"
     },
     "metadata": {},
     "execution_count": 304
    }
   ],
   "source": [
    "covid_data.head()"
   ]
  },
  {
   "cell_type": "code",
   "execution_count": 11,
   "metadata": {},
   "outputs": [],
   "source": [
    "Allen_Hamilton_Hendricks_covid = covid_data.loc[covid_data['County'].isin(['Allen County', 'Hamilton County', 'Hendricks County'])]"
   ]
  },
  {
   "cell_type": "code",
   "execution_count": 12,
   "metadata": {},
   "outputs": [
    {
     "output_type": "execute_result",
     "data": {
      "text/plain": "              County GEOGID d_20200306 d_20200307 d_20200308 d_20200309  \\\n1       Allen County  18003                                               \n28   Hamilton County  18057                                               \n31  Hendricks County  18063                                1          2   \n\n   d_20200310 d_20200311 d_20200312 d_20200313  ... D_20200407 D_20200408  \\\n1                                               ...         87         95   \n28                                              ...        363        392   \n31          2          2          2          2  ...        225        243   \n\n   D_20200409 D_20200410 D_20200411 D_20200412 D_20200413 D_20200414  \\\n1         105        119        136        147        156        167   \n28        395        431        443        478        490        499   \n31        256        287        301        315        330        350   \n\n   D_20200415 D_20200416  \n1         180        224  \n28        510        520  \n31        360        378  \n\n[3 rows x 44 columns]",
      "text/html": "<div>\n<style scoped>\n    .dataframe tbody tr th:only-of-type {\n        vertical-align: middle;\n    }\n\n    .dataframe tbody tr th {\n        vertical-align: top;\n    }\n\n    .dataframe thead th {\n        text-align: right;\n    }\n</style>\n<table border=\"1\" class=\"dataframe\">\n  <thead>\n    <tr style=\"text-align: right;\">\n      <th></th>\n      <th>County</th>\n      <th>GEOGID</th>\n      <th>d_20200306</th>\n      <th>d_20200307</th>\n      <th>d_20200308</th>\n      <th>d_20200309</th>\n      <th>d_20200310</th>\n      <th>d_20200311</th>\n      <th>d_20200312</th>\n      <th>d_20200313</th>\n      <th>...</th>\n      <th>D_20200407</th>\n      <th>D_20200408</th>\n      <th>D_20200409</th>\n      <th>D_20200410</th>\n      <th>D_20200411</th>\n      <th>D_20200412</th>\n      <th>D_20200413</th>\n      <th>D_20200414</th>\n      <th>D_20200415</th>\n      <th>D_20200416</th>\n    </tr>\n  </thead>\n  <tbody>\n    <tr>\n      <th>1</th>\n      <td>Allen County</td>\n      <td>18003</td>\n      <td></td>\n      <td></td>\n      <td></td>\n      <td></td>\n      <td></td>\n      <td></td>\n      <td></td>\n      <td></td>\n      <td>...</td>\n      <td>87</td>\n      <td>95</td>\n      <td>105</td>\n      <td>119</td>\n      <td>136</td>\n      <td>147</td>\n      <td>156</td>\n      <td>167</td>\n      <td>180</td>\n      <td>224</td>\n    </tr>\n    <tr>\n      <th>28</th>\n      <td>Hamilton County</td>\n      <td>18057</td>\n      <td></td>\n      <td></td>\n      <td></td>\n      <td></td>\n      <td></td>\n      <td></td>\n      <td></td>\n      <td></td>\n      <td>...</td>\n      <td>363</td>\n      <td>392</td>\n      <td>395</td>\n      <td>431</td>\n      <td>443</td>\n      <td>478</td>\n      <td>490</td>\n      <td>499</td>\n      <td>510</td>\n      <td>520</td>\n    </tr>\n    <tr>\n      <th>31</th>\n      <td>Hendricks County</td>\n      <td>18063</td>\n      <td></td>\n      <td></td>\n      <td>1</td>\n      <td>2</td>\n      <td>2</td>\n      <td>2</td>\n      <td>2</td>\n      <td>2</td>\n      <td>...</td>\n      <td>225</td>\n      <td>243</td>\n      <td>256</td>\n      <td>287</td>\n      <td>301</td>\n      <td>315</td>\n      <td>330</td>\n      <td>350</td>\n      <td>360</td>\n      <td>378</td>\n    </tr>\n  </tbody>\n</table>\n<p>3 rows × 44 columns</p>\n</div>"
     },
     "metadata": {},
     "execution_count": 12
    }
   ],
   "source": [
    "Allen_Hamilton_Hendricks_covid.head()"
   ]
  },
  {
   "cell_type": "code",
   "execution_count": 13,
   "metadata": {},
   "outputs": [
    {
     "output_type": "execute_result",
     "data": {
      "text/plain": "Index(['County', 'GEOGID', 'd_20200306', 'd_20200307', 'd_20200308',\n       'd_20200309', 'd_20200310', 'd_20200311', 'd_20200312', 'd_20200313',\n       'd_20200314', 'd_20200315', 'd_20200316', 'd_20200317', 'd_20200318',\n       'd_20200319', 'd_20200320', 'd_20200321', 'd_20200322', 'D_20200323',\n       'D_20200324', 'D_20200325', 'D_20200326', 'D_20200327', 'D_20200328',\n       'D_20200329', 'D_20200330', 'D_20200331', 'D_20200401', 'D_20200402',\n       'D_20200403', 'D_20200404', 'D_20200405', 'D_20200406', 'D_20200407',\n       'D_20200408', 'D_20200409', 'D_20200410', 'D_20200411', 'D_20200412',\n       'D_20200413', 'D_20200414', 'D_20200415', 'D_20200416'],\n      dtype='object')"
     },
     "metadata": {},
     "execution_count": 13
    }
   ],
   "source": [
    "Allen_Hamilton_Hendricks_covid.columns"
   ]
  },
  {
   "cell_type": "code",
   "execution_count": 14,
   "metadata": {},
   "outputs": [],
   "source": [
    "djv_melt = Allen_Hamilton_Hendricks_covid.melt(id_vars=['County', 'GEOGID'], var_name='Date', value_name=\"Count\")"
   ]
  },
  {
   "cell_type": "code",
   "execution_count": 15,
   "metadata": {},
   "outputs": [],
   "source": [
    "djv_melt['Date'] = djv_melt['Date'].map(lambda x: x.lstrip('dD_'))"
   ]
  },
  {
   "cell_type": "code",
   "execution_count": 16,
   "metadata": {},
   "outputs": [
    {
     "output_type": "execute_result",
     "data": {
      "text/plain": "             County GEOGID      Date Count\n0      Allen County  18003  20200306      \n1   Hamilton County  18057  20200306      \n2  Hendricks County  18063  20200306      \n3      Allen County  18003  20200307      \n4   Hamilton County  18057  20200307      ",
      "text/html": "<div>\n<style scoped>\n    .dataframe tbody tr th:only-of-type {\n        vertical-align: middle;\n    }\n\n    .dataframe tbody tr th {\n        vertical-align: top;\n    }\n\n    .dataframe thead th {\n        text-align: right;\n    }\n</style>\n<table border=\"1\" class=\"dataframe\">\n  <thead>\n    <tr style=\"text-align: right;\">\n      <th></th>\n      <th>County</th>\n      <th>GEOGID</th>\n      <th>Date</th>\n      <th>Count</th>\n    </tr>\n  </thead>\n  <tbody>\n    <tr>\n      <th>0</th>\n      <td>Allen County</td>\n      <td>18003</td>\n      <td>20200306</td>\n      <td></td>\n    </tr>\n    <tr>\n      <th>1</th>\n      <td>Hamilton County</td>\n      <td>18057</td>\n      <td>20200306</td>\n      <td></td>\n    </tr>\n    <tr>\n      <th>2</th>\n      <td>Hendricks County</td>\n      <td>18063</td>\n      <td>20200306</td>\n      <td></td>\n    </tr>\n    <tr>\n      <th>3</th>\n      <td>Allen County</td>\n      <td>18003</td>\n      <td>20200307</td>\n      <td></td>\n    </tr>\n    <tr>\n      <th>4</th>\n      <td>Hamilton County</td>\n      <td>18057</td>\n      <td>20200307</td>\n      <td></td>\n    </tr>\n  </tbody>\n</table>\n</div>"
     },
     "metadata": {},
     "execution_count": 16
    }
   ],
   "source": [
    "djv_melt.head()"
   ]
  },
  {
   "cell_type": "code",
   "execution_count": 18,
   "metadata": {},
   "outputs": [],
   "source": [
    "import numpy as np\n",
    "Allen_covid = djv_melt.loc[djv_melt['County'].isin(['Allen County'])]\n",
    "Allen_covid = Allen_covid.reset_index(drop=True) \n",
    "Allen_covid.replace('', np.nan, inplace=True)\n",
    "Allen_covid.fillna(0, inplace=True)\n",
    "Allen_covid['Count'] = Allen_covid['Count'].astype(int)"
   ]
  },
  {
   "cell_type": "code",
   "execution_count": 318,
   "metadata": {},
   "outputs": [
    {
     "output_type": "execute_result",
     "data": {
      "text/plain": "<bound method NDFrame.describe of           County GEOGID      Date  Count\n0   Allen County  18003  20200306      0\n1   Allen County  18003  20200307      0\n2   Allen County  18003  20200308      0\n3   Allen County  18003  20200309      0\n4   Allen County  18003  20200310      0\n5   Allen County  18003  20200311      0\n6   Allen County  18003  20200312      0\n7   Allen County  18003  20200313      0\n8   Allen County  18003  20200314      0\n9   Allen County  18003  20200315      0\n10  Allen County  18003  20200316      0\n11  Allen County  18003  20200317      0\n12  Allen County  18003  20200318      0\n13  Allen County  18003  20200319      0\n14  Allen County  18003  20200320      1\n15  Allen County  18003  20200321      4\n16  Allen County  18003  20200322      4\n17  Allen County  18003  20200323      6\n18  Allen County  18003  20200324      7\n19  Allen County  18003  20200325      7\n20  Allen County  18003  20200326      8\n21  Allen County  18003  20200327     21\n22  Allen County  18003  20200328     23\n23  Allen County  18003  20200329     26\n24  Allen County  18003  20200330     28\n25  Allen County  18003  20200331     30\n26  Allen County  18003  20200401     39\n27  Allen County  18003  20200402     46\n28  Allen County  18003  20200403     58\n29  Allen County  18003  20200404     59\n30  Allen County  18003  20200405     63\n31  Allen County  18003  20200406     75\n32  Allen County  18003  20200407     87\n33  Allen County  18003  20200408     95\n34  Allen County  18003  20200409    105\n35  Allen County  18003  20200410    119\n36  Allen County  18003  20200411    136\n37  Allen County  18003  20200412    147\n38  Allen County  18003  20200413    156\n39  Allen County  18003  20200414    167\n40  Allen County  18003  20200415    180\n41  Allen County  18003  20200416    224>"
     },
     "metadata": {},
     "execution_count": 318
    }
   ],
   "source": [
    "Allen_covid.describe"
   ]
  },
  {
   "cell_type": "code",
   "execution_count": 19,
   "metadata": {},
   "outputs": [],
   "source": [
    "import pickle\n",
    "Allen_covid.to_pickle(\"Allen_covid.pkl\")"
   ]
  },
  {
   "cell_type": "code",
   "execution_count": 20,
   "metadata": {},
   "outputs": [],
   "source": [
    "Allen_covid.to_json('static/data/Allen_covid.json')"
   ]
  },
  {
   "cell_type": "code",
   "execution_count": 21,
   "metadata": {},
   "outputs": [],
   "source": [
    "import numpy as np\n",
    "Hamilton_covid = djv_melt.loc[djv_melt['County'].isin(['Hamilton County'])]\n",
    "Hamilton_covid = Hamilton_covid.reset_index(drop=True) \n",
    "Hamilton_covid.replace('', np.nan, inplace=True)\n",
    "Hamilton_covid.fillna(0, inplace=True)\n",
    "Hamilton_covid['Count'] = Hamilton_covid['Count'].astype(int)"
   ]
  },
  {
   "cell_type": "code",
   "execution_count": 23,
   "metadata": {},
   "outputs": [
    {
     "output_type": "execute_result",
     "data": {
      "text/plain": "<bound method NDFrame.describe of              County GEOGID      Date  Count\n0   Hamilton County  18057  20200306      0\n1   Hamilton County  18057  20200307      0\n2   Hamilton County  18057  20200308      0\n3   Hamilton County  18057  20200309      0\n4   Hamilton County  18057  20200310      0\n5   Hamilton County  18057  20200311      0\n6   Hamilton County  18057  20200312      0\n7   Hamilton County  18057  20200313      0\n8   Hamilton County  18057  20200314      0\n9   Hamilton County  18057  20200315      1\n10  Hamilton County  18057  20200316      1\n11  Hamilton County  18057  20200317      1\n12  Hamilton County  18057  20200318      2\n13  Hamilton County  18057  20200319      2\n14  Hamilton County  18057  20200320      5\n15  Hamilton County  18057  20200321     10\n16  Hamilton County  18057  20200322     18\n17  Hamilton County  18057  20200323     21\n18  Hamilton County  18057  20200324     25\n19  Hamilton County  18057  20200325     30\n20  Hamilton County  18057  20200326     40\n21  Hamilton County  18057  20200327     52\n22  Hamilton County  18057  20200328     64\n23  Hamilton County  18057  20200329     83\n24  Hamilton County  18057  20200330    106\n25  Hamilton County  18057  20200331    127\n26  Hamilton County  18057  20200401    179\n27  Hamilton County  18057  20200402    207\n28  Hamilton County  18057  20200403    220\n29  Hamilton County  18057  20200404    265\n30  Hamilton County  18057  20200405    300\n31  Hamilton County  18057  20200406    335\n32  Hamilton County  18057  20200407    363\n33  Hamilton County  18057  20200408    392\n34  Hamilton County  18057  20200409    395\n35  Hamilton County  18057  20200410    431\n36  Hamilton County  18057  20200411    443\n37  Hamilton County  18057  20200412    478\n38  Hamilton County  18057  20200413    490\n39  Hamilton County  18057  20200414    499\n40  Hamilton County  18057  20200415    510\n41  Hamilton County  18057  20200416    520>"
     },
     "metadata": {},
     "execution_count": 23
    }
   ],
   "source": [
    "Hamilton_covid.describe"
   ]
  },
  {
   "cell_type": "code",
   "execution_count": 24,
   "metadata": {},
   "outputs": [],
   "source": [
    "import pickle\n",
    "Hamilton_covid.to_pickle(\"Hamilton_covid.pkl\")"
   ]
  },
  {
   "cell_type": "code",
   "execution_count": 25,
   "metadata": {},
   "outputs": [],
   "source": [
    "Hamilton_covid.to_json('static/data/Hamilton_covid.json')"
   ]
  },
  {
   "cell_type": "code",
   "execution_count": 29,
   "metadata": {},
   "outputs": [],
   "source": [
    "import numpy as np\n",
    "Hendricks_covid = djv_melt.loc[djv_melt['County'].isin(['Hendricks County'])]\n",
    "Hendricks_covid = Hendricks_covid.reset_index(drop=True) \n",
    "Hendricks_covid.replace('', np.nan, inplace=True)\n",
    "Hendricks_covid.fillna(0, inplace=True)\n",
    "Hendricks_covid['Count'] = Hendricks_covid['Count'].astype(int)"
   ]
  },
  {
   "cell_type": "code",
   "execution_count": 31,
   "metadata": {},
   "outputs": [
    {
     "output_type": "execute_result",
     "data": {
      "text/plain": "<bound method NDFrame.describe of               County GEOGID      Date  Count\n0   Hendricks County  18063  20200306      0\n1   Hendricks County  18063  20200307      0\n2   Hendricks County  18063  20200308      1\n3   Hendricks County  18063  20200309      2\n4   Hendricks County  18063  20200310      2\n5   Hendricks County  18063  20200311      2\n6   Hendricks County  18063  20200312      2\n7   Hendricks County  18063  20200313      2\n8   Hendricks County  18063  20200314      2\n9   Hendricks County  18063  20200315      2\n10  Hendricks County  18063  20200316      3\n11  Hendricks County  18063  20200317      3\n12  Hendricks County  18063  20200318      4\n13  Hendricks County  18063  20200319      4\n14  Hendricks County  18063  20200320      4\n15  Hendricks County  18063  20200321      6\n16  Hendricks County  18063  20200322      8\n17  Hendricks County  18063  20200323     12\n18  Hendricks County  18063  20200324     13\n19  Hendricks County  18063  20200325     15\n20  Hendricks County  18063  20200326     21\n21  Hendricks County  18063  20200327     28\n22  Hendricks County  18063  20200328     36\n23  Hendricks County  18063  20200329     48\n24  Hendricks County  18063  20200330     58\n25  Hendricks County  18063  20200331     70\n26  Hendricks County  18063  20200401     91\n27  Hendricks County  18063  20200402    116\n28  Hendricks County  18063  20200403    138\n29  Hendricks County  18063  20200404    163\n30  Hendricks County  18063  20200405    177\n31  Hendricks County  18063  20200406    196\n32  Hendricks County  18063  20200407    225\n33  Hendricks County  18063  20200408    243\n34  Hendricks County  18063  20200409    256\n35  Hendricks County  18063  20200410    287\n36  Hendricks County  18063  20200411    301\n37  Hendricks County  18063  20200412    315\n38  Hendricks County  18063  20200413    330\n39  Hendricks County  18063  20200414    350\n40  Hendricks County  18063  20200415    360\n41  Hendricks County  18063  20200416    378>"
     },
     "metadata": {},
     "execution_count": 31
    }
   ],
   "source": [
    "Hendricks_covid.describe"
   ]
  },
  {
   "cell_type": "code",
   "execution_count": 32,
   "metadata": {},
   "outputs": [],
   "source": [
    "import pickle\n",
    ""
   ]
  },
  {
   "cell_type": "code",
   "execution_count": 34,
   "metadata": {},
   "outputs": [],
   "source": [
    "Hendricks_covid.to_pickle(\"Hendricks_covid.pkl\")"
   ]
  },
  {
   "cell_type": "code",
   "execution_count": 35,
   "metadata": {},
   "outputs": [],
   "source": [
    "Hendricks_covid.to_json('static/data/Hendricks_covid.json')"
   ]
  },
  {
   "cell_type": "code",
   "execution_count": null,
   "metadata": {},
   "outputs": [],
   "source": []
  }
 ],
 "metadata": {
  "kernelspec": {
   "display_name": "Python 3",
   "language": "python",
   "name": "python3"
  },
  "language_info": {
   "codemirror_mode": {
    "name": "ipython",
    "version": 3
   },
   "file_extension": ".py",
   "mimetype": "text/x-python",
   "name": "python",
   "nbconvert_exporter": "python",
   "pygments_lexer": "ipython3",
   "version": "3.7.6-final"
  }
 },
 "nbformat": 4,
 "nbformat_minor": 4
}