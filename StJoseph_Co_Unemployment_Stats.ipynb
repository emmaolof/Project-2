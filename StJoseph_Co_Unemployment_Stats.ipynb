{
 "cells": [
  {
   "cell_type": "code",
   "execution_count": 1,
   "metadata": {},
   "outputs": [],
   "source": [
    "import bls\n",
    "from blsconnect import RequestBLS, bls_search\n",
    "import pandas as pd\n",
    "from pandas import DataFrame, Series\n",
    "from bs4 import BeautifulSoup\n",
    "import requests\n",
    "import dateutil\n",
    "from datetime import datetime\n",
    "#import datetime\n",
    "import calendar\n",
    "dict((v,k) for k,v in enumerate(calendar.month_abbr)) #from dateutil.rrule import *\n",
    "#from dateutil.parser import *\n",
    "#from datetime import *\n",
    "import csv\n",
    "import numpy as np\n",
    "import matplotlib.pyplot as plt\n",
    "import matplotlib\n",
    "import json"
   ]
  },
  {
   "cell_type": "code",
   "execution_count": 2,
   "metadata": {},
   "outputs": [],
   "source": [
    "from config import BLS_API_KEY\n",
    "bls = RequestBLS(key = BLS_API_KEY)"
   ]
  },
  {
   "cell_type": "code",
   "execution_count": 3,
   "metadata": {},
   "outputs": [],
   "source": [
    "StJoseph_Co_unemployment_stats = pd.DataFrame(bls.series(['LAUCN181410000000003', 'LAUCN181410000000004', 'LAUCN181410000000005', 'LAUCN181410000000006'], 1990, 2020))"
   ]
  },
  {
   "cell_type": "code",
   "execution_count": 4,
   "metadata": {},
   "outputs": [
    {
     "data": {
      "text/html": [
       "<div>\n",
       "<style scoped>\n",
       "    .dataframe tbody tr th:only-of-type {\n",
       "        vertical-align: middle;\n",
       "    }\n",
       "\n",
       "    .dataframe tbody tr th {\n",
       "        vertical-align: top;\n",
       "    }\n",
       "\n",
       "    .dataframe thead th {\n",
       "        text-align: right;\n",
       "    }\n",
       "</style>\n",
       "<table border=\"1\" class=\"dataframe\">\n",
       "  <thead>\n",
       "    <tr style=\"text-align: right;\">\n",
       "      <th></th>\n",
       "      <th>Year</th>\n",
       "      <th>Period</th>\n",
       "      <th>periodName</th>\n",
       "      <th>Unemployment_Rate</th>\n",
       "      <th>Unemployed</th>\n",
       "      <th>Employed</th>\n",
       "      <th>Labor_Force</th>\n",
       "    </tr>\n",
       "  </thead>\n",
       "  <tbody>\n",
       "    <tr>\n",
       "      <td>0</td>\n",
       "      <td>1990</td>\n",
       "      <td>M01</td>\n",
       "      <td>January</td>\n",
       "      <td>5.4</td>\n",
       "      <td>6791</td>\n",
       "      <td>119402</td>\n",
       "      <td>126193</td>\n",
       "    </tr>\n",
       "    <tr>\n",
       "      <td>1</td>\n",
       "      <td>1990</td>\n",
       "      <td>M02</td>\n",
       "      <td>February</td>\n",
       "      <td>6.7</td>\n",
       "      <td>8512</td>\n",
       "      <td>118213</td>\n",
       "      <td>126725</td>\n",
       "    </tr>\n",
       "  </tbody>\n",
       "</table>\n",
       "</div>"
      ],
      "text/plain": [
       "   Year Period periodName  Unemployment_Rate  Unemployed  Employed  \\\n",
       "0  1990    M01    January                5.4        6791    119402   \n",
       "1  1990    M02   February                6.7        8512    118213   \n",
       "\n",
       "   Labor_Force  \n",
       "0       126193  \n",
       "1       126725  "
      ]
     },
     "execution_count": 4,
     "metadata": {},
     "output_type": "execute_result"
    }
   ],
   "source": [
    "#Clark_Co_unemployment_stats.index.names = ['Date']\n",
    "StJoseph_Co_unemployment_stats.columns = ['Year','Period','periodName','Unemployment_Rate', 'Unemployed', 'Employed','Labor_Force']\n",
    "StJoseph_Co_unemployment_stats.head(2)"
   ]
  },
  {
   "cell_type": "code",
   "execution_count": 5,
   "metadata": {},
   "outputs": [
    {
     "ename": "NameError",
     "evalue": "name 'Clark_Co_unemployment_stats' is not defined",
     "output_type": "error",
     "traceback": [
      "\u001b[1;31m---------------------------------------------------------------------------\u001b[0m",
      "\u001b[1;31mNameError\u001b[0m                                 Traceback (most recent call last)",
      "\u001b[1;32m<ipython-input-5-9dacb0dc86a6>\u001b[0m in \u001b[0;36m<module>\u001b[1;34m\u001b[0m\n\u001b[1;32m----> 1\u001b[1;33m \u001b[0mStJoseph_Co_unemployment_stats\u001b[0m\u001b[1;33m[\u001b[0m\u001b[1;34m'Year-Month'\u001b[0m\u001b[1;33m]\u001b[0m \u001b[1;33m=\u001b[0m \u001b[0mClark_Co_unemployment_stats\u001b[0m\u001b[1;33m[\u001b[0m\u001b[1;34m\"Year\"\u001b[0m\u001b[1;33m]\u001b[0m\u001b[1;33m.\u001b[0m\u001b[0mastype\u001b[0m\u001b[1;33m(\u001b[0m\u001b[0mstr\u001b[0m\u001b[1;33m)\u001b[0m \u001b[1;33m+\u001b[0m \u001b[1;34m\"-\"\u001b[0m \u001b[1;33m+\u001b[0m \u001b[0mStJoseph_Co_unemployment_stats\u001b[0m\u001b[1;33m[\u001b[0m\u001b[1;34m\"periodName\"\u001b[0m\u001b[1;33m]\u001b[0m\u001b[1;33m\u001b[0m\u001b[1;33m\u001b[0m\u001b[0m\n\u001b[0m\u001b[0;32m      2\u001b[0m \u001b[0mStJoseph_Co_unemployment_stats\u001b[0m\u001b[1;33m.\u001b[0m\u001b[0mhead\u001b[0m\u001b[1;33m(\u001b[0m\u001b[1;36m2\u001b[0m\u001b[1;33m)\u001b[0m\u001b[1;33m\u001b[0m\u001b[1;33m\u001b[0m\u001b[0m\n",
      "\u001b[1;31mNameError\u001b[0m: name 'Clark_Co_unemployment_stats' is not defined"
     ]
    }
   ],
   "source": [
    "StJoseph_Co_unemployment_stats['Year-Month'] = Clark_Co_unemployment_stats[\"Year\"].astype(str) + \"-\" + StJoseph_Co_unemployment_stats[\"periodName\"] \n",
    "StJoseph_Co_unemployment_stats.head(2)"
   ]
  },
  {
   "cell_type": "code",
   "execution_count": null,
   "metadata": {},
   "outputs": [],
   "source": [
    "StJoseph_Co_unemployment_stats.info()"
   ]
  },
  {
   "cell_type": "code",
   "execution_count": null,
   "metadata": {},
   "outputs": [],
   "source": [
    "StJoseph_Co_unemployment_stats['County'] = 'St. Joseph'"
   ]
  },
  {
   "cell_type": "code",
   "execution_count": null,
   "metadata": {},
   "outputs": [],
   "source": [
    "StJoseph_Co_unemployment_stats.head(2)"
   ]
  },
  {
   "cell_type": "code",
   "execution_count": null,
   "metadata": {},
   "outputs": [],
   "source": [
    "StJoseph_Co_unemployment_stats.to_json(r'json\\StJoseph_Co_unemployment_stats.json')"
   ]
  },
  {
   "cell_type": "code",
   "execution_count": null,
   "metadata": {},
   "outputs": [],
   "source": [
    "from sqlalchemy import create_engine\n",
    "db = create_engine('sqlite:///project2.sqlite')"
   ]
  },
  {
   "cell_type": "code",
   "execution_count": null,
   "metadata": {},
   "outputs": [],
   "source": [
    "StJoseph_Co_unemployment_stats.to_sql('CountyUnemployment', con=db)"
   ]
  },
  {
   "cell_type": "code",
   "execution_count": null,
   "metadata": {},
   "outputs": [],
   "source": [
    "StJoseph_Co_unemployment_stats = pd.read_sql_query('SELECT * FROM CountyUnemployment LIMIT 3',db)\n",
    "StJoseph_Co_unemployment_stats.head()"
   ]
  },
  {
   "cell_type": "code",
   "execution_count": null,
   "metadata": {},
   "outputs": [],
   "source": []
  }
 ],
 "metadata": {
  "kernelspec": {
   "display_name": "Python 3",
   "language": "python",
   "name": "python3"
  },
  "language_info": {
   "codemirror_mode": {
    "name": "ipython",
    "version": 3
   },
   "file_extension": ".py",
   "mimetype": "text/x-python",
   "name": "python",
   "nbconvert_exporter": "python",
   "pygments_lexer": "ipython3",
   "version": "3.7.4"
  }
 },
 "nbformat": 4,
 "nbformat_minor": 4
}
