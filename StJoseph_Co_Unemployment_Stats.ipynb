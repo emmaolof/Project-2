{
 "cells": [
  {
   "cell_type": "code",
   "execution_count": 1,
   "metadata": {},
   "outputs": [],
   "source": [
    "import bls\n",
    "from blsconnect import RequestBLS, bls_search\n",
    "import pandas as pd\n",
    "from pandas import DataFrame, Series\n",
    "from bs4 import BeautifulSoup\n",
    "import requests\n",
    "import dateutil\n",
    "from datetime import datetime\n",
    "#import datetime\n",
    "import calendar\n",
    "dict((v,k) for k,v in enumerate(calendar.month_abbr)) #from dateutil.rrule import *\n",
    "#from dateutil.parser import *\n",
    "#from datetime import *\n",
    "import csv\n",
    "import numpy as np\n",
    "import matplotlib.pyplot as plt\n",
    "import matplotlib\n",
    "import json"
   ]
  },
  {
   "cell_type": "code",
   "execution_count": 2,
   "metadata": {},
   "outputs": [],
   "source": [
    "from config import BLS_API_KEY\n",
    "bls = RequestBLS(key = BLS_API_KEY)"
   ]
  },
  {
   "cell_type": "code",
   "execution_count": 3,
   "metadata": {},
   "outputs": [],
   "source": [
    "StJoseph_Co_unemployment_stats = pd.DataFrame(bls.series(['LAUCN181410000000003', 'LAUCN181410000000004', 'LAUCN181410000000005', 'LAUCN181410000000006'], 2005, 2020))"
   ]
  },
  {
   "cell_type": "code",
   "execution_count": 4,
   "metadata": {},
   "outputs": [],
   "source": [
    "StJoseph_Co_unemployment_stats.columns = ['Year','Period','periodName','Unemployment_Rate', 'Unemployed', 'Employed','Labor_Force']"
   ]
  },
  {
   "cell_type": "code",
   "execution_count": 5,
   "metadata": {},
   "outputs": [],
   "source": [
    "StJoseph_Co_unemployment_stats['Year-Month'] = StJoseph_Co_unemployment_stats[\"Year\"].astype(str) + \"-\" + StJoseph_Co_unemployment_stats[\"periodName\"] "
   ]
  },
  {
   "cell_type": "code",
   "execution_count": 6,
   "metadata": {},
   "outputs": [],
   "source": [
    "StJoseph_Co_unemployment_stats['County'] = 'St. Joseph'"
   ]
  },
  {
   "cell_type": "code",
   "execution_count": 7,
   "metadata": {},
   "outputs": [
    {
     "data": {
      "text/html": [
       "<div>\n",
       "<style scoped>\n",
       "    .dataframe tbody tr th:only-of-type {\n",
       "        vertical-align: middle;\n",
       "    }\n",
       "\n",
       "    .dataframe tbody tr th {\n",
       "        vertical-align: top;\n",
       "    }\n",
       "\n",
       "    .dataframe thead th {\n",
       "        text-align: right;\n",
       "    }\n",
       "</style>\n",
       "<table border=\"1\" class=\"dataframe\">\n",
       "  <thead>\n",
       "    <tr style=\"text-align: right;\">\n",
       "      <th></th>\n",
       "      <th>Year</th>\n",
       "      <th>Period</th>\n",
       "      <th>periodName</th>\n",
       "      <th>Unemployment_Rate</th>\n",
       "      <th>Unemployed</th>\n",
       "      <th>Employed</th>\n",
       "      <th>Labor_Force</th>\n",
       "      <th>Year-Month</th>\n",
       "      <th>County</th>\n",
       "    </tr>\n",
       "  </thead>\n",
       "  <tbody>\n",
       "    <tr>\n",
       "      <td>0</td>\n",
       "      <td>2005</td>\n",
       "      <td>M01</td>\n",
       "      <td>January</td>\n",
       "      <td>5.8</td>\n",
       "      <td>7639</td>\n",
       "      <td>124436</td>\n",
       "      <td>132075</td>\n",
       "      <td>2005-January</td>\n",
       "      <td>St. Joseph</td>\n",
       "    </tr>\n",
       "    <tr>\n",
       "      <td>1</td>\n",
       "      <td>2005</td>\n",
       "      <td>M02</td>\n",
       "      <td>February</td>\n",
       "      <td>6.1</td>\n",
       "      <td>8098</td>\n",
       "      <td>124960</td>\n",
       "      <td>133058</td>\n",
       "      <td>2005-February</td>\n",
       "      <td>St. Joseph</td>\n",
       "    </tr>\n",
       "  </tbody>\n",
       "</table>\n",
       "</div>"
      ],
      "text/plain": [
       "   Year Period periodName  Unemployment_Rate  Unemployed  Employed  \\\n",
       "0  2005    M01    January                5.8        7639    124436   \n",
       "1  2005    M02   February                6.1        8098    124960   \n",
       "\n",
       "   Labor_Force     Year-Month      County  \n",
       "0       132075   2005-January  St. Joseph  \n",
       "1       133058  2005-February  St. Joseph  "
      ]
     },
     "execution_count": 7,
     "metadata": {},
     "output_type": "execute_result"
    }
   ],
   "source": [
    "StJoseph_Co_unemployment_stats.head(2)"
   ]
  },
  {
   "cell_type": "code",
   "execution_count": 8,
   "metadata": {},
   "outputs": [],
   "source": [
    "StJoseph_Co_unemployment_stats.to_json('json\\StJoseph_Co_unemployment_stats.json')"
   ]
  },
  {
   "cell_type": "code",
   "execution_count": 9,
   "metadata": {},
   "outputs": [],
   "source": [
    "from sqlalchemy import create_engine\n",
    "db = create_engine('sqlite:///project2.sqlite')"
   ]
  },
  {
   "cell_type": "code",
   "execution_count": 10,
   "metadata": {},
   "outputs": [],
   "source": [
    "StJoseph_Co_unemployment_stats.to_sql('CountyUnemployment', con=db, if_exists='append')"
   ]
  },
  {
   "cell_type": "code",
   "execution_count": 11,
   "metadata": {},
   "outputs": [
    {
     "data": {
      "text/html": [
       "<div>\n",
       "<style scoped>\n",
       "    .dataframe tbody tr th:only-of-type {\n",
       "        vertical-align: middle;\n",
       "    }\n",
       "\n",
       "    .dataframe tbody tr th {\n",
       "        vertical-align: top;\n",
       "    }\n",
       "\n",
       "    .dataframe thead th {\n",
       "        text-align: right;\n",
       "    }\n",
       "</style>\n",
       "<table border=\"1\" class=\"dataframe\">\n",
       "  <thead>\n",
       "    <tr style=\"text-align: right;\">\n",
       "      <th></th>\n",
       "      <th>index</th>\n",
       "      <th>Year</th>\n",
       "      <th>Period</th>\n",
       "      <th>periodName</th>\n",
       "      <th>Unemployment_Rate</th>\n",
       "      <th>Unemployed</th>\n",
       "      <th>Employed</th>\n",
       "      <th>Labor_Force</th>\n",
       "      <th>Year-Month</th>\n",
       "      <th>County</th>\n",
       "    </tr>\n",
       "  </thead>\n",
       "  <tbody>\n",
       "    <tr>\n",
       "      <td>0</td>\n",
       "      <td>0</td>\n",
       "      <td>1990</td>\n",
       "      <td>M01</td>\n",
       "      <td>January</td>\n",
       "      <td>5.2</td>\n",
       "      <td>2323</td>\n",
       "      <td>42443</td>\n",
       "      <td>44766</td>\n",
       "      <td>1990-January</td>\n",
       "      <td>Clark</td>\n",
       "    </tr>\n",
       "    <tr>\n",
       "      <td>1</td>\n",
       "      <td>1</td>\n",
       "      <td>1990</td>\n",
       "      <td>M02</td>\n",
       "      <td>February</td>\n",
       "      <td>5.5</td>\n",
       "      <td>2475</td>\n",
       "      <td>42407</td>\n",
       "      <td>44882</td>\n",
       "      <td>1990-February</td>\n",
       "      <td>Clark</td>\n",
       "    </tr>\n",
       "    <tr>\n",
       "      <td>2</td>\n",
       "      <td>2</td>\n",
       "      <td>1990</td>\n",
       "      <td>M03</td>\n",
       "      <td>March</td>\n",
       "      <td>6.4</td>\n",
       "      <td>2924</td>\n",
       "      <td>42505</td>\n",
       "      <td>45429</td>\n",
       "      <td>1990-March</td>\n",
       "      <td>Clark</td>\n",
       "    </tr>\n",
       "  </tbody>\n",
       "</table>\n",
       "</div>"
      ],
      "text/plain": [
       "   index  Year Period periodName  Unemployment_Rate  Unemployed  Employed  \\\n",
       "0      0  1990    M01    January                5.2        2323     42443   \n",
       "1      1  1990    M02   February                5.5        2475     42407   \n",
       "2      2  1990    M03      March                6.4        2924     42505   \n",
       "\n",
       "   Labor_Force     Year-Month County  \n",
       "0        44766   1990-January  Clark  \n",
       "1        44882  1990-February  Clark  \n",
       "2        45429     1990-March  Clark  "
      ]
     },
     "execution_count": 11,
     "metadata": {},
     "output_type": "execute_result"
    }
   ],
   "source": [
    "StJoseph_Co_unemployment_stats = pd.read_sql_query('SELECT * FROM CountyUnemployment LIMIT 3',db)\n",
    "StJoseph_Co_unemployment_stats.head()"
   ]
  },
  {
   "cell_type": "code",
   "execution_count": null,
   "metadata": {},
   "outputs": [],
   "source": []
  }
 ],
 "metadata": {
  "kernelspec": {
   "display_name": "Python 3",
   "language": "python",
   "name": "python3"
  },
  "language_info": {
   "codemirror_mode": {
    "name": "ipython",
    "version": 3
   },
   "file_extension": ".py",
   "mimetype": "text/x-python",
   "name": "python",
   "nbconvert_exporter": "python",
   "pygments_lexer": "ipython3",
   "version": "3.7.4"
  }
 },
 "nbformat": 4,
 "nbformat_minor": 4
}
