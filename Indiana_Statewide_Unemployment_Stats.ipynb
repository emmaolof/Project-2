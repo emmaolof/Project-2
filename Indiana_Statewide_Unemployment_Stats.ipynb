{
 "cells": [
  {
   "cell_type": "code",
   "execution_count": 1,
   "metadata": {},
   "outputs": [],
   "source": [
    "import bls\n",
    "from blsconnect import RequestBLS, bls_search\n",
    "import pandas as pd\n",
    "from pandas import DataFrame, Series\n",
    "from bs4 import BeautifulSoup\n",
    "import requests\n",
    "import dateutil\n",
    "from datetime import datetime\n",
    "#import datetime\n",
    "import calendar\n",
    "dict((v,k) for k,v in enumerate(calendar.month_abbr)) #from dateutil.rrule import *\n",
    "#from dateutil.parser import *\n",
    "#from datetime import *\n",
    "import csv\n",
    "import numpy as np\n",
    "import matplotlib.pyplot as plt\n",
    "import matplotlib\n",
    "import json"
   ]
  },
  {
   "cell_type": "code",
   "execution_count": 2,
   "metadata": {},
   "outputs": [],
   "source": [
    "from config import BLS_API_KEY\n",
    "bls = RequestBLS(key = BLS_API_KEY)"
   ]
  },
  {
   "cell_type": "code",
   "execution_count": 3,
   "metadata": {},
   "outputs": [],
   "source": [
    "Indiana_monthly_unemployment_stats = pd.DataFrame(bls.series(['LAUST180000000000003','LAUST180000000000004','LAUST180000000000005','LAUST180000000000006'\n",
    "                                                              ,'LAUST180000000000007','LAUST180000000000008','LAUST180000000000009'], 2005, 2020))"
   ]
  },
  {
   "cell_type": "code",
   "execution_count": 4,
   "metadata": {},
   "outputs": [],
   "source": [
    "Indiana_monthly_unemployment_stats.columns = ['Year','Period','periodName','Unemployment Rate','Unemployed','Employed','Labr Force'\n",
    "                                              ,'Employement-Population Ratio','Labor Force Participation Rate','Civilian Noninstitutional Population']"
   ]
  },
  {
   "cell_type": "code",
   "execution_count": 5,
   "metadata": {},
   "outputs": [],
   "source": [
    "Indiana_monthly_unemployment_stats['Year-Month'] = Indiana_monthly_unemployment_stats[\"Year\"].astype(str) + \"-\" + Indiana_monthly_unemployment_stats[\"periodName\"] "
   ]
  },
  {
   "cell_type": "code",
   "execution_count": 6,
   "metadata": {},
   "outputs": [],
   "source": [
    "Indiana_monthly_unemployment_stats['State'] = 'Indiana'"
   ]
  },
  {
   "cell_type": "code",
   "execution_count": 7,
   "metadata": {},
   "outputs": [
    {
     "data": {
      "text/html": [
       "<div>\n",
       "<style scoped>\n",
       "    .dataframe tbody tr th:only-of-type {\n",
       "        vertical-align: middle;\n",
       "    }\n",
       "\n",
       "    .dataframe tbody tr th {\n",
       "        vertical-align: top;\n",
       "    }\n",
       "\n",
       "    .dataframe thead th {\n",
       "        text-align: right;\n",
       "    }\n",
       "</style>\n",
       "<table border=\"1\" class=\"dataframe\">\n",
       "  <thead>\n",
       "    <tr style=\"text-align: right;\">\n",
       "      <th></th>\n",
       "      <th>Year</th>\n",
       "      <th>Period</th>\n",
       "      <th>periodName</th>\n",
       "      <th>Unemployment Rate</th>\n",
       "      <th>Unemployed</th>\n",
       "      <th>Employed</th>\n",
       "      <th>Labr Force</th>\n",
       "      <th>Employement-Population Ratio</th>\n",
       "      <th>Labor Force Participation Rate</th>\n",
       "      <th>Civilian Noninstitutional Population</th>\n",
       "      <th>Year-Month</th>\n",
       "      <th>State</th>\n",
       "    </tr>\n",
       "  </thead>\n",
       "  <tbody>\n",
       "    <tr>\n",
       "      <td>0</td>\n",
       "      <td>2005</td>\n",
       "      <td>M01</td>\n",
       "      <td>January</td>\n",
       "      <td>6.2</td>\n",
       "      <td>195090</td>\n",
       "      <td>2957759</td>\n",
       "      <td>3152849</td>\n",
       "      <td>62.5</td>\n",
       "      <td>66.6</td>\n",
       "      <td>4734369</td>\n",
       "      <td>2005-January</td>\n",
       "      <td>Indiana</td>\n",
       "    </tr>\n",
       "    <tr>\n",
       "      <td>1</td>\n",
       "      <td>2005</td>\n",
       "      <td>M02</td>\n",
       "      <td>February</td>\n",
       "      <td>6.5</td>\n",
       "      <td>206368</td>\n",
       "      <td>2962476</td>\n",
       "      <td>3168844</td>\n",
       "      <td>62.5</td>\n",
       "      <td>66.9</td>\n",
       "      <td>4736904</td>\n",
       "      <td>2005-February</td>\n",
       "      <td>Indiana</td>\n",
       "    </tr>\n",
       "  </tbody>\n",
       "</table>\n",
       "</div>"
      ],
      "text/plain": [
       "   Year Period periodName  Unemployment Rate  Unemployed  Employed  \\\n",
       "0  2005    M01    January                6.2      195090   2957759   \n",
       "1  2005    M02   February                6.5      206368   2962476   \n",
       "\n",
       "   Labr Force  Employement-Population Ratio  Labor Force Participation Rate  \\\n",
       "0     3152849                          62.5                            66.6   \n",
       "1     3168844                          62.5                            66.9   \n",
       "\n",
       "   Civilian Noninstitutional Population     Year-Month    State  \n",
       "0                               4734369   2005-January  Indiana  \n",
       "1                               4736904  2005-February  Indiana  "
      ]
     },
     "execution_count": 7,
     "metadata": {},
     "output_type": "execute_result"
    }
   ],
   "source": [
    "Indiana_monthly_unemployment_stats.head(2)"
   ]
  },
  {
   "cell_type": "code",
   "execution_count": 8,
   "metadata": {},
   "outputs": [],
   "source": [
    "Indiana_monthly_unemployment_stats.to_json('json\\Indiana_Statewide_unemployment_stats.json')"
   ]
  },
  {
   "cell_type": "code",
   "execution_count": 9,
   "metadata": {},
   "outputs": [],
   "source": [
    "from sqlalchemy import create_engine\n",
    "db = create_engine('sqlite:///project2.sqlite')"
   ]
  },
  {
   "cell_type": "code",
   "execution_count": 10,
   "metadata": {},
   "outputs": [],
   "source": [
    "Indiana_monthly_unemployment_stats.to_sql('Indiana_Statewide_unemployment_stats', con=db, if_exists='append')"
   ]
  },
  {
   "cell_type": "code",
   "execution_count": 11,
   "metadata": {},
   "outputs": [
    {
     "data": {
      "text/html": [
       "<div>\n",
       "<style scoped>\n",
       "    .dataframe tbody tr th:only-of-type {\n",
       "        vertical-align: middle;\n",
       "    }\n",
       "\n",
       "    .dataframe tbody tr th {\n",
       "        vertical-align: top;\n",
       "    }\n",
       "\n",
       "    .dataframe thead th {\n",
       "        text-align: right;\n",
       "    }\n",
       "</style>\n",
       "<table border=\"1\" class=\"dataframe\">\n",
       "  <thead>\n",
       "    <tr style=\"text-align: right;\">\n",
       "      <th></th>\n",
       "      <th>index</th>\n",
       "      <th>Year</th>\n",
       "      <th>Period</th>\n",
       "      <th>periodName</th>\n",
       "      <th>Unemployment Rate</th>\n",
       "      <th>Unemployed</th>\n",
       "      <th>Employed</th>\n",
       "      <th>Labr Force</th>\n",
       "      <th>Employement-Population Ratio</th>\n",
       "      <th>Labor Force Participation Rate</th>\n",
       "      <th>Civilian Noninstitutional Population</th>\n",
       "      <th>Year-Month</th>\n",
       "      <th>State</th>\n",
       "    </tr>\n",
       "  </thead>\n",
       "  <tbody>\n",
       "    <tr>\n",
       "      <td>0</td>\n",
       "      <td>0</td>\n",
       "      <td>2005</td>\n",
       "      <td>M01</td>\n",
       "      <td>January</td>\n",
       "      <td>6.2</td>\n",
       "      <td>195090</td>\n",
       "      <td>2957759</td>\n",
       "      <td>3152849</td>\n",
       "      <td>62.5</td>\n",
       "      <td>66.6</td>\n",
       "      <td>4734369</td>\n",
       "      <td>2005-January</td>\n",
       "      <td>Indiana</td>\n",
       "    </tr>\n",
       "    <tr>\n",
       "      <td>1</td>\n",
       "      <td>1</td>\n",
       "      <td>2005</td>\n",
       "      <td>M02</td>\n",
       "      <td>February</td>\n",
       "      <td>6.5</td>\n",
       "      <td>206368</td>\n",
       "      <td>2962476</td>\n",
       "      <td>3168844</td>\n",
       "      <td>62.5</td>\n",
       "      <td>66.9</td>\n",
       "      <td>4736904</td>\n",
       "      <td>2005-February</td>\n",
       "      <td>Indiana</td>\n",
       "    </tr>\n",
       "    <tr>\n",
       "      <td>2</td>\n",
       "      <td>2</td>\n",
       "      <td>2005</td>\n",
       "      <td>M03</td>\n",
       "      <td>March</td>\n",
       "      <td>6.0</td>\n",
       "      <td>189316</td>\n",
       "      <td>2976330</td>\n",
       "      <td>3165646</td>\n",
       "      <td>62.8</td>\n",
       "      <td>66.8</td>\n",
       "      <td>4739527</td>\n",
       "      <td>2005-March</td>\n",
       "      <td>Indiana</td>\n",
       "    </tr>\n",
       "  </tbody>\n",
       "</table>\n",
       "</div>"
      ],
      "text/plain": [
       "   index  Year Period periodName  Unemployment Rate  Unemployed  Employed  \\\n",
       "0      0  2005    M01    January                6.2      195090   2957759   \n",
       "1      1  2005    M02   February                6.5      206368   2962476   \n",
       "2      2  2005    M03      March                6.0      189316   2976330   \n",
       "\n",
       "   Labr Force  Employement-Population Ratio  Labor Force Participation Rate  \\\n",
       "0     3152849                          62.5                            66.6   \n",
       "1     3168844                          62.5                            66.9   \n",
       "2     3165646                          62.8                            66.8   \n",
       "\n",
       "   Civilian Noninstitutional Population     Year-Month    State  \n",
       "0                               4734369   2005-January  Indiana  \n",
       "1                               4736904  2005-February  Indiana  \n",
       "2                               4739527     2005-March  Indiana  "
      ]
     },
     "execution_count": 11,
     "metadata": {},
     "output_type": "execute_result"
    }
   ],
   "source": [
    "Indiana_monthly_unemployment_stats = pd.read_sql_query('SELECT * FROM Indiana_Statewide_unemployment_stats LIMIT 3',db)\n",
    "Indiana_monthly_unemployment_stats.head()"
   ]
  },
  {
   "cell_type": "code",
   "execution_count": null,
   "metadata": {},
   "outputs": [],
   "source": []
  }
 ],
 "metadata": {
  "kernelspec": {
   "display_name": "Python 3",
   "language": "python",
   "name": "python3"
  },
  "language_info": {
   "codemirror_mode": {
    "name": "ipython",
    "version": 3
   },
   "file_extension": ".py",
   "mimetype": "text/x-python",
   "name": "python",
   "nbconvert_exporter": "python",
   "pygments_lexer": "ipython3",
   "version": "3.7.4"
  }
 },
 "nbformat": 4,
 "nbformat_minor": 4
}
